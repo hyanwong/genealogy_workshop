{
 "cells": [
  {
   "cell_type": "markdown",
   "id": "cf73b357",
   "metadata": {},
   "source": [
    "## Further investigations: an example with real data\n",
    "\n",
    "Publicly available inferred tree sequences for a global human dataset of 7524 whole genomes, include a few ancient individuals such as Neanderthals and Denisovans, is available on <a href=\"https://zenodo.org/record/5512994\">Zenodo</a>. The genomes are primarily taken from the Thousand Genomes Project, the Simons Genome Diversity Project, and the Human Genome Diversity Project.\n",
    "\n",
    "It can be interesting to play with this data. The code below will download a compressed tree sequence of chromosome 2 (the \"q\" arm) from the public repository, and make it available as `ts_2q`."
   ]
  },
  {
   "cell_type": "code",
   "execution_count": null,
   "id": "ed31b382",
   "metadata": {},
   "outputs": [],
   "source": [
    "# Download the compressed tree sequence for human chromosome 2, q arm (~180Mb - may take a number of seconds)\n",
    "import urllib.request\n",
    "url = \"https://zenodo.org/record/5512994/files/hgdp_tgp_sgdp_high_cov_ancients_chr2_q.dated.trees.tsz\"\n",
    "with workbook.download(url) as t:\n",
    "    temporary_filename, _ = urllib.request.urlretrieve(url, reporthook=t.update_to)\n",
    "    print(\"Converting file...\")\n",
    "    ts_2q = workbook.convert_metadata_to_new_format( # only needed as the zenodo files currently have old-style metadata\n",
    "        tszip.decompress(temporary_filename))\n",
    "    urllib.request.urlcleanup() # remove temporary_filename"
   ]
  },
  {
   "cell_type": "markdown",
   "id": "d50565e4",
   "metadata": {},
   "source": [
    "The remaining code in the notebook is for readers who are interested in how to go about investigating specific genomic regions in real datasets. It illustrates plotting diversity in a region that has been previously identified as of interest in east and souteast asians (the <a href=\"https://en.wikipedia.org/wiki/Ectodysplasin_A_receptor\">EDAR gene</a>), in whom a particular SNP, rs3827760, is at much higher frequency than in the rest of the world."
   ]
  },
  {
   "cell_type": "code",
   "execution_count": null,
   "id": "eedd0091",
   "metadata": {},
   "outputs": [],
   "source": [
    "# Have a look at the populations defined in this tree sequence\n",
    "ts_2q.tables.populations"
   ]
  },
  {
   "cell_type": "code",
   "execution_count": null,
   "id": "2d6dd15c",
   "metadata": {},
   "outputs": [],
   "source": [
    "# For simplicity & speed of future analyis, truncate the tree sequence to flank EDAR (108_894_471..108_989_220)\n",
    "keep_region = [108_000_000, 110_000_000]\n",
    "edar_ts = ts_2q.keep_intervals([keep_region]).trim()\n",
    "print(edar_ts.num_trees, \"trees and\", edar_ts.num_sites, \"sites in the genomic region containing the EDAR1 gene\")\n",
    "edar_gene_bounds = np.array([108_894_471, 108_989_220]) - keep_region[0]"
   ]
  },
  {
   "cell_type": "code",
   "execution_count": null,
   "id": "dd672b79",
   "metadata": {},
   "outputs": [],
   "source": [
    "# Find the node IDs of the east asian samples\n",
    "east_asian_population_ids = np.array([\n",
    "    p.id\n",
    "    for p in edar_ts.populations()\n",
    "    if \"region\" in p.metadata and p.metadata[\"region\"] in ('EastAsia', \"EAST_ASIA\")\n",
    "])\n",
    "is_east_asian_sample = np.isin(edar_ts.tables.nodes.population, east_asian_population_ids)\n",
    "east_asian_samples = np.where(is_east_asian_sample)[0]"
   ]
  },
  {
   "cell_type": "code",
   "execution_count": null,
   "id": "25051698",
   "metadata": {},
   "outputs": [],
   "source": [
    "# Find the site with the interesting SNP, for plotting\n",
    "interesting_snp = \"rs3827760\"\n",
    "for s in edar_ts.sites():\n",
    "    if \"ID\" in s.metadata and s.metadata[\"ID\"] == interesting_snp:\n",
    "        print(f\"SNP id {interesting_snp} is at site {s.id}\")\n",
    "        interesting_site_id = s.id\n",
    "        break\n",
    "\n",
    "# Plot the diversity in everyone vs east asians\n",
    "fig, (ax1, ax2) = plt.subplots(ncols=2, figsize=(15, 3))\n",
    "plt.subplots_adjust(wspace=0.3)\n",
    "\n",
    "window_locations, step = np.linspace(0, edar_ts.sequence_length, num=101, retstep=True)\n",
    "diversity_site = edar_ts.diversity(windows=window_locations)\n",
    "eas_diversity_site = edar_ts.diversity(sample_sets=east_asian_samples, windows=window_locations)\n",
    "diversity_branch = edar_ts.diversity(windows=window_locations, mode=\"branch\")\n",
    "eas_diversity_branch = edar_ts.diversity(sample_sets=east_asian_samples, windows=window_locations, mode=\"branch\")\n",
    "\n",
    "ax1.axvspan(edar_gene_bounds[0], edar_gene_bounds[1], color=\"lightgray\")\n",
    "ax1.stairs(diversity_site, window_locations, baseline=None, label=\"all samples\")\n",
    "ax1.stairs(eas_diversity_site, window_locations, baseline=None, label=\"east asian\\nsamples\")\n",
    "ax1.set_xlabel(\"Genome position (bp)\")\n",
    "ax1.set_ylabel(f\"Average proportion of sites\\nthat vary between pairs\")\n",
    "ax1.axvline(edar_ts.site(interesting_site_id).position, ls=\":\")\n",
    "\n",
    "ax1.legend()\n",
    "\n",
    "# Genealogical equivalent (mode=\"branch\")\n",
    "ax2.axvspan(edar_gene_bounds[0], edar_gene_bounds[1], color=\"lightgray\")\n",
    "ax2.stairs(diversity_branch, window_locations, baseline=None, label=\"all samples\")\n",
    "ax2.stairs(eas_diversity_branch, window_locations, baseline=None, label=\"east asian\\nsamples\")\n",
    "ax2.set_xlabel(\"Genome position (bp)\")\n",
    "ax2.set_ylabel(f\"Genealogical equivalent\\n(av. branch length between pairs)\")\n",
    "ax2.axvline(edar_ts.site(interesting_site_id).position, ls=\":\")\n",
    "\n",
    "plt.suptitle(\n",
    "    r\"Genetic diversity ($\\pi$) in the EDAR gene (grey), \"\n",
    "    f\"plotted in {step/1000:.0f} Kb windows \"\n",
    "    f\"(dotted line gives position of {interesting_snp})\"\n",
    ")\n",
    "plt.show()"
   ]
  },
  {
   "cell_type": "markdown",
   "id": "11f9c884",
   "metadata": {},
   "source": [
    "Although not conclusive, it seems like the branch length diversity shows a drop in east asians in the region in front of the gene, possibly a sign of local selection on an east-asian specific variant such as rs3827760. It would be interesting to examine the [genealogical nearest neighbours](https://tskit.dev/tskit/docs/stable/python-api.html#tskit.TreeSequence.genealogical_nearest_neighbours) of the Denisovan individual in this region. As they say, \"this exercise is left for the reader\"."
   ]
  },
  {
   "cell_type": "code",
   "execution_count": null,
   "id": "4a6d758a",
   "metadata": {},
   "outputs": [],
   "source": []
  }
 ],
 "metadata": {
  "kernelspec": {
   "display_name": "Python 3",
   "language": "python",
   "name": "python3"
  },
  "language_info": {
   "codemirror_mode": {
    "name": "ipython",
    "version": 3
   },
   "file_extension": ".py",
   "mimetype": "text/x-python",
   "name": "python",
   "nbconvert_exporter": "python",
   "pygments_lexer": "ipython3",
   "version": "3.9.9"
  }
 },
 "nbformat": 4,
 "nbformat_minor": 5
}
