{
 "cells": [
  {
   "cell_type": "code",
   "execution_count": null,
   "id": "c1cf8483",
   "metadata": {},
   "outputs": [],
   "source": [
    "# Please execute this cell (shift+<Return>) before starting the workbook\n",
    "# this should print out \"Your notebook is ready to go\"\n",
    "from IPython.display import HTML, SVG, display\n",
    "import genealogical_analysis_workshop\n",
    "\n",
    "workbook = genealogical_analysis_workshop.setup_workbook1()\n",
    "display(HTML(workbook.css))\n",
    "print(\"Your notebook is ready to go\")"
   ]
  },
  {
   "cell_type": "markdown",
   "id": "21c11c00",
   "metadata": {},
   "source": [
    "# Getting started with `tskit`, the tree sequence toolkit.\n",
    "\n",
    "The `tskit` library is a powerful software library that can be used to deal with population-scale genomic data. It does so by efficiently storing and processing genetic genealogies and ancestral recombination graphs (ARGs) in the <a href=\"https://tskit.dev/tutorials/what_is.html\">succinct tree sequence</a> format. There is extensive <a href=\"https://tskit.dev/tskit/docs/stable/introduction.html\">online documentation</a> along with a set of <a href=\"https://tskit.dev/tutorials/intro.html\">online tutorials</a>, one of which <a href=\"https://tskit.dev/tutorials/getting_started.html\">forms the rough basis</a> for this workbook.\n",
    "\n",
    "This workbook provides a number of programming exercises to complete using `tskit`, some of which have associated questions to test your understanding. Exercises are marked like this:\n",
    "\n",
    "<dl>\n",
    "<dt>Exercise XXX</dt>\n",
    "<dd>Here is an exercise: normally there will be a code cell below this box for you to work in</dd>\n",
    "</dl>\n",
    "\n",
    "Genetic genealogies in the form of tree sequences can be obtained by simulation or inference from real data. In the next practical we shall explore both methods. However, for the time being, we will simply work on a pre-existing tree sequences from a simple simulation of selection on a 1Mb section of genome. If you have time at the end, there is also opportunity to look at another tree sequence inferred from a large human dataset.\n",
    "<div class=\"alert alert-block alert-info\">\n",
    "    <b>Note:</b> This workbook uses the tskit <a href=\"https://tskit.dev/tskit/docs/stable/python-api.html#sec-python-api\">Python API</a> so assumes a basic knowledge of Python, but it's also possible to\n",
    "<a href=\"https://tskit.dev/tutorials/tskitr.html\">use R</a>, or access the API in other languages, notably\n",
    "<a href=\"https://tskit.dev/tskit/docs/stable/c-api.html#sec-c-api\">C</a> and <a href=\"https://github.com/tskit-dev/tskit-rust\">Rust</a>.\n",
    "</div>\n",
    "\n"
   ]
  },
  {
   "cell_type": "code",
   "execution_count": null,
   "id": "ec0e0713",
   "metadata": {},
   "outputs": [],
   "source": [
    "import tskit\n",
    "ts = tskit.load(\"simulated.trees\")\n",
    "print(\"Loaded the tree sequence into a variable called `ts`\")"
   ]
  },
  {
   "cell_type": "markdown",
   "id": "0dd36864",
   "metadata": {},
   "source": [
    "In a Jupyter notebook, the output of the final command in a cell is output to screen.\n",
    "When a tree sequence instance is output in this way, a nicely formatted summary should be printed out. Try it below:"
   ]
  },
  {
   "cell_type": "code",
   "execution_count": null,
   "id": "a56bd52a",
   "metadata": {},
   "outputs": [],
   "source": [
    "# Display `ts` to the screen (formatted nicely in a Jupyter notebook)\n",
    "ts"
   ]
  },
  {
   "cell_type": "markdown",
   "id": "519d66b1",
   "metadata": {},
   "source": [
    "## Tree sequence attributes\n",
    "\n",
    "Various useful properties of the tree sequence have been printed out above, such as the number of trees, the number of sample nodes (i.e. sampled genomes), the sequence length (conventionally interpreted as the number of base pairs), etc. They are available as Python attributes:"
   ]
  },
  {
   "cell_type": "code",
   "execution_count": null,
   "id": "71afb50f",
   "metadata": {},
   "outputs": [],
   "source": [
    "print(ts.num_trees, \"trees\")\n",
    "print(ts.num_samples, \"sample nodes (i.e. sampled genomes)\")\n",
    "print(\"Sequence length is\", ts.sequence_length, \"bp\")"
   ]
  },
  {
   "cell_type": "markdown",
   "id": "3de70cd3",
   "metadata": {},
   "source": [
    "The summary above also prints information on the basic entities in the tree sequence, such as nodes and edges, sites and mutations, and individuals and populations, which are stored in [tables](https://tskit.dev/tutorials/tables_and_editing.html#correspondence-between-tables-and-trees).\n",
    "\n",
    "<dl><dt>Exercise 1</dt>\n",
    "<dd>Modify the code cell below to print out not just the number of nodes, but also the number of edges, sites and mutations (and check it corresponds to the counts reported in the summary above).</dd></dl>"
   ]
  },
  {
   "cell_type": "code",
   "execution_count": null,
   "id": "24a0fab9",
   "metadata": {},
   "outputs": [],
   "source": [
    "# Exercise 1: modify me\n",
    "print(\"Tree sequence has\", ts.num_nodes, \"nodes, of which\", ts.num_samples, 'are \"sample nodes\"')\n"
   ]
  },
  {
   "cell_type": "code",
   "execution_count": null,
   "id": "c92484b1",
   "metadata": {},
   "outputs": [],
   "source": [
    "workbook.Q1()"
   ]
  },
  {
   "cell_type": "markdown",
   "id": "ac76cbe9",
   "metadata": {},
   "source": [
    "## Tree sequence entities\n",
    "\n",
    "<code>Tskit</code> provides some helpful methods for accessing information about the basic entities in a tree sequence. For example <code>ts.node(7)</code> will return a <a href=\"https://tskit.dev/tskit/docs/stable/python-api.html#tskit.Node\">node object</a> that contains information about node 7, whereas <code>ts.nodes()</code> will iterate over all the node objects in the tree sequence.\n",
    "\n",
    "Similarly, <code>ts.site(9)</code> will return a single <a href=\"\">site object</a> and <code>ts.sites()</code> with iterate over all the sites."
   ]
  },
  {
   "cell_type": "markdown",
   "id": "ac1aa9f7",
   "metadata": {},
   "source": [
    "<dl><dt>Exercise 2</dt>\n",
    "<dd>Use the tree sequence `.site()` method to look at sites 11 and 12</dd>\n",
    "</dl>"
   ]
  },
  {
   "cell_type": "code",
   "execution_count": null,
   "id": "1f22a0e5",
   "metadata": {},
   "outputs": [],
   "source": [
    "# Exercise 2: print out the site object for site 11 and again for site 12\n"
   ]
  },
  {
   "cell_type": "code",
   "execution_count": null,
   "id": "c4d87ac4",
   "metadata": {},
   "outputs": [],
   "source": [
    "workbook.Q2()"
   ]
  },
  {
   "cell_type": "markdown",
   "id": "e8d3f0ba",
   "metadata": {},
   "source": [
    "### Getting hold of a tree\n",
    "\n",
    "The trees in a tree sequence are constructed from the nodes and edges. There are a few different ways to access a tree from the tree sequence, all of which return a <a href=\"https://tskit.dev/tskit/docs/stable/python-api.html#tskit.Tree\">Tree</a> object. When output in a notebook, a summary of the tree is shown, rather than the tree itself plotted (which can be unwieldy for tree sequences of thousands of samples)."
   ]
  },
  {
   "cell_type": "code",
   "execution_count": null,
   "id": "1bdd1400",
   "metadata": {},
   "outputs": [],
   "source": [
    "ts.first()  # The first tree in the tree sequence (tree number 0)"
   ]
  },
  {
   "cell_type": "code",
   "execution_count": null,
   "id": "774e3ead",
   "metadata": {},
   "outputs": [],
   "source": [
    "ts.at(100000) # The tree at position 100Kb: this is tree number 6 (i.e. it is the 7th tree)"
   ]
  },
  {
   "cell_type": "code",
   "execution_count": null,
   "id": "b44b7bf1",
   "metadata": {},
   "outputs": [],
   "source": [
    "tree = ts.last()\n",
    "print(f\"The last tree (index {tree.index}) covers bases {tree.interval.left} to {tree.interval.right}\\n\")\n",
    "\n",
    "# The `breakpoints` method is a quick way to get the genomic positions (\"intervals\") of all the trees\n",
    "print(f\"The breakpoints along the genome between the {ts.num_trees} trees are at the following positions:\")\n",
    "print(f\" {ts.breakpoints(as_array=True)}\")"
   ]
  },
  {
   "cell_type": "markdown",
   "id": "822acca2",
   "metadata": {},
   "source": [
    "## Visualising a tree\n",
    "\n",
    "To visualise the tree topology you can use either text or Scalable Vector Graphic (SVG) format:"
   ]
  },
  {
   "cell_type": "code",
   "execution_count": null,
   "id": "cbf4694a",
   "metadata": {},
   "outputs": [],
   "source": [
    "tree = ts.first()\n",
    "print(tree.draw_text())  # Text format: numbers are node IDs, branch lengths are not particularly meaningful"
   ]
  },
  {
   "cell_type": "code",
   "execution_count": null,
   "id": "db20542d",
   "metadata": {},
   "outputs": [],
   "source": [
    "svg_text = tree.draw_svg()  # Create an SVG string (the default may look messy when there are lots of samples)\n",
    "display(SVG(svg_text))  # plot the SVG string in a Jupyter notebook"
   ]
  },
  {
   "cell_type": "markdown",
   "id": "e56b87b4",
   "metadata": {},
   "source": [
    "In the SVG format, the nodes are marked in black and numbered by node ID. Squares are used for nodes whose genomes we have sampled.\n",
    "Mutations, on the other hand, are plotted as red crosses, with the red mutation ID beside them.\n",
    "<div class=\"alert alert-block alert-info\"><b>Note:</b>\n",
    "Often in these trees, the terminal branches are very short, and the height of the nodes is best plotted on a log scale. This can be done using <code>draw_svg(..., time_scale=\"log_time\")</code>. You can try this above if you like.\n",
    "    \n",
    "Many other formatting options are possible, some of which we use below. To look at the help for a function like `draw_svg()` you can type `help(tskit.Tree.draw_svg)` or `?tskit.Tree.draw_svg` in a jupyter notebook, or examine the documentation <a href=\"https://tskit.dev/tskit/docs/stable/python-api.html#tskit.Tree.draw_svg\">here</a>. The <a href=\"https://tskit.dev/tutorials/viz.html\">visualization tutorial</a> also gives more guidance. \n",
    "</div>"
   ]
  },
  {
   "cell_type": "markdown",
   "id": "2fc5afc3",
   "metadata": {},
   "source": [
    "<dl><dt>Exercise 3</dt>\n",
    "<dd>Plot the first tree in SVG format, and underneath it plot the tree at position 400 Kb, adding the following parameters to each `draw_svg()` call to produce nicer formatting:\n",
    "\n",
    "* `size=(500, 500)` – to plot the SVG 500 pixels wide and 500 pixels high\n",
    "* `y_axis=True` – to show a y (time) axis\n",
    "* `y_ticks=[0, 100, 200, 500, 1000, 2000]` – to use nice tick marks on the y axis\n",
    "\n",
    "</dd></dl>"
   ]
  },
  {
   "cell_type": "code",
   "execution_count": null,
   "id": "549d69d1",
   "metadata": {},
   "outputs": [],
   "source": [
    "# Exercise 3: use draw_svg() to create two SVG trees (the first in the tree sequence and the one at\n",
    "# position 400Kb), and plot them by calling display(SVG(...)) twice. They should look quite different\n"
   ]
  },
  {
   "cell_type": "code",
   "execution_count": null,
   "id": "b14df70d",
   "metadata": {},
   "outputs": [],
   "source": [
    "workbook.Q3()"
   ]
  },
  {
   "cell_type": "markdown",
   "id": "ef9992ee",
   "metadata": {},
   "source": [
    "<dl><dt>Exercise 4</dt>\n",
    "<dd>You can find details of a particular node (e.g. node 9) using <code>ts.node(9)</code>. Use this to find the age of the root (i.e. oldest) node shown in first tree. \n",
    "<div class=\"alert alert-block alert-info\"><b>Tip:</b>\n",
    "    You can check that you have the right node ID by using <code>tree.root</code>.</div>\n",
    "</dd></dl>"
   ]
  },
  {
   "cell_type": "code",
   "execution_count": null,
   "id": "ce4b62a8",
   "metadata": {},
   "outputs": [],
   "source": [
    "# Exercise 4: print out the age (in generations ago) of the oldest node in the first tree\n"
   ]
  },
  {
   "cell_type": "code",
   "execution_count": null,
   "id": "2d309137",
   "metadata": {},
   "outputs": [],
   "source": [
    "workbook.Q4()"
   ]
  },
  {
   "cell_type": "markdown",
   "id": "a5afd627",
   "metadata": {},
   "source": [
    "Alternatively, you could have printed out the underlying *node table* and looked up the times there. You can get a read-only view of the tables that underly a tree sequence by using the `.tables` attribute:"
   ]
  },
  {
   "cell_type": "code",
   "execution_count": null,
   "id": "4eb3489e",
   "metadata": {},
   "outputs": [],
   "source": [
    "ts.tables.nodes"
   ]
  },
  {
   "cell_type": "markdown",
   "id": "ec8167ea",
   "metadata": {},
   "source": [
    "## Visualising entire tree sequences\n",
    "\n",
    "It is also possible to plot out all the trees in a tree sequence. When a tree sequence is plotted like this, alternate background shading is used to indicate the region covered by each tree, and by default an x-axis is plotted, with the ticks below showing the breakpoints between trees, and ticks above showing sites with their mutations (red fleches)."
   ]
  },
  {
   "cell_type": "code",
   "execution_count": null,
   "id": "e1d4b440",
   "metadata": {},
   "outputs": [],
   "source": [
    "svg_text = ts.draw_svg()\n",
    "display(SVG(svg_text))  # You will have to scroll right in the output to see all the trees"
   ]
  },
  {
   "cell_type": "markdown",
   "id": "02abf7ab",
   "metadata": {},
   "source": [
    "However, even in this small tree sequence, plotting out all the trees is a bit unwieldy, and if you have many more samples or trees, this sort of plot quickly becomes overwhelming.\n",
    "\n",
    "One way to reduce the amount of data being plotted is to visualise only a restricted region of the sequence, for instance only the middle of the genome (e.g. between 400 and 600 Kb, which only contains 6 trees). When plotting in SVG format, this can be done by using the `x_lim` parameter (you can ignore the extra svg parameters defined below, which are simply to aid formatting)"
   ]
  },
  {
   "cell_type": "code",
   "execution_count": null,
   "id": "2cc3231f",
   "metadata": {},
   "outputs": [],
   "source": [
    "# You can largely ignore the `extra_svg_params` variable defined below: it's just to format nicer plots here\n",
    "extra_svg_params = dict(\n",
    "    size=(950, 350),\n",
    "    root_svg_attributes={\"class\": workbook.small_class},\n",
    "    style=workbook.small_style,\n",
    "    y_axis=True,\n",
    "    y_ticks=[0, 100, 200, 500, 1000, 2000, 5000, 10000],\n",
    "    y_gridlines=True,\n",
    ")\n",
    "\n",
    "svg_text = ts.draw_svg(x_lim=(400_000, 600_000), time_scale=\"log_time\", **extra_svg_params)\n",
    "display(SVG(svg_text))"
   ]
  },
  {
   "cell_type": "markdown",
   "id": "8f01ea0a",
   "metadata": {},
   "source": [
    "Instead of using `x_lim`, if you want to work with only the trees in that restricted region, you can create a new tree sequence by removing genealogical information (i.e. deleting the trees) to the right and left. This gives more-or-less the same plot (spot the differences, though!)"
   ]
  },
  {
   "cell_type": "code",
   "execution_count": null,
   "id": "261f2f84",
   "metadata": {},
   "outputs": [],
   "source": [
    "deleted_data_ts = ts.delete_intervals([[0, 400_000], [600_000, 1000_000]])\n",
    "\n",
    "print(\n",
    "    \"After deleting flanking information, the tree sequence now has only\",\n",
    "    deleted_data_ts.num_trees,\n",
    "    \"trees,\",\n",
    "    deleted_data_ts.num_nodes,\n",
    "    \"nodes and\",\n",
    "    deleted_data_ts.num_sites,\n",
    "    \"sites.\"\n",
    ")\n",
    "\n",
    "# No x_lim parameter needed: by default we don't plot empty flanking regions\n",
    "svg_text = deleted_data_ts.draw_svg(time_scale=\"log_time\", **extra_svg_params)\n",
    "display(SVG(svg_text))"
   ]
  },
  {
   "cell_type": "markdown",
   "id": "0d246640",
   "metadata": {},
   "source": [
    "## Simplification\n",
    "\n",
    "The powerful `.simplify()` method can be used to remove samples from the tree sequence, retaining only the ancestry of a specified set of sample nodes. There are many important uses of this function, for example when running forwards-in-time simulations. Below we simply use it to reduce the amount of data we need to display. "
   ]
  },
  {
   "cell_type": "code",
   "execution_count": null,
   "id": "e004b012",
   "metadata": {},
   "outputs": [],
   "source": [
    "# Simplify ts to retain only the ancestry of samples 5..9\n",
    "simple_ts = ts.simplify(samples=[5, 6, 7, 8, 9])  # This loses lots of information, but allows nicer plots\n",
    "\n",
    "svg_text = simple_ts.draw_svg(**extra_svg_params)\n",
    "\n",
    "display(SVG(svg_text))"
   ]
  },
  {
   "cell_type": "markdown",
   "id": "f132db7e",
   "metadata": {},
   "source": [
    "<div class=\"alert alert-block alert-info\"><b>Note:</b>\n",
    "You may notice in these trees that the branch above all the remaining samples may retain mutations (particularly visible in the rightmost tree. These \"root mutations\" are fixed (i.e. present in all the samples), so do not appear to create genetic variation between samples.</div>"
   ]
  },
  {
   "cell_type": "markdown",
   "id": "8f5bb81d",
   "metadata": {},
   "source": [
    "## Metadata\n",
    "\n",
    "When either deleting genealogical data or simplifying, you are likely to remove some nodes, edges, sites, and mutations. In turn this means that many of the IDs in the tree sequence can changed (for example the sample node IDs have changed in the simplified tree sequence above). If you ever expect to use a modified version of a tree sequence, you can't rely on the IDs of nodes, sites, etc. staying the same.\n",
    "\n",
    "For this reason, `tskit` allows arbitrary *metadata* to be associated with entities in a tree sequence. For example, variable sites might have a unique name, such as a reference SNP (\"rs\") ID: there's an example of this at the end of this workbook. A detailed description of metadata in `tskit` is provided in the metadata [documentation](https://tskit.dev/tskit/docs/stable/metadata.html) and [tutorial](https://tskit.dev/tutorials/metadata.html). This workbook merely scratches the surface of what is possible.\n",
    "\n",
    "\n",
    "As we are about to see, one particularly helpful use of metadata is to allocate names to *individuals* in a tree sequence."
   ]
  },
  {
   "cell_type": "markdown",
   "id": "f731dca7",
   "metadata": {},
   "source": [
    "## Individuals and populations\n",
    "\n",
    "Often nodes (particularly sample nodes) are associated with *individuals* who have had their genomes sequenced. In many cases, individual organisms are diploid, hence each sequenced organism provides *two* sample nodes or genomes (one maternal and one paternal). It can be helpful not only to associate a sample node with an individual, but also to give the individuals *names* (stored in the individuals' metadata).\n",
    "\n",
    "Similarly, nodes can also be associated with *populations*. `Tskit` has a populations table to contain information about such populations"
   ]
  },
  {
   "cell_type": "code",
   "execution_count": null,
   "id": "4ac9b98b",
   "metadata": {},
   "outputs": [],
   "source": [
    "# This is a very useful way to get the IDs of the sample nodes\n",
    "sample_node_ids = ts.samples()\n",
    "\n",
    "# Here we print out the information for each sample node\n",
    "for node_id in sample_node_ids:\n",
    "    print(ts.node(node_id))"
   ]
  },
  {
   "cell_type": "markdown",
   "id": "c1164862",
   "metadata": {},
   "source": [
    "You can see from the output that node 0 is associated with individual 0, while (say) node 10 is associated with individual 5. We can look at the these individual ids in the individuals table:"
   ]
  },
  {
   "cell_type": "markdown",
   "id": "dc513c70",
   "metadata": {},
   "source": [
    "<dl><dt>Exercise 5</dt>\n",
    "<dd>Display the individuals and populations table for the original tree sequence</dd>\n",
    "</dl>"
   ]
  },
  {
   "cell_type": "code",
   "execution_count": null,
   "id": "4a007098",
   "metadata": {},
   "outputs": [],
   "source": [
    "# Exercise 5a: Display the individuals table\n"
   ]
  },
  {
   "cell_type": "code",
   "execution_count": null,
   "id": "df0826b5",
   "metadata": {},
   "outputs": [],
   "source": [
    "workbook.Q5a()"
   ]
  },
  {
   "cell_type": "code",
   "execution_count": null,
   "id": "3316a378",
   "metadata": {},
   "outputs": [],
   "source": [
    "# Exercise 5b: Display the populations table\n"
   ]
  },
  {
   "cell_type": "code",
   "execution_count": null,
   "id": "1c377ff2",
   "metadata": {},
   "outputs": [],
   "source": [
    "workbook.Q5b()"
   ]
  },
  {
   "cell_type": "markdown",
   "id": "ff9956f0",
   "metadata": {},
   "source": [
    "In the case above, the individual's metadata is stored in a Python dictionary, with a <code>name</code> key. The name of (say) individual 7 can therefore be obtained from the metadata by <code>ts.individual(7).metadata[\"name\"]</code>\n",
    "\n",
    "<div class=\"alert alert-block alert-info\"><b>Tip:</b>\n",
    "    Metadata can be used, for example, to label the sample nodes in a tree visualization with the name of the individual from whom they came. An example of this is provided in the <a href=\"https://tskit.dev/tutorials/terminology_and_concepts.html#individuals-and-populations\">online tutorials</a>.</div>"
   ]
  },
  {
   "cell_type": "markdown",
   "id": "d84696a2",
   "metadata": {},
   "source": [
    "## Processing variants\n",
    "\n",
    "When dealing with genomic data, it is common to want to move along the genome, looking at the genetic variation at a number of variable sites. Often there are thousands or millions of variable sites along the genome, so instead of dealing with the variation in all the sites at once, we treat them one-by-one along the genome.\n",
    "\n",
    "\n",
    "The <code>tskit</code> library gains efficiency in storage and processing by using the trees along the genome to effectively *compress* genetic variation data. The tree sequence `.variants()` method iterates over all the sites in the tree sequence, each time returning a <a href=\"\">Variant</a> object in which the genetic variation has been decoded. A variant object has three main properties: `.site`, `.alleles` and `.genotypes`:"
   ]
  },
  {
   "cell_type": "code",
   "execution_count": null,
   "id": "aacc41ea",
   "metadata": {},
   "outputs": [],
   "source": [
    "# For brevity, illustrate using the simplified_ts which has only 5 samples\n",
    "for v in simple_ts.variants():\n",
    "    print(\n",
    "        \"Site\",\n",
    "        v.site.id,  # v.site is just a reference to the appropriate site object, e.g. the same as ts.site(0)\n",
    "        f\"(pos {v.site.position}):\", \n",
    "        v.alleles,\n",
    "        v.genotypes, # the decoded variation data\n",
    "    )"
   ]
  },
  {
   "cell_type": "markdown",
   "id": "80923152",
   "metadata": {},
   "source": [
    "The `.genotypes` array contains the decoded genetic data: i.e. the genetic information for each sample at the given site. This is slightly different from the \"genotypes\" output by many other bioinformatic packages, in 2 ways:\n",
    "\n",
    "1. Each entry is the genotype of a single sampled haploid genome. A diploid individual will therefore be represented by 2 entries in the array\n",
    "2. For efficiency reasons, values in the genotypes array are numbers, not letters like A, T, G, or C.\n",
    "\n",
    "The genotype value is an index into the `.alleles` array (or `-1` for missing data). In this case, for example, the first four samples in the simplified tree sequence have the allele `A` whereas the fifth has `C`. In this example all the alleles are single letters, but it is also possible to an allele with more or fewer letters, representing insertions or deletions.\n",
    "\n",
    "Often the numbers in the `.genotypes` array are enough for analysis, but you want the alleles themselves, you need to index into the `alleles` list by hand:"
   ]
  },
  {
   "cell_type": "code",
   "execution_count": null,
   "id": "775b2b23",
   "metadata": {},
   "outputs": [],
   "source": [
    "import numpy as np\n",
    "\n",
    "last_variant = v  # the last variant used in the loop above\n",
    "print(\"Last variant: \", v.site.position, v.alleles, v.genotypes, \"\\n\")\n",
    "site = last_variant.site\n",
    "genotypes = last_variant.genotypes\n",
    "allele_array = np.array(last_variant.alleles)  # Convert to a numpy array to allow access by index\n",
    "\n",
    "print(f\"Genetic variation at last site (position {site.position}) is:\")\n",
    "print(allele_array[genotypes])\n",
    "\n",
    "print(\"\\n... or more verbosely\\n\")\n",
    "for sample_id, genotype in zip(simple_ts.samples(), genotypes):\n",
    "    node = simple_ts.node(sample_id)\n",
    "    individual = simple_ts.individual(node.individual)\n",
    "    print(\n",
    "        f\"Sample node {sample_id} from individual {node.individual} \"\n",
    "        f\"({individual.metadata['name']}) has allele {allele_array[genotype]}\"\n",
    "    )"
   ]
  },
  {
   "cell_type": "code",
   "execution_count": null,
   "id": "d8b69011",
   "metadata": {},
   "outputs": [],
   "source": [
    "workbook.Q6a()"
   ]
  },
  {
   "cell_type": "markdown",
   "id": "5bc14438",
   "metadata": {},
   "source": [
    "<dl><dt>Exercise 6</dt>\n",
    "    <dd>Copy the code cell that printed out the variation at all 56 sites and change it to loop over all 99 variants in the full <code>ts</code>, but print out only the <code>.genotypes</code> attribute of each variant.</dd></dl>"
   ]
  },
  {
   "cell_type": "code",
   "execution_count": null,
   "id": "a2c2649f",
   "metadata": {},
   "outputs": [],
   "source": [
    "# Exercise 6: iterate over all 99 variants in `ts`, printing out the genotypes at each site\n"
   ]
  },
  {
   "cell_type": "code",
   "execution_count": null,
   "id": "7b10fea7",
   "metadata": {},
   "outputs": [],
   "source": [
    "workbook.Q6b()"
   ]
  },
  {
   "cell_type": "markdown",
   "id": "18aee816",
   "metadata": {},
   "source": [
    "Although we have spend some time looking at the  `.variants()` iterator, most of the time you don't actually need to use it: `tskit` provides functions to analyse genetic variation data without decoding the genotypes. This usually involves iterating over the trees in the tree sequence, which can be done very efficiently, as we shall see in the next section."
   ]
  },
  {
   "cell_type": "markdown",
   "id": "9f08f82e",
   "metadata": {},
   "source": [
    "## Processing trees\n",
    "\n",
    "When we plotted trees at two different genomic positions, they looked quite different. This could indicate different sorts of history for different regions of the genome. One way to investigate this is to look at how the trees change along the genome.\n",
    "\n",
    "A common idiom that underlies many tree sequence algorithms involves moving along the genome by\n",
    "iterating over all of its [Trees](https://tskit.dev/tskit/docs/stable/python-api.html#tskit.Tree). \n",
    "To do this you use the\n",
    "[.trees](https://tskit.dev/tskit/docs/stable/python-api.html#tskit.TreeSequence.trees) method. Because trees in a tree sequence are correlated, it is very efficent to move from one tree to an adjacent tree in this way (much more efficent than accessing the trees separately each time using `ts.at`)"
   ]
  },
  {
   "cell_type": "code",
   "execution_count": null,
   "id": "adc08491",
   "metadata": {},
   "outputs": [],
   "source": [
    "for tree in ts.trees():\n",
    "    print(f\"Tree {tree.index} has a root at time {ts.node(tree.root).time} and covers {tree.interval}\")"
   ]
  },
  {
   "cell_type": "markdown",
   "id": "16b6fe2e",
   "metadata": {},
   "source": [
    "Here's an example of plotting the time of the root along the genome"
   ]
  },
  {
   "cell_type": "code",
   "execution_count": null,
   "id": "ae1dd24e",
   "metadata": {},
   "outputs": [],
   "source": [
    "import matplotlib.pyplot as plt\n",
    "\n",
    "x = []\n",
    "y = []\n",
    "for tree in ts.trees():\n",
    "    x.append(tree.interval.right)\n",
    "    y.append(ts.node(tree.root).time)\n",
    "plt.step(x, y)\n",
    "plt.xlabel(\"Genome position (bp)\")\n",
    "plt.ylabel(f\"Time of root (or MRCA) in {ts.time_units}\")\n",
    "plt.yscale(\"log\")"
   ]
  },
  {
   "cell_type": "markdown",
   "id": "fbd61b45",
   "metadata": {},
   "source": [
    "<dl><dt>Exercise 7</dt>\n",
    "<dd>Copy and paste the code above, then change it to plot the total branch length of each tree instead of the time of the root node.\n",
    "\n",
    "<div class=\"alert alert-block alert-info\">\n",
    "    <b>Tip:</b> Use the <code>.total_branch_length</code> property of the <code>tree</code>. Also, you don't need to reimport matplotlib.pyplot. The plot should look very similar, because trees with recent root nodes are likely to have a short total branch length.</div></dd></dl>\n"
   ]
  },
  {
   "cell_type": "code",
   "execution_count": null,
   "id": "eb4a0ea6",
   "metadata": {},
   "outputs": [],
   "source": [
    "# Exercise 7: plot the total branch length of the trees along the genome\n"
   ]
  },
  {
   "cell_type": "markdown",
   "id": "c396f8af",
   "metadata": {},
   "source": [
    "It seems that there might be something unusual about the trees in the middle of this\n",
    "chromosome: both the root node time and the total branch length are noticably smaller around 400Kb into the sequence. We can investigate this using various built-in statistics."
   ]
  },
  {
   "cell_type": "markdown",
   "id": "94b11f09",
   "metadata": {},
   "source": [
    "## Built-in statistics\n",
    "\n",
    "If you are calculating statistics along the genome, the `tskit` library provides methods for you. This can avoid the need to explicitly iterate over trees by hand. Methods include, for example, the average proportion of variable sites along the genome:"
   ]
  },
  {
   "cell_type": "code",
   "execution_count": null,
   "id": "c511afe4",
   "metadata": {},
   "outputs": [],
   "source": [
    "print(\n",
    "    \"Proportion of sites over whole genome:\",\n",
    "    ts.num_sites / ts.sequence_length,\n",
    "    \"(NB: this counts *all* defined sites, not just variable ones)\" \n",
    ")\n",
    "print(\n",
    "    \"Equivalent statistical calculation:\",\n",
    "    ts.segregating_sites(),\n",
    "    \"(This is better as it only counts variable sites)\"\n",
    ")"
   ]
  },
  {
   "cell_type": "code",
   "execution_count": null,
   "id": "15c99a80",
   "metadata": {},
   "outputs": [],
   "source": [
    "# Another advantage of the built-in stats framework is that stats can be output in windows along the genome\n",
    "import numpy as np\n",
    "window_locations, step = np.linspace(0, ts.sequence_length, num=21, retstep=True)\n",
    "site_density = ts.segregating_sites(windows=window_locations)\n",
    "print(f\"Variable site density in windows of {step/1000} Kb:\")\n",
    "print(site_density)"
   ]
  },
  {
   "cell_type": "markdown",
   "id": "4d14ae58",
   "metadata": {},
   "source": [
    "<dl><dt>Exercise 8</dt><dd>Use <code>plt.stairs(site_density, window_locations)</code> to plot the density of variable sites over the genome in windows.\n",
    "<div class=\"alert alert-block alert-info\">\n",
    "<b>Tip:</b> It will look a little nicer if you get rid of the vertical lines at the start and end of the plot by specifing <code>baseline=None</code> as an additional parameter to the <code>plt.stairs(...)</code> function.</div></dd></dl>"
   ]
  },
  {
   "cell_type": "code",
   "execution_count": null,
   "id": "71cd17a8",
   "metadata": {},
   "outputs": [],
   "source": [
    "# Exercise 8: plot the density of variable sites in fixed-sized windows along the genome\n"
   ]
  },
  {
   "cell_type": "markdown",
   "id": "f2578957",
   "metadata": {},
   "source": [
    "### A duality between branch lengths and site variation\n",
    "\n",
    "You may have noticed that the plot above looks pretty similar to the previous ones. That highlights an important point. If most mutations are neutral, and they occur randomly in time, then the number of mutations in a tree is determined by the total branch length in the tree: the more branches, or the longer each branch, the more mutations are likely to be observed. \n",
    "\n",
    "Moreover, when mutations are rare, each mutation results in a new variable site. So the proportion of variable sites can be thought of as an estimate of total branch length. In `tskit`, we can switch to this \"branch length\" version of the statistic by using the `mode` parameter, which defaults to `\"site\"` but can be set instead to `\"branch\"`.\n",
    "\n",
    "In other words, the total branch length is a *genealogical equivalent* of the density of variable sites. In `tskit`, both can be obtained using the `segregating_sites()` statistical method, illustrated below"
   ]
  },
  {
   "cell_type": "code",
   "execution_count": null,
   "id": "b9e94b06",
   "metadata": {
    "scrolled": true
   },
   "outputs": [],
   "source": [
    "# Use the branch length as the statistic\n",
    "fig, (ax1, ax2) = plt.subplots(ncols=2, figsize=(15, 3))\n",
    "plt.subplots_adjust(wspace=0.3)\n",
    "site_density = ts.segregating_sites(windows=window_locations)\n",
    "branch_length = ts.segregating_sites(windows=window_locations, mode=\"branch\")\n",
    "\n",
    "# Same as the previous plot\n",
    "ax1.stairs(site_density, window_locations, baseline=None)\n",
    "ax1.set_xlabel(\"Genome position (bp)\")\n",
    "ax1.set_ylabel(f\"Proportion of variable sites\")\n",
    "\n",
    "# Genealogical equivalent (mode=\"branch\")\n",
    "ax2.stairs(branch_length, window_locations, baseline=None)\n",
    "ax2.set_xlabel(\"Genome position (bp)\")\n",
    "ax2.set_ylabel(f\"Genealogical equivalent\\n(average branch length)\")\n",
    "\n",
    "plt.suptitle(\n",
    "    \"Two views of the segregating_sites statistic (low mutation rate)\"\n",
    "    f\", plotted in {step/1000:.0f} Kb windows\")\n",
    "\n",
    "plt.show()"
   ]
  },
  {
   "cell_type": "markdown",
   "id": "1abd563b",
   "metadata": {},
   "source": [
    "<dl><dt>Exercise 9</dt>\n",
    "<dd>As the number of mutations increases, the left hand plot should become more and more like the right hand one. We can test this by using <code>msprime.sim_mutations</code> (described in a later workshop) to overlay huge numbers of neutral mutations onto the tree sequence. You should try this below\n",
    "\n",
    "<div class=\"alert alert-block alert-info\">\n",
    "    <b>Note:</b> If you specify <code>windows=ts.breakpoints(as_array=True)</code> (or the shorthand <code>windows=\"trees\"</code>) then you will reproduce the plot you made in Exercise 7.</div>\n",
    "</dd></dl>"
   ]
  },
  {
   "cell_type": "code",
   "execution_count": null,
   "id": "846c7f89",
   "metadata": {},
   "outputs": [],
   "source": [
    "import msprime\n",
    "mutation_rate = 2e-7  # Higher than the human average of ~1e-8\n",
    "high_mutation_ts = msprime.sim_mutations(ts, rate=mutation_rate, random_seed=123)\n",
    "\n",
    "# Exercise 9: illustrate that with high mutation rate, the density of variable sites tends\n",
    "# to the average branch length statistic. Do this by using the same plotting code as in the\n",
    "# previous code cell, but substituting `high_mutation_ts` for `ts`.\n"
   ]
  },
  {
   "cell_type": "markdown",
   "id": "b110e643",
   "metadata": {},
   "source": [
    "Another basic statistic is the genetic diversity ($\\pi$) of a set of sequences, which measures the average genetic difference between all pairs of samples in your dataset. Where there has been recent selection, we expect a dip in diversity. Here's what the diversity looks like in our example tree sequence:"
   ]
  },
  {
   "cell_type": "code",
   "execution_count": null,
   "id": "19be3c29",
   "metadata": {},
   "outputs": [],
   "source": [
    "fig, (ax1, ax2) = plt.subplots(ncols=2, figsize=(15, 3))\n",
    "plt.subplots_adjust(wspace=0.3)\n",
    "\n",
    "window_locations, step = np.linspace(0, ts.sequence_length, num=21, retstep=True)\n",
    "diversity_site = ts.diversity(windows=window_locations)\n",
    "diversity_branch = ts.diversity(windows=window_locations, mode=\"branch\")\n",
    "\n",
    "ax1.stairs(diversity_site, window_locations, baseline=None)\n",
    "ax1.set_xlabel(\"Genome position (bp)\")\n",
    "ax1.set_ylabel(f\"Average proportion of sites\\nthat vary between pairs\")\n",
    "\n",
    "# Genealogical equivalent (mode=\"branch\")\n",
    "ax2.stairs(diversity_branch, window_locations, baseline=None)\n",
    "ax2.set_xlabel(\"Genome position (bp)\")\n",
    "ax2.set_ylabel(f\"Genealogical equivalent\\n(av. branch length between pairs)\")\n",
    "\n",
    "plt.suptitle(r\"Two views of genetic diversity ($\\pi$), \" + f\"plotted in {step/1000:.0f} Kb windows\")\n",
    "\n",
    "plt.show()"
   ]
  },
  {
   "cell_type": "markdown",
   "id": "a559f1ab",
   "metadata": {},
   "source": [
    "<dl><dt>Exercise 10</dt>\n",
    "<dd>The difference between the proportion of segregating sites and the genetic diversity, suitably scaled, is known as *Tajima's D*, which under neutral expectations, and a constant population size, is expected to be zero on average. It is available as the <code>.Tajimas_D()</code> statistic.\n",
    "\n",
    "Copy and paste the code above, then change it to plot Tajima's D, additionally using <code>ax1.axhline(0, linestyle=\":\")</code> and <code>ax2.axhline(0, linestyle=\":\")</code> to show a dotted horizontal line at zero.\n",
    "\n",
    "<div class=\"alert alert-block alert-info\">\n",
    "    <b>Note:</b> A large number of other statistics are available in tskit, as described <a href=\"https://tskit.dev/tskit/docs/stable/stats.html\">here</a></div>\n",
    "</dd></dl>"
   ]
  },
  {
   "cell_type": "code",
   "execution_count": null,
   "id": "1b6c7014",
   "metadata": {},
   "outputs": [],
   "source": [
    "# Exercise 10: plot Tajima's D in windows along the genome\n"
   ]
  },
  {
   "cell_type": "markdown",
   "id": "d8e16d2a",
   "metadata": {},
   "source": [
    "### The Allele Frequency Spectrum (AFS)\n",
    "\n",
    "Many population genetic statistics are based on the allele (or site) frequency spectrum (AFS), that is, the number of alleles found in just one sample (singletons), the number in two samples (doubletons), in three (tripletons) etc. This also has a branch-length interpretation: the number of singletons is an estimate of the sum length of all branches above one sample (i.e. terminal branches), the number of doubletons is an estimate of the sum length of all branches above 2 samples, etc.\n",
    "\n",
    "We can obtain the \"normal\" AFS and the \"branch length\" AFS using the `.allele_frequency_spectrum()` method:"
   ]
  },
  {
   "cell_type": "code",
   "execution_count": null,
   "id": "2b95a2b6",
   "metadata": {},
   "outputs": [],
   "source": [
    "import matplotlib.pyplot as plt\n",
    "\n",
    "fig, (ax1, ax2) = plt.subplots(ncols=2, figsize=(12, 3))\n",
    "\n",
    "afs = ts.allele_frequency_spectrum()\n",
    "ax1.bar(range(ts.num_samples + 1), afs)\n",
    "ax1.set_title(\"AFS (site-based, unpolarised)\")\n",
    "\n",
    "\n",
    "afs = ts.allele_frequency_spectrum(mode=\"branch\")\n",
    "ax2.bar(range(ts.num_samples + 1), afs)\n",
    "ax2.set_title(\"AFS (branch-length-based, unpolarised)\")\n",
    "\n",
    "plt.show()"
   ]
  },
  {
   "cell_type": "markdown",
   "id": "422256bb",
   "metadata": {},
   "source": [
    "<div class=\"alert alert-block alert-info\"><b>Note:</b>\n",
    "    By default the <code>.allele_frequency_spectrum()</code> method returns the \"folded\" or unpolarized AFS that doesn't <a href=\"https://tskit.dev/tskit/docs/stable/stats.html#sec-stats-polarisation\">take account of the ancestral state</a>, so that e.g. an allele present in 19 out of 20 samples is treated the same as an allele that is present in 1 out of 20 samples. Here, this results in the bars covering the range 1..9 rather than 1..19. This can be changed by passing <code>polarised=True</code> as a parameter.</div>\n",
    "\n",
    "Branch lengths in the trees can change depending on demographic effects (which tend to influence trees across the whole genome) and natural selection (which tends to influence trees in certain parts of the genome only). The tree sequence we have been using was simulated with a *selective sweep* (a major bout of positive selection) occurring in the middle of the genome at 500 Kb. \n",
    "\n",
    "The effect on the trees at the start versus in the middle of the sequence is very clear, on plotting:"
   ]
  },
  {
   "cell_type": "code",
   "execution_count": null,
   "id": "bcb339a0",
   "metadata": {},
   "outputs": [],
   "source": [
    "labels={i: i for i in ts.samples()}  # only show the labels for sample nodes\n",
    "\n",
    "print(f\"Tree sequence from 0 Kb to 50 Kb\")\n",
    "display(SVG(ts.draw_svg(x_lim=(0, 50_000), node_labels=labels, **extra_svg_params)))\n",
    "print(f\"Tree sequence from 475 Kb to 525 Kb\")\n",
    "display(SVG(ts.draw_svg(x_lim=(475_000, 525_000), node_labels=labels, **extra_svg_params)))"
   ]
  },
  {
   "cell_type": "markdown",
   "id": "bd544d65",
   "metadata": {},
   "source": [
    "The bottom tree, which is in the middle of the selected region, lacks the deep branches seen in the top tree. This results in a smaller number of mutations per unit length in a selected region, and the mutations that *do* exist tend to be at *lower frequency* (e.g. singletons and doubletons). This will be reflected in the site frequency spectra in the different regions.\n",
    "\n",
    "Currently in tskit, to restrict statistics to certain regions, it's easiest to use `.delete_intervals()` (or its converse, `.keep_intervals()`), coupled with the `.trim()` method that removes empty flanking regions of a tree sequence (running statistics directly on restricted regions is planned for a future tskit update)."
   ]
  },
  {
   "cell_type": "code",
   "execution_count": null,
   "id": "e232c831",
   "metadata": {},
   "outputs": [],
   "source": [
    "import matplotlib.pyplot as plt\n",
    "\n",
    "fig, axes = plt.subplots(nrows=2, ncols=2, figsize=(12, 8))\n",
    "\n",
    "ts_0_200Kb = ts.keep_intervals([[0, 200_000]]).trim()\n",
    "ts_400_600Kb = ts.keep_intervals([[400_000, 600_000]]).trim()\n",
    "x = range(ts.num_samples + 1)\n",
    "\n",
    "afs = ts_0_200Kb.allele_frequency_spectrum()\n",
    "axes[0, 0].bar(x, afs)\n",
    "axes[0, 0].set_title(\"AFS (site based, unpolarised)\")\n",
    "axes[0, 0].set_ylabel(\"Var. site density over 0..200 Kb\")\n",
    "\n",
    "afs = ts_0_200Kb.allele_frequency_spectrum(mode=\"branch\")\n",
    "axes[0, 1].bar(x, afs)\n",
    "axes[0, 1].set_title(\"AFS (branch-length based, unpolarised)\")\n",
    "axes[0, 1].set_ylabel(\"Branch length av. over 0..200 Kb\")\n",
    "\n",
    "afs = ts_400_600Kb.allele_frequency_spectrum()\n",
    "axes[1, 0].bar(x, afs)\n",
    "axes[1, 0].set_ylabel(\"Var. site density over 400..600 Kb\")\n",
    "\n",
    "afs = ts_400_600Kb.allele_frequency_spectrum(mode=\"branch\")\n",
    "axes[1, 1].bar(x, afs)\n",
    "axes[1, 1].set_ylabel(\"Branch length av. over 400..600 Kb\")\n",
    "\n",
    "plt.figtext(0.95, 0.65, \"Far from\\nselected\\nregion\\n(0..200 Kb)\", fontsize=14)\n",
    "plt.figtext(0.95, 0.25, \"Close to\\nselected\\nregion\\n(400..600 Kb)\", fontsize=14)\n",
    "plt.show()"
   ]
  },
  {
   "cell_type": "markdown",
   "id": "635fec13",
   "metadata": {},
   "source": [
    "The differences between the upper and lower AFS plots clearly reflect the tree differences between the regions. Several tests for detecting selection are based on the differences in frequency classes, which reflect relative branch lengths of the tree. Alternative approaches for detecting selection measure the lengths of haplotypes or\n",
    "ages of common ancestors (these metrics are currently being implemented in `tskit`)"
   ]
  },
  {
   "cell_type": "markdown",
   "id": "4878927b",
   "metadata": {},
   "source": [
    "## Saving and exporting data\n",
    "\n",
    "At the start of this workbook we used `tskit.load` to load a tree sequence from a file. To save to a file you can use the `.dump()` method of a tree sequence object (by convention, a `.trees` suffix is used for these files).\n",
    "\n",
    "Although tree sequences already compress genomic data extremely well (especially for simulated data, which can be 4 or 5 orders of magnitude smaller than the comparable VCF file), it is possible to compress tree sequences even further, at the cost of having to decompress them before use. This compression is done by the `tszip` library, and is recommended for large datasets which are intended for download online or sending to others:"
   ]
  },
  {
   "cell_type": "code",
   "execution_count": null,
   "id": "a52e1498",
   "metadata": {},
   "outputs": [],
   "source": [
    "import tszip\n",
    "\n",
    "ts.dump(\"copy_of_ts.trees\")  # Save an uncompressed tree sequence\n",
    "tszip.compress(ts, \"ts.tsz\")  # Save a compressed tree sequence to a file\n",
    "ts_copy = tszip.decompress(\"ts.tsz\")  # Load a compressed tree sequence from a file"
   ]
  },
  {
   "cell_type": "markdown",
   "id": "a82dcf36",
   "metadata": {},
   "source": [
    "It's also possible to export tree sequences to different formats. Note, however, that\n",
    "not only are these usually much larger files, but that analysis is usually much faster\n",
    "when performed by built-in tskit functions than by exporting and using alternative\n",
    "software. If you have a large tree sequence, you should *try to avoid exporting\n",
    "to other formats*.\n",
    "\n",
    "### Newick and Nexus format\n",
    "\n",
    "The most common format for interchanging tree data is Newick. \n",
    "We can export to a newick format string quite easily. This can be useful for\n",
    "interoperating with existing tree processing libraries but is very inefficient for\n",
    "large trees. There is also no support for including sites and mutations in the trees."
   ]
  },
  {
   "cell_type": "code",
   "execution_count": null,
   "id": "9655728e",
   "metadata": {},
   "outputs": [],
   "source": [
    "tree = ts.first()\n",
    "print(tree.newick(precision=3))"
   ]
  },
  {
   "cell_type": "markdown",
   "id": "e7dd8ac8",
   "metadata": {},
   "source": [
    "For an entire set of trees, you can use the Nexus file format, which acts as a container\n",
    "for a list of Newick format trees, one per line:"
   ]
  },
  {
   "cell_type": "code",
   "execution_count": null,
   "id": "4d55377e",
   "metadata": {},
   "outputs": [],
   "source": [
    "print(simple_ts.as_nexus(precision=2, include_alignments=False))"
   ]
  },
  {
   "cell_type": "markdown",
   "id": "7c6e4153",
   "metadata": {},
   "source": [
    "### VCF\n",
    "\n",
    "The standard way of interchanging genetic variation data is the Variant Call Format, \n",
    "for which tskit has basic support:\n",
    "\n",
    "<div class=\"alert alert-block alert-info\"><b>Note:</b>\n",
    "The write_vcf method takes a file object as a parameter; to get it to write out to the\n",
    "notebook here we ask it to write to stdout.</div>"
   ]
  },
  {
   "cell_type": "code",
   "execution_count": null,
   "id": "e9271fd3",
   "metadata": {},
   "outputs": [],
   "source": [
    "import sys\n",
    "simple_ts.write_vcf(sys.stdout)"
   ]
  },
  {
   "cell_type": "markdown",
   "id": "9e1c6120",
   "metadata": {},
   "source": [
    "## Further investigations: an example with real data\n",
    "\n",
    "Publicly available inferred tree sequences for a global human dataset of 7524 whole genomes, include a few ancient individuals such as Neanderthals and Denisovans, is available on <a href=\"https://zenodo.org/record/5512994\">Zenodo</a>. The genomes are primarily taken from the Thousand Genomes Project, the Simons Genome Diversity Project, and the Human Genome Diversity Project.\n",
    "\n",
    "It can be interesting to play with this data. The code below will download a compressed tree sequence of chromosome 2 (the \"q\" arm) from the public repository, and make it available as `ts_2q`."
   ]
  },
  {
   "cell_type": "code",
   "execution_count": null,
   "id": "f0662b1d",
   "metadata": {},
   "outputs": [],
   "source": [
    "# Download the compressed tree sequence for human chromosome 2, q arm (~180Mb - may take a number of seconds)\n",
    "import urllib.request\n",
    "url = \"https://zenodo.org/record/5512994/files/hgdp_tgp_sgdp_high_cov_ancients_chr2_q.dated.trees.tsz\"\n",
    "with workbook.download(url) as t:\n",
    "    temporary_filename, _ = urllib.request.urlretrieve(url, reporthook=t.update_to)\n",
    "    print(\"Converting file...\")\n",
    "    ts_2q = workbook.convert_metadata_to_new_format( # only needed as the zenodo files currently have old-style metadata\n",
    "        tszip.decompress(temporary_filename))\n",
    "    urllib.request.urlcleanup() # remove temporary_filename"
   ]
  },
  {
   "cell_type": "markdown",
   "id": "fba2273f",
   "metadata": {},
   "source": [
    "The remaining code in the notebook is for readers who are interested in how to go about investigating specific genomic regions in real datasets. It illustrates plotting diversity in a region that has been previously identified as of interest in east and souteast asians (the <a href=\"https://en.wikipedia.org/wiki/Ectodysplasin_A_receptor\">EDAR gene</a>), in whom a particular SNP, rs3827760, is at much higher frequency than in the rest of the world."
   ]
  },
  {
   "cell_type": "code",
   "execution_count": null,
   "id": "d749cfe3",
   "metadata": {},
   "outputs": [],
   "source": [
    "# Have a look at the populations defined in this tree sequence\n",
    "ts_2q.tables.populations"
   ]
  },
  {
   "cell_type": "code",
   "execution_count": null,
   "id": "816b4773",
   "metadata": {},
   "outputs": [],
   "source": [
    "# For simplicity & speed of future analyis, truncate the tree sequence to flank EDAR (108_894_471..108_989_220)\n",
    "keep_region = [108_000_000, 110_000_000]\n",
    "edar_ts = ts_2q.keep_intervals([keep_region]).trim()\n",
    "print(edar_ts.num_trees, \"trees and\", edar_ts.num_sites, \"sites in the genomic region containing the EDAR1 gene\")\n",
    "edar_gene_bounds = np.array([108_894_471, 108_989_220]) - keep_region[0]"
   ]
  },
  {
   "cell_type": "code",
   "execution_count": null,
   "id": "1e3ad2b0",
   "metadata": {},
   "outputs": [],
   "source": [
    "# Find the node IDs of the east asian samples\n",
    "east_asian_population_ids = np.array([\n",
    "    p.id\n",
    "    for p in edar_ts.populations()\n",
    "    if \"region\" in p.metadata and p.metadata[\"region\"] in ('EastAsia', \"EAST_ASIA\")\n",
    "])\n",
    "is_east_asian_sample = np.isin(edar_ts.tables.nodes.population, east_asian_population_ids)\n",
    "east_asian_samples = np.where(is_east_asian_sample)[0]"
   ]
  },
  {
   "cell_type": "code",
   "execution_count": null,
   "id": "4f697093",
   "metadata": {
    "scrolled": true
   },
   "outputs": [],
   "source": [
    "# Find the site with the interesting SNP, for plotting\n",
    "interesting_snp = \"rs3827760\"\n",
    "for s in edar_ts.sites():\n",
    "    if \"ID\" in s.metadata and s.metadata[\"ID\"] == interesting_snp:\n",
    "        print(f\"SNP id {interesting_snp} is at site {s.id}\")\n",
    "        interesting_site_id = s.id\n",
    "        break\n",
    "\n",
    "# Plot the diversity in everyone vs east asians\n",
    "fig, (ax1, ax2) = plt.subplots(ncols=2, figsize=(15, 3))\n",
    "plt.subplots_adjust(wspace=0.3)\n",
    "\n",
    "window_locations, step = np.linspace(0, edar_ts.sequence_length, num=101, retstep=True)\n",
    "diversity_site = edar_ts.diversity(windows=window_locations)\n",
    "eas_diversity_site = edar_ts.diversity(sample_sets=east_asian_samples, windows=window_locations)\n",
    "diversity_branch = edar_ts.diversity(windows=window_locations, mode=\"branch\")\n",
    "eas_diversity_branch = edar_ts.diversity(sample_sets=east_asian_samples, windows=window_locations, mode=\"branch\")\n",
    "\n",
    "ax1.axvspan(edar_gene_bounds[0], edar_gene_bounds[1], color=\"lightgray\")\n",
    "ax1.stairs(diversity_site, window_locations, baseline=None, label=\"all samples\")\n",
    "ax1.stairs(eas_diversity_site, window_locations, baseline=None, label=\"east asian\\nsamples\")\n",
    "ax1.set_xlabel(\"Genome position (bp)\")\n",
    "ax1.set_ylabel(f\"Average proportion of sites\\nthat vary between pairs\")\n",
    "ax1.axvline(edar_ts.site(interesting_site_id).position, ls=\":\")\n",
    "\n",
    "ax1.legend()\n",
    "\n",
    "# Genealogical equivalent (mode=\"branch\")\n",
    "ax2.axvspan(edar_gene_bounds[0], edar_gene_bounds[1], color=\"lightgray\")\n",
    "ax2.stairs(diversity_branch, window_locations, baseline=None, label=\"all samples\")\n",
    "ax2.stairs(eas_diversity_branch, window_locations, baseline=None, label=\"east asian\\nsamples\")\n",
    "ax2.set_xlabel(\"Genome position (bp)\")\n",
    "ax2.set_ylabel(f\"Genealogical equivalent\\n(av. branch length between pairs)\")\n",
    "ax2.axvline(edar_ts.site(interesting_site_id).position, ls=\":\")\n",
    "\n",
    "plt.suptitle(\n",
    "    r\"Genetic diversity ($\\pi$) in the EDAR gene (grey), \"\n",
    "    f\"plotted in {step/1000:.0f} Kb windows \"\n",
    "    f\"(dotted line gives position of {interesting_snp})\"\n",
    ")\n",
    "plt.show()"
   ]
  },
  {
   "cell_type": "markdown",
   "id": "188ed02f",
   "metadata": {},
   "source": [
    "Although not conclusive, it seems like the branch length diversity shows a drop in east asians in the region in front of the gene, possibly a sign of local selection on an east-asian specific variant such as rs3827760. It would be interesting to examine the [genealogical nearest neighbours](https://tskit.dev/tskit/docs/stable/python-api.html#tskit.TreeSequence.genealogical_nearest_neighbours) of the Denisovan individual in this region. As they say, \"this exercise is left for the reader\"."
   ]
  },
  {
   "cell_type": "markdown",
   "id": "bf2f5e72",
   "metadata": {},
   "source": [
    "## Acknowledgement\n",
    "This workbook is heavily based on [Georgia Tsambos' Jupyter notebooks](https://github.com/gtsambos/2022-ts-workshops)."
   ]
  }
 ],
 "metadata": {
  "jupytext": {
   "text_representation": {
    "extension": ".md",
    "format_name": "myst",
    "format_version": 0.12,
    "jupytext_version": "1.9.1"
   }
  },
  "kernelspec": {
   "display_name": "Python 3",
   "language": "python",
   "name": "python3"
  },
  "language_info": {
   "codemirror_mode": {
    "name": "ipython",
    "version": 3
   },
   "file_extension": ".py",
   "mimetype": "text/x-python",
   "name": "python",
   "nbconvert_exporter": "python",
   "pygments_lexer": "ipython3",
   "version": "3.9.9"
  },
  "source_map": [
   12,
   47,
   67,
   87,
   94,
   124,
   135,
   143,
   157,
   174,
   182,
   203,
   207,
   245,
   257,
   269,
   279,
   300,
   311,
   331,
   336,
   344,
   357,
   378,
   394,
   408,
   413,
   428,
   432,
   437,
   440,
   447,
   450,
   463,
   471,
   479,
   482
  ]
 },
 "nbformat": 4,
 "nbformat_minor": 5
}
