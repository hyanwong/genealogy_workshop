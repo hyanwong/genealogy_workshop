{
 "cells": [
  {
   "cell_type": "code",
   "execution_count": null,
   "id": "c1cf8483",
   "metadata": {},
   "outputs": [],
   "source": [
    "# Please execute me (shift+<Return>) – this should print out \"Your notebook is ready to go\"\n",
    "\n",
    "import tskit\n",
    "\n",
    "from IPython.display import HTML, display\n",
    "\n",
    "import genealogical_analysis_workshop\n",
    "\n",
    "workshop = genealogical_analysis_workshop.setup()\n",
    "display(HTML(workshop.css))\n",
    "print(\"Your notebook is ready to go\")"
   ]
  },
  {
   "cell_type": "markdown",
   "id": "21c11c00",
   "metadata": {},
   "source": [
    "## Getting started with `tskit`\n",
    "\n",
    "This workbook has a number of exercises\n",
    "\n",
    "<div class=\"alert alert-block alert-info\">\n",
    "    This workbook uses the tskit <a href=\"https://tskit.dev/tskit/docs/stable/python-api.html#sec-python-api\">Python API</a> so assumes a basic knowledge of Python, but it's also possible to\n",
    "<a href=\"https://tskit.dev/tutorials/tskitr.html\">use R</a>, or access the API in other languages, notably\n",
    "<a href=\"https://tskit.dev/tskit/docs/stable/c-api.html#sec-c-api\">C</a> and <a href=\"https://github.com/tskit-dev/tskit-rust\">Rust</a>.\n",
    "</div>\n",
    "\n",
    "Genetic genealogies in the form of tree sequences can be obtained by simulation or inference from real data. In the next practical we shall explore both methods. However, for the time being, we will simply work with two pre-existing tree sequences, one from a simple simulation of selection on a 1Mb section of genome and another inferred from a large human dataset."
   ]
  },
  {
   "cell_type": "code",
   "execution_count": null,
   "id": "ec0e0713",
   "metadata": {},
   "outputs": [],
   "source": [
    "import tskit\n",
    "ts = tskit.load(\"simulated.trees\")\n",
    "print(\"Loaded the tree sequence into a variable called `ts`\")"
   ]
  },
  {
   "cell_type": "markdown",
   "id": "0dd36864",
   "metadata": {},
   "source": [
    "In a jupyter notebook, the output of the final command in a cell is output to screen.\n",
    "When a tree sequence instance is output in this way, a nicely formatted summary should be printed out. Try it below:"
   ]
  },
  {
   "cell_type": "code",
   "execution_count": null,
   "id": "a56bd52a",
   "metadata": {},
   "outputs": [],
   "source": [
    "# Display `ts` to the screen (formatted nicely in a Jupyter notebook)\n",
    "ts"
   ]
  },
  {
   "cell_type": "markdown",
   "id": "519d66b1",
   "metadata": {},
   "source": [
    "Various useful properties of the tree sequence have been printed out above, such as the number of trees and sample nodes, the sequence length (conventionally interpreted as the number of base pairs), etc. They are available as Python attributes:"
   ]
  },
  {
   "cell_type": "code",
   "execution_count": null,
   "id": "71afb50f",
   "metadata": {},
   "outputs": [],
   "source": [
    "print(ts.num_trees, \"trees\")\n",
    "print(ts.num_samples, \"sample nodes\")\n",
    "print(\"Sequence length is\", ts.sequence_length, \"bp\")"
   ]
  },
  {
   "cell_type": "markdown",
   "id": "3de70cd3",
   "metadata": {},
   "source": [
    "The summary above also prints information on the basic entities in the tree sequence, such as nodes and edges, sites and mutations, and individuals and populations, which are stored in [tables](https://tskit.dev/tutorials/tables_and_editing.html#correspondence-between-tables-and-trees).\n",
    "\n",
    "<h6>Exercise 1</h6>\n",
    "Modify the code below to print out not just the number of nodes, but also the number of edges, sites and mutations (and check it corresponds to the counts reported in the summary above)."
   ]
  },
  {
   "cell_type": "code",
   "execution_count": null,
   "id": "24a0fab9",
   "metadata": {},
   "outputs": [],
   "source": [
    "# Exercise 1: modify me\n",
    "print(\"Tree sequence has\", ts.num_nodes, \"nodes\")"
   ]
  },
  {
   "cell_type": "code",
   "execution_count": null,
   "id": "c92484b1",
   "metadata": {},
   "outputs": [],
   "source": [
    "workshop.Q1()"
   ]
  },
  {
   "cell_type": "markdown",
   "id": "e8d3f0ba",
   "metadata": {},
   "source": [
    "The trees in a tree sequence are constructed from the nodes and edges. There are a few different ways to access a tree, all of which return a <a href=\"\">Tree</a> object. "
   ]
  },
  {
   "cell_type": "code",
   "execution_count": null,
   "id": "1bdd1400",
   "metadata": {},
   "outputs": [],
   "source": [
    "ts.first()  # The first tree in the tree sequence (tree number 0)"
   ]
  },
  {
   "cell_type": "code",
   "execution_count": null,
   "id": "774e3ead",
   "metadata": {},
   "outputs": [],
   "source": [
    "ts.at(100000) # The tree at position 100Kb: this is tree number 6 (i.e. it is the 7th tree)"
   ]
  },
  {
   "cell_type": "code",
   "execution_count": null,
   "id": "b44b7bf1",
   "metadata": {},
   "outputs": [],
   "source": [
    "tree = ts.last()\n",
    "print(f\"The last tree (index {tree.index}) covers bases {tree.interval.left} to {tree.interval.right}\")"
   ]
  },
  {
   "cell_type": "markdown",
   "id": "822acca2",
   "metadata": {},
   "source": [
    "To visualise the tree you can use either SVG or text format:"
   ]
  },
  {
   "cell_type": "code",
   "execution_count": null,
   "id": "cbf4694a",
   "metadata": {},
   "outputs": [],
   "source": [
    "tree = ts.first()\n",
    "print(tree.draw_text())  # Text format: numbers represent node IDs"
   ]
  },
  {
   "cell_type": "code",
   "execution_count": null,
   "id": "db20542d",
   "metadata": {},
   "outputs": [],
   "source": [
    "from IPython.display import SVG\n",
    "svg_tree = tree.draw_svg(size=(400, 200))\n",
    "display(SVG(svg_tree))  # output SVG format to a Jupyter notebook"
   ]
  },
  {
   "cell_type": "markdown",
   "id": "6775bf5f",
   "metadata": {},
   "source": [
    "<div class=\"alert alert-block alert-info\"><b>Note:</b>\n",
    "    Often in these trees, the terminal branches are very short, and the height of the nodes is best plotted on a log scale. This can be done using <code>draw_svg(..., time_scale=\"log_time\")</code>.\n",
    "</div>"
   ]
  },
  {
   "cell_type": "markdown",
   "id": "2fc5afc3",
   "metadata": {},
   "source": [
    "<h6>Exercise 2</h6>\n",
    "You can find details of a particular node (e.g. node 9) using <code>ts.node(9)</code>. Use this to find the age of the root (i.e. oldest) node shown in the tree above. \n",
    "<div class=\"alert alert-block alert-info\"><b>Tip:</b>\n",
    "    You can check that you have the right node ID by using <code>tree.root</code>.</div>"
   ]
  },
  {
   "cell_type": "code",
   "execution_count": null,
   "id": "02bd291c",
   "metadata": {},
   "outputs": [],
   "source": [
    "# Exercise 2: find the age (in generations ago) of the oldest node in the first tree\n"
   ]
  },
  {
   "cell_type": "code",
   "execution_count": null,
   "id": "2d309137",
   "metadata": {},
   "outputs": [],
   "source": [
    "workshop.Q2()"
   ]
  },
  {
   "cell_type": "markdown",
   "id": "ec8167ea",
   "metadata": {},
   "source": [
    "<h6>Exercise 3</h6>\n",
    "Plot the tree at position 400 Kb in SVG format below, adding the following parameters to the `draw_svg()` function to produce nicer formatting:\n",
    "\n",
    "* `size=(400, 200)` – to plot the SVG 400 pixels wide and 200 pixels high\n",
    "* `y_axis=True` – to show a y (time) axis\n",
    "* `y_ticks={y: str(y) for y in range(0, 5000, 1000)}` – to use nice tick spacing on the y axis\n",
    "\n",
    "<div class=\"alert alert-block alert-info\">\n",
    "<b>Tip:</b> to look at the help for a function like `draw_svg()` you can type `help(tskit.Tree.draw_svg)` or `?tskit.Tree.draw_svg` in a jupyter notebook, or examine the documentation <a href=\"https://tskit.dev/tskit/docs/stable/python-api.html#tskit.Tree.draw_svg\">here</a>.</div>"
   ]
  },
  {
   "cell_type": "code",
   "execution_count": null,
   "id": "e1d4b440",
   "metadata": {},
   "outputs": [],
   "source": [
    "# Exercise 3: use draw_svg() below to plot the tree at position 400Kb\n"
   ]
  },
  {
   "cell_type": "markdown",
   "id": "02abf7ab",
   "metadata": {},
   "source": [
    "In the SVG format, the nodes are marked in black and numbered by node ID. Squares are used for nodes whose genomes we have sampled.\n",
    "\n",
    "Mutations, on the other hand, are by default plotted as red crosses, with the mutation number plotted beside them."
   ]
  },
  {
   "cell_type": "code",
   "execution_count": null,
   "id": "2cc3231f",
   "metadata": {},
   "outputs": [],
   "source": [
    "workshop.Q3()"
   ]
  },
  {
   "cell_type": "markdown",
   "id": "8f01ea0a",
   "metadata": {},
   "source": [
    "You should find that the tree you just plotted and the tree plotted as an SVG a little earlier look quite different, particularly in the length of the terminal branches. This could indicate different sorts of history for different regions of the genome. One way to investigate this is to look at change along the genome. In `tskit` this is done by iterating through the trees in a tree sequence."
   ]
  },
  {
   "cell_type": "markdown",
   "id": "9f08f82e",
   "metadata": {},
   "source": [
    "## Processing trees\n",
    "\n",
    "A common idiom that underlies many tree sequence algorithms, including those\n",
    "we'll encounter later in this tutorial for calculating \n",
    "population genetic statistics, involves moving along the genome by\n",
    "iterating over all of its [Trees](https://tskit.dev/tskit/docs/stable/python-api.html#tskit.Tree). \n",
    "To do this you use the\n",
    "[.trees](https://tskit.dev/tskit/docs/stable/python-api.html#tskit.TreeSequence.trees) method. Because trees in a tree sequence are correlated, it is very efficent to move from one tree to an adjacent tree in this way (much more efficent than accessing `tree[0]` then `tree[1]`, then `tree[2]` etc.)"
   ]
  },
  {
   "cell_type": "code",
   "execution_count": null,
   "id": "adc08491",
   "metadata": {},
   "outputs": [],
   "source": [
    "for tree in ts.trees():\n",
    "    print(f\"Tree {tree.index} has a root at time {ts.node(tree.root).time} and covers {tree.interval}\")"
   ]
  },
  {
   "cell_type": "markdown",
   "id": "16b6fe2e",
   "metadata": {},
   "source": [
    "Here's an example of plotting the time of the root along the genome"
   ]
  },
  {
   "cell_type": "code",
   "execution_count": null,
   "id": "ae1dd24e",
   "metadata": {},
   "outputs": [],
   "source": [
    "import matplotlib.pyplot as plt\n",
    "\n",
    "xy_tuples = [\n",
    "    (tree.interval.left, ts.node(tree.root).time)\n",
    "    for tree in ts.trees()\n",
    "]\n",
    "plt.step(*zip(*xy_tuples))  # uses `zip` to change (x1,y1), (x2,y2), ... into (x1, x2, ...), (y1, y2, ...)\n",
    "plt.xlabel(\"Genome position (bp)\")\n",
    "plt.ylabel(f\"Time of root (or MRCA) in {ts.time_units}\")\n",
    "plt.yscale(\"log\")\n",
    "plt.show()"
   ]
  },
  {
   "cell_type": "markdown",
   "id": "fbd61b45",
   "metadata": {},
   "source": [
    "<h6>Exercise 4</h6>\n",
    "Copy and paste the code above, then change it to plot the total branch length of each tree instead of the time of the root node.\n",
    "\n",
    "<div class=\"alert alert-block alert-info\">\n",
    "    <b>Tip:</b> Use the <code>Tree.total_branch_length</code> property. Also, you don't need to reimport matplotlib.pyplot. The plot should look very similar, because trees with recent root nodes are likely to have a short total branch length.</div>\n"
   ]
  },
  {
   "cell_type": "code",
   "execution_count": null,
   "id": "eb4a0ea6",
   "metadata": {},
   "outputs": [],
   "source": [
    "# Exercise 4: plot the total branch length of the trees along the genome\n"
   ]
  },
  {
   "cell_type": "markdown",
   "id": "c396f8af",
   "metadata": {},
   "source": [
    "It seems like that there might be something unusual about the trees in the middle of this\n",
    "chromosome: both the root node time and the total branch length are noticably smaller around 400Kb into the sequence. We can investigate this using various built-in statistics."
   ]
  },
  {
   "cell_type": "markdown",
   "id": "94b11f09",
   "metadata": {},
   "source": [
    "## Built-in statistics\n",
    "\n",
    "If you are calculating statistics along the genome, the `tskit` library provides methods for you. This can avoid the need to explicitly iterate over trees by hand. Methods include, for example, the average density of variable sites along the genome:"
   ]
  },
  {
   "cell_type": "code",
   "execution_count": null,
   "id": "c511afe4",
   "metadata": {},
   "outputs": [],
   "source": [
    "print(\n",
    "    \"Density of sites over all the genome:\",\n",
    "    ts.num_sites / ts.sequence_length,\n",
    "    \"(NB: this counts *all* defined sites, not just variable ones)\" \n",
    ")\n",
    "print(\n",
    "    \"Equivalent statistical calculation:\",\n",
    "    ts.segregating_sites(),\n",
    "    \"(This is better as it only counts variable sites)\"\n",
    ")"
   ]
  },
  {
   "cell_type": "code",
   "execution_count": null,
   "id": "15c99a80",
   "metadata": {},
   "outputs": [],
   "source": [
    "# Another advantage of the built-in stats framework is that stats can be output in windows along the genome\n",
    "import numpy as np\n",
    "window_points, step = np.linspace(0, ts.sequence_length, num=11, retstep=True)\n",
    "print(ts.segregating_sites(windows=window_points))\n",
    "\n",
    "# Or plot the windowed data\n",
    "plt.stairs(ts.segregating_sites(windows=window_points), window_points, baseline=None)\n",
    "plt.xlabel(\"Genome position (bp)\")\n",
    "plt.ylabel(f\"Density of variable sites in {step/1000}Kb windows\")\n",
    "plt.yscale(\"log\")\n",
    "plt.show()"
   ]
  },
  {
   "cell_type": "markdown",
   "id": "f2578957",
   "metadata": {},
   "source": [
    "Note the equivalence between this and total branch length"
   ]
  },
  {
   "cell_type": "markdown",
   "id": "fdc0e5bb",
   "metadata": {},
   "source": [
    "## AFS"
   ]
  },
  {
   "cell_type": "code",
   "execution_count": null,
   "id": "7169d6b7",
   "metadata": {},
   "outputs": [],
   "source": [
    "fig, (ax1, ax2, ax3) = plt.subplots(ncols=3, figsize=(12, 3))\n",
    "\n",
    "afs = ts.allele_frequency_spectrum()\n",
    "ax1.bar(range(ts.num_samples + 1), afs)\n",
    "ax1.set_title(\"Unpolarised allele freq spectrum\")\n",
    "\n",
    "\n",
    "afs = ts.keep_intervals([[0, 200_000]]).trim().allele_frequency_spectrum()\n",
    "ax2.bar(range(ts.num_samples + 1), afs)\n",
    "ax2.set_title(\"Unpolarised allele freq spectrum\")\n",
    "\n",
    "afs = ts.keep_intervals([[400_000, 600_000]]).trim().allele_frequency_spectrum()\n",
    "ax3.bar(range(ts.num_samples + 1), afs)\n",
    "ax3.set_title(\"Unpolarised allele freq spectrum\")\n",
    "\n",
    "\n",
    "plt.show()\n",
    "\n"
   ]
  },
  {
   "cell_type": "code",
   "execution_count": null,
   "id": "a1e8d56e",
   "metadata": {},
   "outputs": [],
   "source": [
    "import matplotlib.pyplot as plt\n",
    "import numpy as np\n",
    "intervals = np.linspace(0, ts.sequence_length, 20)\n",
    "intervals=list(ts.breakpoints())\n",
    "plt.stairs(ts.segregating_sites(windows=intervals, mode=\"branch\"), intervals, baseline=None)\n",
    "plt.xlabel(\"Genome position (kb)\")\n",
    "plt.ylabel(\"Diversity\")\n",
    "plt.yscale(\"log\")\n",
    "plt.show()"
   ]
  },
  {
   "cell_type": "markdown",
   "id": "5e867845",
   "metadata": {},
   "source": [
    ":::{margin}\n",
    "The {ref}`visualization tutorial <sec_tskit_viz>` gives more drawing possibilities\n",
    ":::\n",
    "\n",
    "This tree shows the classic signature of a recent expansion or selection event, with many\n",
    "long terminal branches, resulting in an excess of singleton mutations.\n",
    "\n",
    ":::{margin}\n",
    "The {ref}`Simplification tutorial<sec_simplification>` details many other uses\n",
    "for {meth}`~TreeSequence.simplify`.\n",
    ":::\n",
    "\n",
    "It can often be helpful to slim down a tree sequence so that it represents the genealogy\n",
    "of a smaller subset of the original samples. This can be done using the powerful\n",
    "{meth}`TreeSequence.simplify` method.\n",
    "\n",
    "The {meth}`TreeSequence.draw_svg` method allows us to draw\n",
    "more than one tree: either the entire tree sequence, or\n",
    "(by using the ``x_lim`` parameter) a smaller region of the genome:"
   ]
  },
  {
   "cell_type": "code",
   "execution_count": null,
   "id": "986d170d",
   "metadata": {},
   "outputs": [],
   "source": [
    "reduced_ts = ts.simplify([0, 1, 2, 3, 4, 5, 6, 7, 8, 9])  # simplify to the first 10 samples\n",
    "print(\"Genealogy of the first 10 samples for the first 5kb of the genome\")\n",
    "display(SVG(reduced_ts.draw_svg(x_lim=(0, 5000))))"
   ]
  },
  {
   "cell_type": "markdown",
   "id": "20f4ba2f",
   "metadata": {},
   "source": [
    "These are much more standard-looking coalescent trees, with far longer branches higher\n",
    "up in the tree, and therefore many more mutations at higher-frequencies.\n",
    "\n",
    ":::{margin}\n",
    "You cannot directly edit a tree sequence; to add e.g. metadata you must edit a\n",
    "copy of the underlying tables. This is described in the\n",
    "{ref}`Tables and editing tutorial<sec_tables_editing>`.\n",
    ":::\n",
    "\n",
    ":::{note}\n",
    "In this tutorial we refer to objects, such as sample nodes, by their numerical IDs. These\n",
    "can change after simplification, and it is often more meaningful to \n",
    "{ref}`work with metadata<sec_tutorial_metadata>`, such as sample and population names,\n",
    "which can be permanently attached to objects in the tree sequence. Such metadata is\n",
    "often incorporated automatically by the tools generating the tree sequence. \n",
    ":::\n",
    "\n",
    "(sec_processing_sites_and_mutations)=\n",
    "\n",
    "## Processing sites and mutations\n",
    "\n",
    ":::{margin}\n",
    "See the tutorial entitled \"{ref}`sec_tskit_no_mutations`\" for why you may not need\n",
    "sites or mutations in your analyses.\n",
    ":::\n",
    "\n",
    "For many purposes it may be better to focus on the genealogy of your samples, rather than\n",
    "the {ref}`sites<sec_data_model_definitions_site>` and\n",
    "{ref}`mutations<sec_data_model_definitions_mutation>` that\n",
    "{ref}`define <sec_what_is_dna_data>` the genome sequence itself. Nevertheless,\n",
    "{program}`tskit` also provides efficient ways to return {class}`Site` object and\n",
    "{class}`Mutation` objects from a tree sequence.\n",
    "For instance, under the finite sites model of mutation that we used above, multiple mutations\n",
    "can occur at some sites, and we can identify them by iterating over the sites using the\n",
    "{meth}`TreeSequence.sites` method:"
   ]
  },
  {
   "cell_type": "code",
   "execution_count": null,
   "id": "4b6c2660",
   "metadata": {},
   "outputs": [],
   "source": [
    "import numpy as np\n",
    "num_muts = np.zeros(ts.num_sites, dtype=int)\n",
    "for site in ts.sites():\n",
    "    num_muts[site.id] = len(site.mutations)  # site.mutations is a list of mutations at the site\n",
    "\n",
    "# Print out some info about mutations per site\n",
    "for nmuts, count in enumerate(np.bincount(num_muts)):\n",
    "    info = f\"{count} sites\"\n",
    "    if nmuts > 1:\n",
    "        info += f\", with IDs {np.where(num_muts==nmuts)[0]},\"\n",
    "    print(info, f\"have {nmuts} mutation\" + (\"s\" if nmuts != 1 else \"\"))"
   ]
  },
  {
   "cell_type": "markdown",
   "id": "93b15d71",
   "metadata": {},
   "source": [
    "(sec_processing_genotypes)=\n",
    "\n",
    "## Processing genotypes\n",
    "\n",
    "At each site, the sample nodes will have a particular allelic state (or be flagged as\n",
    "{ref}`tskit:sec_data_model_missing_data`). The\n",
    "{meth}`TreeSequence.variants` method gives access to the\n",
    "full variation data. For efficiency, the {attr}`~Variant.genotypes`\n",
    "at a site are returned as a [numpy](https://numpy.org) array of integers:"
   ]
  },
  {
   "cell_type": "code",
   "execution_count": null,
   "id": "5cdf57fc",
   "metadata": {},
   "outputs": [],
   "source": [
    "import numpy as np\n",
    "np.set_printoptions(linewidth=200)  # print genotypes on a single line\n",
    "\n",
    "print(\"Genotypes\")\n",
    "for v in ts.variants():\n",
    "    print(f\"Site {v.site.id}: {v.genotypes}\")\n",
    "    if v.site.id >= 4:  # only print up to site ID 4\n",
    "        print(\"...\")\n",
    "        break"
   ]
  },
  {
   "cell_type": "markdown",
   "id": "89a77cfd",
   "metadata": {},
   "source": [
    ":::{note}\n",
    "Tree sequences are optimised to look at all samples at one site, then all samples at an\n",
    "adjacent site, and so on along the genome. It is much less efficient look at all the\n",
    "sites for a single sample, then all the sites for the next sample, etc. In other words,\n",
    "you should generally iterate over sites, not samples. Nevertheless, all the alleles for\n",
    "a single sample can be obtained via the\n",
    "{meth}`TreeSequence.haplotypes` method.\n",
    ":::\n",
    "\n",
    "\n",
    "To find the actual allelic states at a site, you can refer to the\n",
    "{attr}`~Variant.alleles` provided for each {class}`Variant`:\n",
    "the genotype value is an index into this list. Here's one way to print them out; for\n",
    "clarity this example also prints out the IDs of both the sample nodes (i.e. the genomes)\n",
    "and the diploid {ref}`individuals <sec_nodes_or_individuals>` in which each sample\n",
    "node resides."
   ]
  },
  {
   "cell_type": "code",
   "execution_count": null,
   "id": "de57b2b0",
   "metadata": {},
   "outputs": [],
   "source": [
    "samp_ids = ts.samples()\n",
    "print(\"  ID of diploid individual: \", \" \".join([f\"{ts.node(s).individual:3}\" for s in samp_ids]))\n",
    "print(\"       ID of (sample) node: \", \" \".join([f\"{s:3}\" for s in samp_ids]))\n",
    "for v in ts.variants():\n",
    "    site = v.site\n",
    "    alleles = np.array(v.alleles)\n",
    "    print(f\"Site {site.id} (ancestral state '{site.ancestral_state}')\",  alleles[v.genotypes])\n",
    "    if site.id >= 4:  # only print up to site ID 4\n",
    "        print(\"...\")\n",
    "        break"
   ]
  },
  {
   "cell_type": "markdown",
   "id": "1ba49d5d",
   "metadata": {},
   "source": [
    ":::{note}\n",
    "Since we have used the {class}`msprime.JC69` model of mutations, the alleles are all\n",
    "either 'A', 'T', 'G', or 'C'. However, more complex mutation models can involve mutations\n",
    "such as indels, leading to allelic states which need not be one of these 4 letters, nor\n",
    "even be a single letter.\n",
    ":::\n",
    "\n",
    "\n",
    "(sec_tskit_getting_started_compute_statistics)=\n",
    "\n",
    "## Computing statistics\n",
    "\n",
    "There are a {ref}`large number of statistics<tskit:sec_stats>` and related calculations\n",
    "built in to {program}`tskit`. Indeed, many basic population genetic statistics are based\n",
    "on the allele (or site) frequency spectrum (AFS), which can be obtained from a tree sequence\n",
    "using the {meth}`TreeSequence.allele_frequency_spectrum`\n",
    "method:"
   ]
  },
  {
   "cell_type": "code",
   "execution_count": null,
   "id": "978147bf",
   "metadata": {},
   "outputs": [],
   "source": [
    "afs = ts.allele_frequency_spectrum()\n",
    "plt.bar(np.arange(ts.num_samples + 1), afs)\n",
    "plt.title(\"Unpolarised allele frequency spectrum\")\n",
    "plt.show()"
   ]
  },
  {
   "cell_type": "markdown",
   "id": "dc270495",
   "metadata": {},
   "source": [
    "By default this method returns the \"folded\" or unpolarized AFS that doesn't\n",
    "{ref}`take account of the ancestral state<tskit:sec_stats_polarisation>`.\n",
    "However, since the tree sequence provides the ancestral state, we can plot the polarized\n",
    "version; additionally we can base our calculations on branch lengths rather than alleles,\n",
    "which provides an estimate that is not influenced by random mutational \"noise\"."
   ]
  },
  {
   "cell_type": "code",
   "execution_count": null,
   "id": "10f60f4c",
   "metadata": {},
   "outputs": [],
   "source": [
    "fig, (ax1, ax2) = plt.subplots(ncols=2, figsize=(12, 3))\n",
    "\n",
    "afs1 = ts.allele_frequency_spectrum(polarised=True, mode=\"branch\")\n",
    "ax1.bar(np.arange(ts.num_samples+1), afs1)\n",
    "ax1.set_title(\"Genome-wide branch-length AFS\")\n",
    "\n",
    "restricted_ts = ts.keep_intervals([[5e6, 5.5e6]])\n",
    "afs2 = restricted_ts.allele_frequency_spectrum(polarised=True, mode=\"branch\")\n",
    "ax2.bar(np.arange(restricted_ts.num_samples+1), afs2)\n",
    "ax2.set_title(\"Branch-length AFS between 5 and 5.5Mb\")\n",
    "\n",
    "plt.show()"
   ]
  },
  {
   "cell_type": "markdown",
   "id": "1475209f",
   "metadata": {},
   "source": [
    "On the left is the frequency spectrum averaged over the entire genome, and on the right\n",
    "is the spectrum for a section of the tree sequence between 5 and 5.5Mb, which we've\n",
    "created by deleting the regions outside that interval using\n",
    "{meth}`TreeSequence.keep_intervals`. Unsurprisingly,\n",
    "as we noted when looking at the trees, there's a far higher proportion of singletons in\n",
    "the region of the sweep.\n",
    "\n",
    "(sec_tskit_getting_started_compute_statistics_windowing)=\n",
    "\n",
    "### Windowing\n",
    "\n",
    "It is often useful to see how statistics vary in different genomic regions. This is done\n",
    "by calculating them in {ref}`tskit:sec_stats_windows` along the genome. For this,\n",
    "let's look at a single statistic, the genetic {meth}`~TreeSequence.diversity` (π). As a\n",
    "site statistic this measures the average number of genetic differences between two\n",
    "randomly chosen samples, whereas as a branch length statistic it measures the average\n",
    "branch length between them. We'll plot how the value of π changes using 10kb windows,\n",
    "plotting the resulting diversity between positions 4 and 6 Mb:"
   ]
  },
  {
   "cell_type": "code",
   "execution_count": null,
   "id": "f4214f53",
   "metadata": {},
   "outputs": [],
   "source": [
    "import numpy as np\n",
    "fig, (ax1, ax2) = plt.subplots(ncols=2, figsize=(12, 3))\n",
    "L = int(ts.sequence_length)\n",
    "windows = np.linspace(0, L, num=L//10_000)\n",
    "ax1.stairs(ts.diversity(windows=windows), windows/1_000, baseline=None)  # Default is mode=\"site\"\n",
    "ax1.set_ylabel(\"Diversity\")\n",
    "ax1.set_xlabel(\"Genome position (kb)\")\n",
    "ax1.set_title(\"Site-based calculation\")\n",
    "#ax1.set_xlim(4e3, 6e3)\n",
    "ax1.set_yscale(\"log\")\n",
    "ax2.stairs(ts.diversity(windows=windows, mode=\"branch\"), windows/1_000, baseline=None)\n",
    "ax2.set_xlabel(\"Genome position (kb)\")\n",
    "ax2.set_title(\"Branch-length-based calculation\")\n",
    "#ax2.set_xlim(4e3, 6e3)\n",
    "ax2.set_yscale(\"log\")\n",
    "plt.show()"
   ]
  },
  {
   "cell_type": "markdown",
   "id": "4878927b",
   "metadata": {},
   "source": [
    "There's a clear drop in diversity in the region of the selective sweep. And as expected,\n",
    "the statistic based on branch-lengths gives a less noisy signal.\n",
    "\n",
    "\n",
    "(sec_tskit_getting_started_exporting_data)=\n",
    "\n",
    "## Saving and exporting data\n",
    "\n",
    "Tree sequences can be efficiently saved to file using {meth}`TreeSequence.dump`, and\n",
    "loaded back again using {func}`tskit.load`. By convention, we use the suffix ``.trees``\n",
    "for such files:"
   ]
  },
  {
   "cell_type": "code",
   "execution_count": null,
   "id": "a52e1498",
   "metadata": {},
   "outputs": [],
   "source": [
    "import tskit\n",
    "\n",
    "ts.dump(\"data/my_tree_sequence.trees\")\n",
    "new_ts = tskit.load(\"data/my_tree_sequence.trees\")"
   ]
  },
  {
   "cell_type": "markdown",
   "id": "a82dcf36",
   "metadata": {},
   "source": [
    "It's also possible to export tree sequences to different formats. Note, however, that\n",
    "not only are these usually much larger files, but that analysis is usually much faster\n",
    "when performed by built-in tskit functions than by exporting and using alternative\n",
    "software. If you have a large tree sequence, you should *try to avoid exporting\n",
    "to other formats*.\n",
    "\n",
    "### Newick and Nexus format\n",
    "\n",
    "The most common format for interchanging tree data is Newick. \n",
    "We can export to a newick format string quite easily. This can be useful for\n",
    "interoperating with existing tree processing libraries but is very inefficient for\n",
    "large trees. There is also no support for including sites and mutations in the trees."
   ]
  },
  {
   "cell_type": "code",
   "execution_count": null,
   "id": "9655728e",
   "metadata": {},
   "outputs": [],
   "source": [
    "small_ts = reduced_ts.keep_intervals([[0, 10000]])\n",
    "tree = small_ts.first()\n",
    "print(tree.newick(precision=3))"
   ]
  },
  {
   "cell_type": "markdown",
   "id": "e7dd8ac8",
   "metadata": {},
   "source": [
    "For an entire set of trees, you can use the Nexus file format, which acts as a container\n",
    "for a list of Newick format trees, one per line:"
   ]
  },
  {
   "cell_type": "code",
   "execution_count": null,
   "id": "4d55377e",
   "metadata": {},
   "outputs": [],
   "source": [
    "small_ts = small_ts.trim()  # Must trim off the blank region at the end of cut-down ts\n",
    "print(small_ts.as_nexus(precision=3, include_alignments=False))"
   ]
  },
  {
   "cell_type": "markdown",
   "id": "7c6e4153",
   "metadata": {},
   "source": [
    "### VCF\n",
    "\n",
    "The standard way of interchanging genetic variation data is the Variant Call Format, \n",
    "for which tskit has basic support:"
   ]
  },
  {
   "cell_type": "code",
   "execution_count": null,
   "id": "e9271fd3",
   "metadata": {},
   "outputs": [],
   "source": [
    "import sys\n",
    "small_ts.write_vcf(sys.stdout)"
   ]
  },
  {
   "cell_type": "markdown",
   "id": "6a52ae5d",
   "metadata": {},
   "source": [
    "The write_vcf method takes a file object as a parameter; to get it to write out to the\n",
    "notebook here we ask it to write to stdout.\n",
    "\n",
    "### Scikit-allel\n",
    "\n",
    "Because tskit integrates very closely with numpy, we can interoperate very efficiently\n",
    "with downstream Python libraries for working with genetic\n",
    "sequence data, such as [scikit-allel](https://scikit-allel.readthedocs.io/en/stable/).\n",
    "We can interoperate with {program}`scikit-allel` by exporting the genotype matrix as a\n",
    "numpy array, which {program}`scikit-allel` can then process in various ways."
   ]
  },
  {
   "cell_type": "code",
   "execution_count": null,
   "id": "769debc5",
   "metadata": {},
   "outputs": [],
   "source": [
    "import allel\n",
    "# Export the genotype data to allel. Unfortunately there's a slight mismatch in the \n",
    "# terminology here where genotypes and haplotypes mean different things in the two\n",
    "# libraries.\n",
    "h = allel.HaplotypeArray(small_ts.genotype_matrix())\n",
    "print(h.n_variants, h.n_haplotypes)\n",
    "h"
   ]
  },
  {
   "cell_type": "markdown",
   "id": "385a4847",
   "metadata": {},
   "source": [
    "Sckit.allel has a wide-ranging and efficient suite of tools for working with genotype\n",
    "data, so should provide anything that's needed. For example, it gives us an\n",
    "another way to compute the pairwise diversity statistic (that we calculated\n",
    "{ref}`above<sec_tskit_getting_started_compute_statistics_windowing>`\n",
    "using the native {meth}`TreeSequence.diversity` method):"
   ]
  },
  {
   "cell_type": "code",
   "execution_count": null,
   "id": "432a87f6",
   "metadata": {},
   "outputs": [],
   "source": [
    "ac = h.count_alleles()\n",
    "allel.mean_pairwise_difference(ac)"
   ]
  },
  {
   "cell_type": "markdown",
   "id": "936987e9",
   "metadata": {},
   "source": [
    "(sec_tskit_getting_started_key_points)=\n",
    "\n",
    "## Key points covered above\n",
    "\n",
    "Some simple methods and take-home messages from this introduction to the\n",
    "{program}`tskit` {ref}`sec_python_api`,\n",
    "in rough order of importance:\n",
    "\n",
    "* Objects and their attributes\n",
    "    * In Python, a {class}`TreeSequence` object has a number of basic attributes such as\n",
    "        {attr}`~TreeSequence.num_trees`, {attr}`~TreeSequence.num_sites`,\n",
    "        {attr}`~TreeSequence.num_samples`, {attr}`~TreeSequence.sequence_length`, etc.\n",
    "        Similarly a {class}`Tree` object has e.g. an {attr}`~Tree.interval` attribute, a\n",
    "        {class}`Site` object has a {attr}`~Site.mutations` attribute, a {class}`Node`\n",
    "        object has a {attr}`~Node.time` attribute, and so on.\n",
    "    * {ref}`sec_terminology_nodes` (i.e. genomes) can belong to\n",
    "        {ref}`individuals<sec_terminology_individuals_and_populations>`. For example,\n",
    "        sampling a diploid individual results in an {class}`Individual` object which\n",
    "        possesses two distinct {ref}`sample nodes<sec_terminology_nodes_samples>`.\n",
    "* Key tree sequence methods\n",
    "    * {meth}`~TreeSequence.samples()` returns an array of node IDs specifying the\n",
    "        nodes that are marked as samples\n",
    "    * {meth}`~TreeSequence.node` returns the node object for a given integer node ID\n",
    "    * {meth}`~TreeSequence.trees` iterates over all the trees\n",
    "    * {meth}`~TreeSequence.sites` iterates over all the sites\n",
    "    * {meth}`~TreeSequence.variants` iterates over all the sites with their genotypes\n",
    "        and alleles\n",
    "    * {meth}`~TreeSequence.simplify()` reduces the number of sample nodes in the tree\n",
    "        sequence to a specified subset\n",
    "    * {meth}`~TreeSequence.keep_intervals()` (or its complement,\n",
    "        {meth}`~TreeSequence.delete_intervals()`) removes genetic information from\n",
    "        specific regions of the genome\n",
    "    * {meth}`~TreeSequence.draw_svg()` plots tree sequences (and {meth}`Tree.draw_svg()`\n",
    "        plots trees)\n",
    "    * {meth}`~TreeSequence.at()` returns a tree at a particular genomic position\n",
    "        (but using {meth}`~TreeSequence.trees` is usually preferable)\n",
    "    * Various population genetic statistics can be calculated using methods on a tree\n",
    "        sequence, for example {meth}`~TreeSequence.allele_frequency_spectrum`,\n",
    "        {meth}`~TreeSequence.diversity`, and {meth}`~TreeSequence.Fst`; these can\n",
    "        also be calculated in windows along the genome."
   ]
  }
 ],
 "metadata": {
  "jupytext": {
   "text_representation": {
    "extension": ".md",
    "format_name": "myst",
    "format_version": 0.12,
    "jupytext_version": "1.9.1"
   }
  },
  "kernelspec": {
   "display_name": "Python 3",
   "language": "python",
   "name": "python3"
  },
  "language_info": {
   "codemirror_mode": {
    "name": "ipython",
    "version": 3
   },
   "file_extension": ".py",
   "mimetype": "text/x-python",
   "name": "python",
   "nbconvert_exporter": "python",
   "pygments_lexer": "ipython3",
   "version": "3.9.1"
  },
  "source_map": [
   12,
   47,
   67,
   87,
   94,
   124,
   135,
   143,
   157,
   174,
   182,
   203,
   207,
   245,
   257,
   269,
   279,
   300,
   311,
   331,
   336,
   344,
   357,
   378,
   394,
   408,
   413,
   428,
   432,
   437,
   440,
   447,
   450,
   463,
   471,
   479,
   482
  ]
 },
 "nbformat": 4,
 "nbformat_minor": 5
}
