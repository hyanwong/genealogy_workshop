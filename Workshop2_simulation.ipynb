{
 "cells": [
  {
   "cell_type": "markdown",
   "metadata": {},
   "source": [
    "# Simulating ancestry with msprime\n",
    "\n",
    "We will use `msprime`, a backwards-time tree sequence simulator, to generate genealogical trees with mutations occurring along them. We will simulate genomic data sets using two demographic models: (1) a simple model with A single, panmictic population and (2) a stepping stone model with six populations.\n",
    " \n",
    "### Why do we do simulations in population genetics?\n",
    "\n",
    "**Exploration:**\n",
    "Simulations allow us to explore the influence of various historical scenarios on observed patterns of genetic variation and inheritance.\n",
    "\n",
    "**Benchmarking and evaluating methodologies:**\n",
    "To assess the accuracy of inferential methods, we need test datasets for which the true values of important parameters are known.\n",
    "\n",
    "**Model training:**\n",
    "Some methods for ancestry inference are trained on simulated data (e.g., Approximate Bayesian Computation).\n",
    "This is especially important in studies of complex demographies, where there are many potential parameters and models, making it impractical to specify likelihood functions.\n",
    "\n",
    "### A brief history of msprime\n",
    "\n",
    "The first release of `msprime` was an emulation of the popular `ms` coalescent simulator with added support for tree sequences.\n",
    "However, it has since become an expansive and flexible backwards-in-time simulator for various different models of genetic ancestry and mutation, and even for simplified models of selection.\n",
    "There is a *forwards-time* simulator named `SLiM` which is not covered in this workshop.\n",
    "\n",
    "### Backwards simulation\n",
    "\n",
    "The main characteristic of `msprime` is that is simulates *tree sequences* in *backwards-time*.\n",
    "\n",
    "<img src=\"pics/msprime-1.png\" width=\"200\" height=\"200\">\n",
    "<img src=\"pics/msprime-2.png\" width=\"200\" height=\"200\">\n",
    "<img src=\"pics/msprime-3.png\" width=\"200\" height=\"200\">\n",
    "<img src=\"pics/msprime-4.png\" width=\"200\" height=\"200\">\n",
    "<img src=\"pics/msprime-5.png\" width=\"200\" height=\"200\">"
   ]
  },
  {
   "cell_type": "code",
   "execution_count": 4,
   "metadata": {},
   "outputs": [],
   "source": [
    "import random\n",
    "import numpy as np\n",
    "import matplotlib.pyplot as plt\n",
    "from IPython.display import SVG\n",
    "\n",
    "import msprime\n",
    "import tskit\n",
    "import tsinfer\n",
    "import tsdate\n",
    "import demesdraw"
   ]
  },
  {
   "cell_type": "markdown",
   "metadata": {},
   "source": [
    "## Basic syntax to simulate a tree sequence\n",
    "\n",
    "To simulate a tree sequence in `msprime`, we use the `sim_ancestry()` method:"
   ]
  },
  {
   "cell_type": "code",
   "execution_count": 3,
   "metadata": {},
   "outputs": [
    {
     "data": {
      "image/svg+xml": [
       "<svg xmlns=\"http://www.w3.org/2000/svg\" xmlns:ev=\"http://www.w3.org/2001/xml-events\" xmlns:xlink=\"http://www.w3.org/1999/xlink\" baseProfile=\"full\" height=\"200\" version=\"1.1\" width=\"200\"><defs><style type=\"text/css\"><![CDATA[.background path {fill: #808080; fill-opacity: 0}.background path:nth-child(odd) {fill-opacity: .1}.axes {font-size: 14px}.x-axis .tick .lab {font-weight: bold; dominant-baseline: hanging}.axes, .tree {font-size: 14px; text-anchor: middle}.axes line, .edge {stroke: black; fill: none}.y-axis .grid {stroke: #FAFAFA}.node > .sym {fill: black; stroke: none}.site > .sym {stroke: black}.mut text {fill: red; font-style: italic}.mut.extra text {fill: hotpink}.mut line {fill: none; stroke: none}.mut .sym {fill: none; stroke: red}.mut.extra .sym {stroke: hotpink}.node .mut .sym {stroke-width: 1.5px}.tree text, .tree-sequence text {dominant-baseline: central}.plotbox .lab.lft {text-anchor: end}.plotbox .lab.rgt {text-anchor: start}]]></style></defs><g class=\"tree-sequence\"><g class=\"background\"><path d=\"M20,0 l160,0 l0,138.2 l0,25 l0,5 l-160,0 l0,-5 l0,-25 l0,-138.2z\"/></g><g class=\"axes\"><g class=\"x-axis\"><g transform=\"translate(100 200)\"><text class=\"lab\" text-anchor=\"middle\" transform=\"translate(0 -11)\">Genome position</text></g><line x1=\"20\" x2=\"180\" y1=\"163.2\" y2=\"163.2\"/><g class=\"ticks\"><g class=\"tick\" transform=\"translate(20 163.2)\"><line x1=\"0\" x2=\"0\" y1=\"0\" y2=\"5\"/><g transform=\"translate(0 6)\"><text class=\"lab\">0</text></g></g><g class=\"tick\" transform=\"translate(180 163.2)\"><line x1=\"0\" x2=\"0\" y1=\"0\" y2=\"5\"/><g transform=\"translate(0 6)\"><text class=\"lab\">1</text></g></g></g></g></g><g class=\"plotbox trees\"><g class=\"tree t0\" transform=\"translate(20 0)\"><g class=\"plotbox\"><g class=\"c2 node n6 p0 root\" transform=\"translate(98.75 26.8)\"><g class=\"a6 i1 leaf node n2 p0 sample\" transform=\"translate(26.25 94.6)\"><path class=\"edge\" d=\"M 0 0 V -94.6 H -26.25\"/><rect class=\"sym\" height=\"6\" width=\"6\" x=\"-3\" y=\"-3\"/><text class=\"lab\" transform=\"translate(0 11)\">2</text></g><g class=\"a6 c2 node n5 p0\" transform=\"translate(-26.25 25.2505)\"><g class=\"a5 i1 leaf node n3 p0 sample\" transform=\"translate(22.5 69.3495)\"><path class=\"edge\" d=\"M 0 0 V -69.3495 H -22.5\"/><rect class=\"sym\" height=\"6\" width=\"6\" x=\"-3\" y=\"-3\"/><text class=\"lab\" transform=\"translate(0 11)\">3</text></g><g class=\"a5 c2 node n4 p0\" transform=\"translate(-22.5 63.0417)\"><g class=\"a4 i0 leaf node n0 p0 sample\" transform=\"translate(-15 6.3078)\"><path class=\"edge\" d=\"M 0 0 V -6.3078 H 15\"/><rect class=\"sym\" height=\"6\" width=\"6\" x=\"-3\" y=\"-3\"/><text class=\"lab\" transform=\"translate(0 11)\">0</text></g><g class=\"a4 i0 leaf node n1 p0 sample\" transform=\"translate(15 6.3078)\"><path class=\"edge\" d=\"M 0 0 V -6.3078 H -15\"/><rect class=\"sym\" height=\"6\" width=\"6\" x=\"-3\" y=\"-3\"/><text class=\"lab\" transform=\"translate(0 11)\">1</text></g><path class=\"edge\" d=\"M 0 0 V -63.0417 H 22.5\"/><circle class=\"sym\" cx=\"0\" cy=\"0\" r=\"3\"/><text class=\"lab lft\" transform=\"translate(-3 -7.0)\">4</text></g><path class=\"edge\" d=\"M 0 0 V -25.2505 H 26.25\"/><circle class=\"sym\" cx=\"0\" cy=\"0\" r=\"3\"/><text class=\"lab lft\" transform=\"translate(-3 -7.0)\">5</text></g><circle class=\"sym\" cx=\"0\" cy=\"0\" r=\"3\"/><text class=\"lab\" transform=\"translate(0 -11)\">6</text></g></g></g></g></g></svg>"
      ],
      "text/plain": [
       "<IPython.core.display.SVG object>"
      ]
     },
     "execution_count": 3,
     "metadata": {},
     "output_type": "execute_result"
    }
   ],
   "source": [
    "ts = msprime.sim_ancestry(\n",
    "    samples=2, # two diploid individuals\n",
    "    random_seed=1\n",
    ")\n",
    "SVG(ts.draw_svg())"
   ]
  },
  {
   "cell_type": "code",
   "execution_count": 4,
   "metadata": {},
   "outputs": [
    {
     "data": {
      "text/html": [
       "\n",
       "            <div>\n",
       "              <style>\n",
       "                .tskit-table thead tr th {text-align: left;padding: 0.5em 0.5em;}\n",
       "                .tskit-table tbody tr td {padding: 0.5em 0.5em;}\n",
       "                .tskit-table tbody tr td:first-of-type {text-align: left;}\n",
       "                .tskit-details-label {vertical-align: top; padding-right:5px;}\n",
       "                .tskit-table-set {display: inline-flex;flex-wrap: wrap;margin: -12px 0 0 -12px;width: calc(100% + 12px);}\n",
       "                .tskit-table-set-table {margin: 12px 0 0 12px;}\n",
       "                details {display: inline-block;}\n",
       "                summary {cursor: pointer; outline: 0; display: list-item;}\n",
       "              </style>\n",
       "              <div class=\"tskit-table-set\">\n",
       "                <div class=\"tskit-table-set-table\">\n",
       "                  <table class=\"tskit-table\">\n",
       "                    <thead>\n",
       "                      <tr>\n",
       "                        <th style=\"padding:0;line-height:21px;\">\n",
       "                          <img style=\"height: 32px;display: inline-block;padding: 3px 5px 3px 0;\" src=\"https://raw.githubusercontent.com/tskit-dev/administrative/main/tskit_logo.svg\"/>\n",
       "                          <a target=\"_blank\" href=\"https://tskit.dev/tskit/docs/latest/python-api.html#the-treesequence-class\"> Tree Sequence </a>\n",
       "                        </th>\n",
       "                      </tr>\n",
       "                    </thead>\n",
       "                    <tbody>\n",
       "                      <tr><td>Trees</td><td>1</td></tr>\n",
       "                      <tr><td>Sequence Length</td><td>1.0</td></tr>\n",
       "                      <tr><td>Time Units</td><td>generations</td></tr>\n",
       "                      <tr><td>Sample Nodes</td><td>4</td></tr>\n",
       "                      <tr><td>Total Size</td><td>1.8 KiB</td></tr>\n",
       "                      <tr>\n",
       "                        <td>Metadata</td><td style=\"text-align: left;\">No Metadata</td></tr>\n",
       "                    </tbody>\n",
       "                  </table>\n",
       "                </div>\n",
       "                <div class=\"tskit-table-set-table\">\n",
       "                  <table class=\"tskit-table\">\n",
       "                    <thead>\n",
       "                      <tr>\n",
       "                        <th style=\"line-height:21px;\">Table</th>\n",
       "                        <th>Rows</th>\n",
       "                        <th>Size</th>\n",
       "                        <th>Has Metadata</th>\n",
       "                      </tr>\n",
       "                    </thead>\n",
       "                    <tbody>\n",
       "                    \n",
       "                  <tr>\n",
       "                    <td>Edges</td>\n",
       "                      <td>6</td>\n",
       "                      <td>200 Bytes</td>\n",
       "                      <td style=\"text-align: center;\">\n",
       "                        \n",
       "                      </td>\n",
       "                    </tr>\n",
       "                \n",
       "                  <tr>\n",
       "                    <td>Individuals</td>\n",
       "                      <td>2</td>\n",
       "                      <td>80 Bytes</td>\n",
       "                      <td style=\"text-align: center;\">\n",
       "                        \n",
       "                      </td>\n",
       "                    </tr>\n",
       "                \n",
       "                  <tr>\n",
       "                    <td>Migrations</td>\n",
       "                      <td>0</td>\n",
       "                      <td>8 Bytes</td>\n",
       "                      <td style=\"text-align: center;\">\n",
       "                        \n",
       "                      </td>\n",
       "                    </tr>\n",
       "                \n",
       "                  <tr>\n",
       "                    <td>Mutations</td>\n",
       "                      <td>0</td>\n",
       "                      <td>16 Bytes</td>\n",
       "                      <td style=\"text-align: center;\">\n",
       "                        \n",
       "                      </td>\n",
       "                    </tr>\n",
       "                \n",
       "                  <tr>\n",
       "                    <td>Nodes</td>\n",
       "                      <td>7</td>\n",
       "                      <td>204 Bytes</td>\n",
       "                      <td style=\"text-align: center;\">\n",
       "                        \n",
       "                      </td>\n",
       "                    </tr>\n",
       "                \n",
       "                  <tr>\n",
       "                    <td>Populations</td>\n",
       "                      <td>1</td>\n",
       "                      <td>224 Bytes</td>\n",
       "                      <td style=\"text-align: center;\">\n",
       "                        ✅\n",
       "                      </td>\n",
       "                    </tr>\n",
       "                \n",
       "                  <tr>\n",
       "                    <td>Provenances</td>\n",
       "                      <td>1</td>\n",
       "                      <td>986 Bytes</td>\n",
       "                      <td style=\"text-align: center;\">\n",
       "                        \n",
       "                      </td>\n",
       "                    </tr>\n",
       "                \n",
       "                  <tr>\n",
       "                    <td>Sites</td>\n",
       "                      <td>0</td>\n",
       "                      <td>16 Bytes</td>\n",
       "                      <td style=\"text-align: center;\">\n",
       "                        \n",
       "                      </td>\n",
       "                    </tr>\n",
       "                \n",
       "                    </tbody>\n",
       "                  </table>\n",
       "                </div>\n",
       "              </div>\n",
       "            </div>\n",
       "            "
      ],
      "text/plain": [
       "<tskit.trees.TreeSequence at 0x7f86b8e929a0>"
      ]
     },
     "execution_count": 4,
     "metadata": {},
     "output_type": "execute_result"
    }
   ],
   "source": [
    "ts"
   ]
  },
  {
   "cell_type": "markdown",
   "metadata": {},
   "source": [
    "## Specifying contig information\n",
    "Although we have specified 2 samples, our tree sequence contains 4 sample nodes.\n",
    "This is because the `samples` argument specifies the number of *individuals* in the sample,\n",
    "and by default, `sim_ancestry()` assumes diploid organisms.\n",
    "To change this, use the `ploidy` argument:"
   ]
  },
  {
   "cell_type": "code",
   "execution_count": 5,
   "metadata": {},
   "outputs": [
    {
     "data": {
      "image/svg+xml": [
       "<svg xmlns=\"http://www.w3.org/2000/svg\" xmlns:ev=\"http://www.w3.org/2001/xml-events\" xmlns:xlink=\"http://www.w3.org/1999/xlink\" baseProfile=\"full\" height=\"200\" version=\"1.1\" width=\"200\"><defs><style type=\"text/css\"><![CDATA[.background path {fill: #808080; fill-opacity: 0}.background path:nth-child(odd) {fill-opacity: .1}.axes {font-size: 14px}.x-axis .tick .lab {font-weight: bold; dominant-baseline: hanging}.axes, .tree {font-size: 14px; text-anchor: middle}.axes line, .edge {stroke: black; fill: none}.y-axis .grid {stroke: #FAFAFA}.node > .sym {fill: black; stroke: none}.site > .sym {stroke: black}.mut text {fill: red; font-style: italic}.mut.extra text {fill: hotpink}.mut line {fill: none; stroke: none}.mut .sym {fill: none; stroke: red}.mut.extra .sym {stroke: hotpink}.node .mut .sym {stroke-width: 1.5px}.tree text, .tree-sequence text {dominant-baseline: central}.plotbox .lab.lft {text-anchor: end}.plotbox .lab.rgt {text-anchor: start}]]></style></defs><g class=\"tree-sequence\"><g class=\"background\"><path d=\"M20,0 l160,0 l0,138.2 l0,25 l0,5 l-160,0 l0,-5 l0,-25 l0,-138.2z\"/></g><g class=\"axes\"><g class=\"x-axis\"><g transform=\"translate(100 200)\"><text class=\"lab\" text-anchor=\"middle\" transform=\"translate(0 -11)\">Genome position</text></g><line x1=\"20\" x2=\"180\" y1=\"163.2\" y2=\"163.2\"/><g class=\"ticks\"><g class=\"tick\" transform=\"translate(20 163.2)\"><line x1=\"0\" x2=\"0\" y1=\"0\" y2=\"5\"/><g transform=\"translate(0 6)\"><text class=\"lab\">0</text></g></g><g class=\"tick\" transform=\"translate(180 163.2)\"><line x1=\"0\" x2=\"0\" y1=\"0\" y2=\"5\"/><g transform=\"translate(0 6)\"><text class=\"lab\">1</text></g></g></g></g></g><g class=\"plotbox trees\"><g class=\"tree t0\" transform=\"translate(20 0)\"><g class=\"plotbox\"><g class=\"c2 node n10 p0 root\" transform=\"translate(85 26.8)\"><g class=\"a10 c2 node n7 p0\" transform=\"translate(-30 50.894)\"><g class=\"a7 i1 leaf node n5 p0 sample\" transform=\"translate(15 43.706)\"><path class=\"edge\" d=\"M 0 0 V -43.706 H -15\"/><rect class=\"sym\" height=\"6\" width=\"6\" x=\"-3\" y=\"-3\"/><text class=\"lab\" transform=\"translate(0 11)\">5</text></g><g class=\"a7 c2 node n6 p0\" transform=\"translate(-15 38.5615)\"><g class=\"a6 i0 leaf node n0 p0 sample\" transform=\"translate(-10 5.14449)\"><path class=\"edge\" d=\"M 0 0 V -5.14449 H 10\"/><rect class=\"sym\" height=\"6\" width=\"6\" x=\"-3\" y=\"-3\"/><text class=\"lab\" transform=\"translate(0 11)\">0</text></g><g class=\"a6 i0 leaf node n2 p0 sample\" transform=\"translate(10 5.14449)\"><path class=\"edge\" d=\"M 0 0 V -5.14449 H -10\"/><rect class=\"sym\" height=\"6\" width=\"6\" x=\"-3\" y=\"-3\"/><text class=\"lab\" transform=\"translate(0 11)\">2</text></g><path class=\"edge\" d=\"M 0 0 V -38.5615 H 15\"/><circle class=\"sym\" cx=\"0\" cy=\"0\" r=\"3\"/><text class=\"lab lft\" transform=\"translate(-3 -7.0)\">6</text></g><path class=\"edge\" d=\"M 0 0 V -50.894 H 30\"/><circle class=\"sym\" cx=\"0\" cy=\"0\" r=\"3\"/><text class=\"lab lft\" transform=\"translate(-3 -7.0)\">7</text></g><g class=\"a10 c2 node n9 p0\" transform=\"translate(30 29.4758)\"><g class=\"a9 i1 leaf node n3 p0 sample\" transform=\"translate(15 65.1242)\"><path class=\"edge\" d=\"M 0 0 V -65.1242 H -15\"/><rect class=\"sym\" height=\"6\" width=\"6\" x=\"-3\" y=\"-3\"/><text class=\"lab\" transform=\"translate(0 11)\">3</text></g><g class=\"a9 c2 node n8 p0\" transform=\"translate(-15 12.8374)\"><g class=\"a8 i0 leaf node n1 p0 sample\" transform=\"translate(-10 52.2867)\"><path class=\"edge\" d=\"M 0 0 V -52.2867 H 10\"/><rect class=\"sym\" height=\"6\" width=\"6\" x=\"-3\" y=\"-3\"/><text class=\"lab\" transform=\"translate(0 11)\">1</text></g><g class=\"a8 i1 leaf node n4 p0 sample\" transform=\"translate(10 52.2867)\"><path class=\"edge\" d=\"M 0 0 V -52.2867 H -10\"/><rect class=\"sym\" height=\"6\" width=\"6\" x=\"-3\" y=\"-3\"/><text class=\"lab\" transform=\"translate(0 11)\">4</text></g><path class=\"edge\" d=\"M 0 0 V -12.8374 H 15\"/><circle class=\"sym\" cx=\"0\" cy=\"0\" r=\"3\"/><text class=\"lab lft\" transform=\"translate(-3 -7.0)\">8</text></g><path class=\"edge\" d=\"M 0 0 V -29.4758 H -30\"/><circle class=\"sym\" cx=\"0\" cy=\"0\" r=\"3\"/><text class=\"lab rgt\" transform=\"translate(3 -7.0)\">9</text></g><circle class=\"sym\" cx=\"0\" cy=\"0\" r=\"3\"/><text class=\"lab\" transform=\"translate(0 -11)\">10</text></g></g></g></g></g></svg>"
      ],
      "text/plain": [
       "<IPython.core.display.SVG object>"
      ]
     },
     "execution_count": 5,
     "metadata": {},
     "output_type": "execute_result"
    }
   ],
   "source": [
    "ts = msprime.sim_ancestry(\n",
    "    samples=2,\n",
    "    random_seed=1,\n",
    "    ploidy=3 # two triploid individuals\n",
    ")\n",
    "SVG(ts.draw_svg())"
   ]
  },
  {
   "cell_type": "markdown",
   "metadata": {},
   "source": [
    "It's easiest to start thinking about genome lengths in units of nucleotides. By default, we are simulating a sequence length that spans just one of these units.\n",
    "We can specify a larger region using the `sequence_length` argument:"
   ]
  },
  {
   "cell_type": "code",
   "execution_count": 6,
   "metadata": {
    "scrolled": true
   },
   "outputs": [
    {
     "data": {
      "image/svg+xml": [
       "<svg xmlns=\"http://www.w3.org/2000/svg\" xmlns:ev=\"http://www.w3.org/2001/xml-events\" xmlns:xlink=\"http://www.w3.org/1999/xlink\" baseProfile=\"full\" height=\"200\" version=\"1.1\" width=\"200\"><defs><style type=\"text/css\"><![CDATA[.background path {fill: #808080; fill-opacity: 0}.background path:nth-child(odd) {fill-opacity: .1}.axes {font-size: 14px}.x-axis .tick .lab {font-weight: bold; dominant-baseline: hanging}.axes, .tree {font-size: 14px; text-anchor: middle}.axes line, .edge {stroke: black; fill: none}.y-axis .grid {stroke: #FAFAFA}.node > .sym {fill: black; stroke: none}.site > .sym {stroke: black}.mut text {fill: red; font-style: italic}.mut.extra text {fill: hotpink}.mut line {fill: none; stroke: none}.mut .sym {fill: none; stroke: red}.mut.extra .sym {stroke: hotpink}.node .mut .sym {stroke-width: 1.5px}.tree text, .tree-sequence text {dominant-baseline: central}.plotbox .lab.lft {text-anchor: end}.plotbox .lab.rgt {text-anchor: start}]]></style></defs><g class=\"tree-sequence\"><g class=\"background\"><path d=\"M20,0 l160,0 l0,138.2 l0,25 l0,5 l-160,0 l0,-5 l0,-25 l0,-138.2z\"/></g><g class=\"axes\"><g class=\"x-axis\"><g transform=\"translate(100 200)\"><text class=\"lab\" text-anchor=\"middle\" transform=\"translate(0 -11)\">Genome position</text></g><line x1=\"20\" x2=\"180\" y1=\"163.2\" y2=\"163.2\"/><g class=\"ticks\"><g class=\"tick\" transform=\"translate(20 163.2)\"><line x1=\"0\" x2=\"0\" y1=\"0\" y2=\"5\"/><g transform=\"translate(0 6)\"><text class=\"lab\">0</text></g></g><g class=\"tick\" transform=\"translate(180 163.2)\"><line x1=\"0\" x2=\"0\" y1=\"0\" y2=\"5\"/><g transform=\"translate(0 6)\"><text class=\"lab\">10</text></g></g></g></g></g><g class=\"plotbox trees\"><g class=\"tree t0\" transform=\"translate(20 0)\"><g class=\"plotbox\"><g class=\"c2 node n6 p0 root\" transform=\"translate(98.75 26.8)\"><g class=\"a6 i1 leaf node n2 p0 sample\" transform=\"translate(26.25 94.6)\"><path class=\"edge\" d=\"M 0 0 V -94.6 H -26.25\"/><rect class=\"sym\" height=\"6\" width=\"6\" x=\"-3\" y=\"-3\"/><text class=\"lab\" transform=\"translate(0 11)\">2</text></g><g class=\"a6 c2 node n5 p0\" transform=\"translate(-26.25 25.2505)\"><g class=\"a5 i1 leaf node n3 p0 sample\" transform=\"translate(22.5 69.3495)\"><path class=\"edge\" d=\"M 0 0 V -69.3495 H -22.5\"/><rect class=\"sym\" height=\"6\" width=\"6\" x=\"-3\" y=\"-3\"/><text class=\"lab\" transform=\"translate(0 11)\">3</text></g><g class=\"a5 c2 node n4 p0\" transform=\"translate(-22.5 63.0417)\"><g class=\"a4 i0 leaf node n0 p0 sample\" transform=\"translate(-15 6.3078)\"><path class=\"edge\" d=\"M 0 0 V -6.3078 H 15\"/><rect class=\"sym\" height=\"6\" width=\"6\" x=\"-3\" y=\"-3\"/><text class=\"lab\" transform=\"translate(0 11)\">0</text></g><g class=\"a4 i0 leaf node n1 p0 sample\" transform=\"translate(15 6.3078)\"><path class=\"edge\" d=\"M 0 0 V -6.3078 H -15\"/><rect class=\"sym\" height=\"6\" width=\"6\" x=\"-3\" y=\"-3\"/><text class=\"lab\" transform=\"translate(0 11)\">1</text></g><path class=\"edge\" d=\"M 0 0 V -63.0417 H 22.5\"/><circle class=\"sym\" cx=\"0\" cy=\"0\" r=\"3\"/><text class=\"lab lft\" transform=\"translate(-3 -7.0)\">4</text></g><path class=\"edge\" d=\"M 0 0 V -25.2505 H 26.25\"/><circle class=\"sym\" cx=\"0\" cy=\"0\" r=\"3\"/><text class=\"lab lft\" transform=\"translate(-3 -7.0)\">5</text></g><circle class=\"sym\" cx=\"0\" cy=\"0\" r=\"3\"/><text class=\"lab\" transform=\"translate(0 -11)\">6</text></g></g></g></g></g></svg>"
      ],
      "text/plain": [
       "<IPython.core.display.SVG object>"
      ]
     },
     "execution_count": 6,
     "metadata": {},
     "output_type": "execute_result"
    }
   ],
   "source": [
    "ts = msprime.sim_ancestry(\n",
    "    samples=2,\n",
    "    random_seed=1,\n",
    "    sequence_length=10 # 10 bp long\n",
    ")\n",
    "SVG(ts.draw_svg())"
   ]
  },
  {
   "cell_type": "markdown",
   "metadata": {},
   "source": [
    "Also, note that our 'tree sequence' consists of just a single tree. This is because we have not yet specified a `recombination_rate`, and the default is 0. \n",
    "This is the probability of a recombination event per genomic unit (base), per generation."
   ]
  },
  {
   "cell_type": "code",
   "execution_count": 13,
   "metadata": {},
   "outputs": [
    {
     "data": {
      "image/svg+xml": [
       "<svg xmlns=\"http://www.w3.org/2000/svg\" xmlns:ev=\"http://www.w3.org/2001/xml-events\" xmlns:xlink=\"http://www.w3.org/1999/xlink\" baseProfile=\"full\" height=\"200\" version=\"1.1\" width=\"800\"><defs><style type=\"text/css\"><![CDATA[.background path {fill: #808080; fill-opacity: 0}.background path:nth-child(odd) {fill-opacity: .1}.axes {font-size: 14px}.x-axis .tick .lab {font-weight: bold; dominant-baseline: hanging}.axes, .tree {font-size: 14px; text-anchor: middle}.axes line, .edge {stroke: black; fill: none}.y-axis .grid {stroke: #FAFAFA}.node > .sym {fill: black; stroke: none}.site > .sym {stroke: black}.mut text {fill: red; font-style: italic}.mut.extra text {fill: hotpink}.mut line {fill: none; stroke: none}.mut .sym {fill: none; stroke: red}.mut.extra .sym {stroke: hotpink}.node .mut .sym {stroke-width: 1.5px}.tree text, .tree-sequence text {dominant-baseline: central}.plotbox .lab.lft {text-anchor: end}.plotbox .lab.rgt {text-anchor: start}]]></style></defs><g class=\"tree-sequence\"><g class=\"background\"><path d=\"M20,0 l190,0 l0,138.2 l-114,25 l0,5 l-76,0 l0,-5 l0,-25 l0,-138.2z\"/><path d=\"M210,0 l190,0 l0,138.2 l-228,25 l0,5 l-76,0 l0,-5 l114,-25 l0,-138.2z\"/><path d=\"M400,0 l190,0 l0,138.2 l114,25 l0,5 l-532,0 l0,-5 l228,-25 l0,-138.2z\"/><path d=\"M590,0 l190,0 l0,138.2 l0,25 l0,5 l-76,0 l0,-5 l-114,-25 l0,-138.2z\"/></g><g class=\"axes\"><g class=\"x-axis\"><g transform=\"translate(400 200)\"><text class=\"lab\" text-anchor=\"middle\" transform=\"translate(0 -11)\">Genome position</text></g><line x1=\"20\" x2=\"780\" y1=\"163.2\" y2=\"163.2\"/><g class=\"ticks\"><g class=\"tick\" transform=\"translate(20 163.2)\"><line x1=\"0\" x2=\"0\" y1=\"0\" y2=\"5\"/><g transform=\"translate(0 6)\"><text class=\"lab\">0</text></g></g><g class=\"tick\" transform=\"translate(96 163.2)\"><line x1=\"0\" x2=\"0\" y1=\"0\" y2=\"5\"/><g transform=\"translate(0 6)\"><text class=\"lab\">1</text></g></g><g class=\"tick\" transform=\"translate(172 163.2)\"><line x1=\"0\" x2=\"0\" y1=\"0\" y2=\"5\"/><g transform=\"translate(0 6)\"><text class=\"lab\">2</text></g></g><g class=\"tick\" transform=\"translate(704 163.2)\"><line x1=\"0\" x2=\"0\" y1=\"0\" y2=\"5\"/><g transform=\"translate(0 6)\"><text class=\"lab\">9</text></g></g><g class=\"tick\" transform=\"translate(780 163.2)\"><line x1=\"0\" x2=\"0\" y1=\"0\" y2=\"5\"/><g transform=\"translate(0 6)\"><text class=\"lab\">10</text></g></g></g></g></g><g class=\"plotbox trees\"><g class=\"tree t0\" transform=\"translate(20 0)\"><g class=\"plotbox\"><g class=\"c2 node n8 p0 root\" transform=\"translate(109.062 30.0081)\"><g class=\"a8 i1 leaf node n3 p0 sample\" transform=\"translate(42.1875 91.3919)\"><path class=\"edge\" d=\"M 0 0 V -91.3919 H -42.1875\"/><rect class=\"sym\" height=\"6\" width=\"6\" x=\"-3\" y=\"-3\"/><text class=\"lab\" transform=\"translate(0 11)\">3</text></g><g class=\"a8 c2 node n5 p0\" transform=\"translate(-42.1875 46.5549)\"><g class=\"a5 i0 leaf node n0 p0 sample\" transform=\"translate(-28.125 44.837)\"><path class=\"edge\" d=\"M 0 0 V -44.837 H 28.125\"/><rect class=\"sym\" height=\"6\" width=\"6\" x=\"-3\" y=\"-3\"/><text class=\"lab\" transform=\"translate(0 11)\">0</text></g><g class=\"a5 c2 node n4 p0\" transform=\"translate(28.125 44.1532)\"><g class=\"a4 i0 leaf node n1 p0 sample\" transform=\"translate(-18.75 0.683774)\"><path class=\"edge\" d=\"M 0 0 V -0.683774 H 18.75\"/><rect class=\"sym\" height=\"6\" width=\"6\" x=\"-3\" y=\"-3\"/><text class=\"lab\" transform=\"translate(0 11)\">1</text></g><g class=\"a4 i1 leaf node n2 p0 sample\" transform=\"translate(18.75 0.683774)\"><path class=\"edge\" d=\"M 0 0 V -0.683774 H -18.75\"/><rect class=\"sym\" height=\"6\" width=\"6\" x=\"-3\" y=\"-3\"/><text class=\"lab\" transform=\"translate(0 11)\">2</text></g><path class=\"edge\" d=\"M 0 0 V -44.1532 H -28.125\"/><circle class=\"sym\" cx=\"0\" cy=\"0\" r=\"3\"/><text class=\"lab rgt\" transform=\"translate(3 -7.0)\">4</text></g><path class=\"edge\" d=\"M 0 0 V -46.5549 H 42.1875\"/><circle class=\"sym\" cx=\"0\" cy=\"0\" r=\"3\"/><text class=\"lab lft\" transform=\"translate(-3 -7.0)\">5</text></g><circle class=\"sym\" cx=\"0\" cy=\"0\" r=\"3\"/><text class=\"lab\" transform=\"translate(0 -11)\">8</text></g></g></g><g class=\"tree t1\" transform=\"translate(210 0)\"><g class=\"plotbox\"><g class=\"c2 node n7 p0 root\" transform=\"translate(109.062 36.5039)\"><g class=\"a7 i1 leaf node n3 p0 sample\" transform=\"translate(42.1875 84.8961)\"><path class=\"edge\" d=\"M 0 0 V -84.8961 H -42.1875\"/><rect class=\"sym\" height=\"6\" width=\"6\" x=\"-3\" y=\"-3\"/><text class=\"lab\" transform=\"translate(0 11)\">3</text></g><g class=\"a7 c2 node n5 p0\" transform=\"translate(-42.1875 40.0591)\"><g class=\"a5 i0 leaf node n0 p0 sample\" transform=\"translate(-28.125 44.837)\"><path class=\"edge\" d=\"M 0 0 V -44.837 H 28.125\"/><rect class=\"sym\" height=\"6\" width=\"6\" x=\"-3\" y=\"-3\"/><text class=\"lab\" transform=\"translate(0 11)\">0</text></g><g class=\"a5 c2 node n4 p0\" transform=\"translate(28.125 44.1532)\"><g class=\"a4 i0 leaf node n1 p0 sample\" transform=\"translate(-18.75 0.683774)\"><path class=\"edge\" d=\"M 0 0 V -0.683774 H 18.75\"/><rect class=\"sym\" height=\"6\" width=\"6\" x=\"-3\" y=\"-3\"/><text class=\"lab\" transform=\"translate(0 11)\">1</text></g><g class=\"a4 i1 leaf node n2 p0 sample\" transform=\"translate(18.75 0.683774)\"><path class=\"edge\" d=\"M 0 0 V -0.683774 H -18.75\"/><rect class=\"sym\" height=\"6\" width=\"6\" x=\"-3\" y=\"-3\"/><text class=\"lab\" transform=\"translate(0 11)\">2</text></g><path class=\"edge\" d=\"M 0 0 V -44.1532 H -28.125\"/><circle class=\"sym\" cx=\"0\" cy=\"0\" r=\"3\"/><text class=\"lab rgt\" transform=\"translate(3 -7.0)\">4</text></g><path class=\"edge\" d=\"M 0 0 V -40.0591 H 42.1875\"/><circle class=\"sym\" cx=\"0\" cy=\"0\" r=\"3\"/><text class=\"lab lft\" transform=\"translate(-3 -7.0)\">5</text></g><circle class=\"sym\" cx=\"0\" cy=\"0\" r=\"3\"/><text class=\"lab\" transform=\"translate(0 -11)\">7</text></g></g></g><g class=\"tree t2\" transform=\"translate(400 0)\"><g class=\"plotbox\"><g class=\"c2 node n7 p0 root\" transform=\"translate(80.9375 36.5039)\"><g class=\"a7 i0 leaf node n0 p0 sample\" transform=\"translate(-42.1875 84.8961)\"><path class=\"edge\" d=\"M 0 0 V -84.8961 H 42.1875\"/><rect class=\"sym\" height=\"6\" width=\"6\" x=\"-3\" y=\"-3\"/><text class=\"lab\" transform=\"translate(0 11)\">0</text></g><g class=\"a7 c2 node n6 p0\" transform=\"translate(42.1875 32.1058)\"><g class=\"a6 i1 leaf node n3 p0 sample\" transform=\"translate(28.125 52.7904)\"><path class=\"edge\" d=\"M 0 0 V -52.7904 H -28.125\"/><rect class=\"sym\" height=\"6\" width=\"6\" x=\"-3\" y=\"-3\"/><text class=\"lab\" transform=\"translate(0 11)\">3</text></g><g class=\"a6 c2 node n4 p0\" transform=\"translate(-28.125 52.1066)\"><g class=\"a4 i0 leaf node n1 p0 sample\" transform=\"translate(-18.75 0.683774)\"><path class=\"edge\" d=\"M 0 0 V -0.683774 H 18.75\"/><rect class=\"sym\" height=\"6\" width=\"6\" x=\"-3\" y=\"-3\"/><text class=\"lab\" transform=\"translate(0 11)\">1</text></g><g class=\"a4 i1 leaf node n2 p0 sample\" transform=\"translate(18.75 0.683774)\"><path class=\"edge\" d=\"M 0 0 V -0.683774 H -18.75\"/><rect class=\"sym\" height=\"6\" width=\"6\" x=\"-3\" y=\"-3\"/><text class=\"lab\" transform=\"translate(0 11)\">2</text></g><path class=\"edge\" d=\"M 0 0 V -52.1066 H 28.125\"/><circle class=\"sym\" cx=\"0\" cy=\"0\" r=\"3\"/><text class=\"lab lft\" transform=\"translate(-3 -7.0)\">4</text></g><path class=\"edge\" d=\"M 0 0 V -32.1058 H -42.1875\"/><circle class=\"sym\" cx=\"0\" cy=\"0\" r=\"3\"/><text class=\"lab rgt\" transform=\"translate(3 -7.0)\">6</text></g><circle class=\"sym\" cx=\"0\" cy=\"0\" r=\"3\"/><text class=\"lab\" transform=\"translate(0 -11)\">7</text></g></g></g><g class=\"tree t3\" transform=\"translate(590 0)\"><g class=\"plotbox\"><g class=\"c2 node n9 p0 root\" transform=\"translate(95 26.8)\"><g class=\"a9 c2 node n4 p0\" transform=\"translate(37.5 93.9162)\"><g class=\"a4 i0 leaf node n1 p0 sample\" transform=\"translate(-18.75 0.683774)\"><path class=\"edge\" d=\"M 0 0 V -0.683774 H 18.75\"/><rect class=\"sym\" height=\"6\" width=\"6\" x=\"-3\" y=\"-3\"/><text class=\"lab\" transform=\"translate(0 11)\">1</text></g><g class=\"a4 i1 leaf node n2 p0 sample\" transform=\"translate(18.75 0.683774)\"><path class=\"edge\" d=\"M 0 0 V -0.683774 H -18.75\"/><rect class=\"sym\" height=\"6\" width=\"6\" x=\"-3\" y=\"-3\"/><text class=\"lab\" transform=\"translate(0 11)\">2</text></g><path class=\"edge\" d=\"M 0 0 V -93.9162 H -37.5\"/><circle class=\"sym\" cx=\"0\" cy=\"0\" r=\"3\"/><text class=\"lab rgt\" transform=\"translate(3 -7.0)\">4</text></g><g class=\"a9 c2 node n7 p0\" transform=\"translate(-37.5 9.70388)\"><g class=\"a7 i0 leaf node n0 p0 sample\" transform=\"translate(-18.75 84.8961)\"><path class=\"edge\" d=\"M 0 0 V -84.8961 H 18.75\"/><rect class=\"sym\" height=\"6\" width=\"6\" x=\"-3\" y=\"-3\"/><text class=\"lab\" transform=\"translate(0 11)\">0</text></g><g class=\"a7 i1 leaf node n3 p0 sample\" transform=\"translate(18.75 84.8961)\"><path class=\"edge\" d=\"M 0 0 V -84.8961 H -18.75\"/><rect class=\"sym\" height=\"6\" width=\"6\" x=\"-3\" y=\"-3\"/><text class=\"lab\" transform=\"translate(0 11)\">3</text></g><path class=\"edge\" d=\"M 0 0 V -9.70388 H 37.5\"/><circle class=\"sym\" cx=\"0\" cy=\"0\" r=\"3\"/><text class=\"lab lft\" transform=\"translate(-3 -7.0)\">7</text></g><circle class=\"sym\" cx=\"0\" cy=\"0\" r=\"3\"/><text class=\"lab\" transform=\"translate(0 -11)\">9</text></g></g></g></g></g></svg>"
      ],
      "text/plain": [
       "<IPython.core.display.SVG object>"
      ]
     },
     "execution_count": 13,
     "metadata": {},
     "output_type": "execute_result"
    }
   ],
   "source": [
    "ts = msprime.sim_ancestry(\n",
    "    samples=2,\n",
    "    random_seed=82,\n",
    "    sequence_length=10,\n",
    "    recombination_rate=0.1 # Allow for recombination to occur\n",
    ")\n",
    "SVG(ts.draw_svg())"
   ]
  },
  {
   "cell_type": "markdown",
   "metadata": {},
   "source": [
    "## Basic syntax to simulation mutations along the tree sequence\n",
    "To simulate mutations, apply the `sim_mutations()` method to an existing tree sequence object.\n",
    "At minimum, you must supply a per-base, per-generation mutation rate."
   ]
  },
  {
   "cell_type": "code",
   "execution_count": 17,
   "metadata": {},
   "outputs": [
    {
     "data": {
      "image/svg+xml": [
       "<svg xmlns=\"http://www.w3.org/2000/svg\" xmlns:ev=\"http://www.w3.org/2001/xml-events\" xmlns:xlink=\"http://www.w3.org/1999/xlink\" baseProfile=\"full\" height=\"200\" version=\"1.1\" width=\"800\"><defs><style type=\"text/css\"><![CDATA[.background path {fill: #808080; fill-opacity: 0}.background path:nth-child(odd) {fill-opacity: .1}.axes {font-size: 14px}.x-axis .tick .lab {font-weight: bold; dominant-baseline: hanging}.axes, .tree {font-size: 14px; text-anchor: middle}.axes line, .edge {stroke: black; fill: none}.y-axis .grid {stroke: #FAFAFA}.node > .sym {fill: black; stroke: none}.site > .sym {stroke: black}.mut text {fill: red; font-style: italic}.mut.extra text {fill: hotpink}.mut line {fill: none; stroke: none}.mut .sym {fill: none; stroke: red}.mut.extra .sym {stroke: hotpink}.node .mut .sym {stroke-width: 1.5px}.tree text, .tree-sequence text {dominant-baseline: central}.plotbox .lab.lft {text-anchor: end}.plotbox .lab.rgt {text-anchor: start}]]></style></defs><g class=\"tree-sequence\"><g class=\"background\"><path d=\"M20,0 l190,0 l0,138.2 l-114,25 l0,5 l-76,0 l0,-5 l0,-25 l0,-138.2z\"/><path d=\"M210,0 l190,0 l0,138.2 l-228,25 l0,5 l-76,0 l0,-5 l114,-25 l0,-138.2z\"/><path d=\"M400,0 l190,0 l0,138.2 l114,25 l0,5 l-532,0 l0,-5 l228,-25 l0,-138.2z\"/><path d=\"M590,0 l190,0 l0,138.2 l0,25 l0,5 l-76,0 l0,-5 l-114,-25 l0,-138.2z\"/></g><g class=\"axes\"><g class=\"x-axis\"><g transform=\"translate(400 200)\"><text class=\"lab\" text-anchor=\"middle\" transform=\"translate(0 -11)\">Genome position</text></g><line x1=\"20\" x2=\"780\" y1=\"163.2\" y2=\"163.2\"/><g class=\"ticks\"><g class=\"tick\" transform=\"translate(20 163.2)\"><line x1=\"0\" x2=\"0\" y1=\"0\" y2=\"5\"/><g transform=\"translate(0 6)\"><text class=\"lab\">0</text></g></g><g class=\"tick\" transform=\"translate(96 163.2)\"><line x1=\"0\" x2=\"0\" y1=\"0\" y2=\"5\"/><g transform=\"translate(0 6)\"><text class=\"lab\">1</text></g></g><g class=\"tick\" transform=\"translate(172 163.2)\"><line x1=\"0\" x2=\"0\" y1=\"0\" y2=\"5\"/><g transform=\"translate(0 6)\"><text class=\"lab\">2</text></g></g><g class=\"tick\" transform=\"translate(704 163.2)\"><line x1=\"0\" x2=\"0\" y1=\"0\" y2=\"5\"/><g transform=\"translate(0 6)\"><text class=\"lab\">9</text></g></g><g class=\"tick\" transform=\"translate(780 163.2)\"><line x1=\"0\" x2=\"0\" y1=\"0\" y2=\"5\"/><g transform=\"translate(0 6)\"><text class=\"lab\">10</text></g></g></g><g class=\"site s0\" transform=\"translate(20 163.2)\"><line class=\"sym\" x1=\"0\" x2=\"0\" y1=\"0\" y2=\"-10\"/><g class=\"mut m0\"><polyline class=\"sym\" points=\"2.5,-6.5 0,-1.5 -2.5,-6.5\"/></g></g><g class=\"site s1\" transform=\"translate(96 163.2)\"><line class=\"sym\" x1=\"0\" x2=\"0\" y1=\"0\" y2=\"-10\"/><g class=\"mut m1\"><polyline class=\"sym\" points=\"2.5,-6.5 0,-1.5 -2.5,-6.5\"/></g></g><g class=\"site s2\" transform=\"translate(172 163.2)\"><line class=\"sym\" x1=\"0\" x2=\"0\" y1=\"0\" y2=\"-10\"/><g class=\"mut m2\"><polyline class=\"sym\" points=\"2.5,-6.5 0,-1.5 -2.5,-6.5\"/></g></g><g class=\"site s3\" transform=\"translate(248 163.2)\"><line class=\"sym\" x1=\"0\" x2=\"0\" y1=\"0\" y2=\"-10\"/><g class=\"mut m3\"><polyline class=\"sym\" points=\"2.5,-6.5 0,-1.5 -2.5,-6.5\"/></g></g><g class=\"site s4\" transform=\"translate(552 163.2)\"><line class=\"sym\" x1=\"0\" x2=\"0\" y1=\"0\" y2=\"-10\"/><g class=\"mut m5\"><polyline class=\"sym\" points=\"2.5,-6.5 0,-1.5 -2.5,-6.5\"/></g><g class=\"mut m4\"><polyline class=\"sym\" points=\"2.5,-10.5 0,-5.5 -2.5,-10.5\"/></g></g></g></g><g class=\"plotbox trees\"><g class=\"tree t0\" transform=\"translate(20 0)\"><g class=\"plotbox\"><g class=\"c2 node n8 p0 root\" transform=\"translate(109.062 30.0081)\"><g class=\"a8 i1 leaf m0 node n3 p0 s0 sample\" transform=\"translate(42.1875 91.3919)\"><path class=\"edge\" d=\"M 0 0 V -91.3919 H -42.1875\"/><g class=\"mut m0 s0\" transform=\"translate(0 -12.5983)\"><line x1=\"0\" x2=\"0\" y1=\"0\" y2=\"12.5983\"/><path class=\"sym\" d=\"M -3,-3 l 6,6 M -3,3 l 6,-6\"/><text class=\"lab rgt\" transform=\"translate(5 0)\">0</text></g><rect class=\"sym\" height=\"6\" width=\"6\" x=\"-3\" y=\"-3\"/><text class=\"lab\" transform=\"translate(0 11)\">3</text></g><g class=\"a8 c2 node n5 p0\" transform=\"translate(-42.1875 46.5549)\"><g class=\"a5 i0 leaf node n0 p0 sample\" transform=\"translate(-28.125 44.837)\"><path class=\"edge\" d=\"M 0 0 V -44.837 H 28.125\"/><rect class=\"sym\" height=\"6\" width=\"6\" x=\"-3\" y=\"-3\"/><text class=\"lab\" transform=\"translate(0 11)\">0</text></g><g class=\"a5 c2 node n4 p0\" transform=\"translate(28.125 44.1532)\"><g class=\"a4 i0 leaf node n1 p0 sample\" transform=\"translate(-18.75 0.683774)\"><path class=\"edge\" d=\"M 0 0 V -0.683774 H 18.75\"/><rect class=\"sym\" height=\"6\" width=\"6\" x=\"-3\" y=\"-3\"/><text class=\"lab\" transform=\"translate(0 11)\">1</text></g><g class=\"a4 i1 leaf node n2 p0 sample\" transform=\"translate(18.75 0.683774)\"><path class=\"edge\" d=\"M 0 0 V -0.683774 H -18.75\"/><rect class=\"sym\" height=\"6\" width=\"6\" x=\"-3\" y=\"-3\"/><text class=\"lab\" transform=\"translate(0 11)\">2</text></g><path class=\"edge\" d=\"M 0 0 V -44.1532 H -28.125\"/><circle class=\"sym\" cx=\"0\" cy=\"0\" r=\"3\"/><text class=\"lab rgt\" transform=\"translate(3 -7.0)\">4</text></g><path class=\"edge\" d=\"M 0 0 V -46.5549 H 42.1875\"/><circle class=\"sym\" cx=\"0\" cy=\"0\" r=\"3\"/><text class=\"lab lft\" transform=\"translate(-3 -7.0)\">5</text></g><circle class=\"sym\" cx=\"0\" cy=\"0\" r=\"3\"/><text class=\"lab\" transform=\"translate(0 -11)\">8</text></g></g></g><g class=\"tree t1\" transform=\"translate(210 0)\"><g class=\"plotbox\"><g class=\"c2 node n7 p0 root\" transform=\"translate(109.062 36.5039)\"><g class=\"a7 i1 leaf node n3 p0 sample\" transform=\"translate(42.1875 84.8961)\"><path class=\"edge\" d=\"M 0 0 V -84.8961 H -42.1875\"/><rect class=\"sym\" height=\"6\" width=\"6\" x=\"-3\" y=\"-3\"/><text class=\"lab\" transform=\"translate(0 11)\">3</text></g><g class=\"a7 c2 m1 node n5 p0 s1\" transform=\"translate(-42.1875 40.0591)\"><g class=\"a5 i0 leaf node n0 p0 sample\" transform=\"translate(-28.125 44.837)\"><path class=\"edge\" d=\"M 0 0 V -44.837 H 28.125\"/><rect class=\"sym\" height=\"6\" width=\"6\" x=\"-3\" y=\"-3\"/><text class=\"lab\" transform=\"translate(0 11)\">0</text></g><g class=\"a5 c2 node n4 p0\" transform=\"translate(28.125 44.1532)\"><g class=\"a4 i0 leaf node n1 p0 sample\" transform=\"translate(-18.75 0.683774)\"><path class=\"edge\" d=\"M 0 0 V -0.683774 H 18.75\"/><rect class=\"sym\" height=\"6\" width=\"6\" x=\"-3\" y=\"-3\"/><text class=\"lab\" transform=\"translate(0 11)\">1</text></g><g class=\"a4 i1 leaf node n2 p0 sample\" transform=\"translate(18.75 0.683774)\"><path class=\"edge\" d=\"M 0 0 V -0.683774 H -18.75\"/><rect class=\"sym\" height=\"6\" width=\"6\" x=\"-3\" y=\"-3\"/><text class=\"lab\" transform=\"translate(0 11)\">2</text></g><path class=\"edge\" d=\"M 0 0 V -44.1532 H -28.125\"/><circle class=\"sym\" cx=\"0\" cy=\"0\" r=\"3\"/><text class=\"lab rgt\" transform=\"translate(3 -7.0)\">4</text></g><path class=\"edge\" d=\"M 0 0 V -40.0591 H 42.1875\"/><g class=\"mut m1 s1\" transform=\"translate(0 -28.888)\"><line x1=\"0\" x2=\"0\" y1=\"0\" y2=\"28.888\"/><path class=\"sym\" d=\"M -3,-3 l 6,6 M -3,3 l 6,-6\"/><text class=\"lab lft\" transform=\"translate(-5 0)\">1</text></g><circle class=\"sym\" cx=\"0\" cy=\"0\" r=\"3\"/><text class=\"lab lft\" transform=\"translate(-3 -7.0)\">5</text></g><circle class=\"sym\" cx=\"0\" cy=\"0\" r=\"3\"/><text class=\"lab\" transform=\"translate(0 -11)\">7</text></g></g></g><g class=\"tree t2\" transform=\"translate(400 0)\"><g class=\"plotbox\"><g class=\"c2 node n7 p0 root\" transform=\"translate(80.9375 36.5039)\"><g class=\"a7 i0 leaf m2 node n0 p0 s2 sample\" transform=\"translate(-42.1875 84.8961)\"><path class=\"edge\" d=\"M 0 0 V -84.8961 H 42.1875\"/><g class=\"mut m2 s2\" transform=\"translate(0 -76.2076)\"><line x1=\"0\" x2=\"0\" y1=\"0\" y2=\"76.2076\"/><path class=\"sym\" d=\"M -3,-3 l 6,6 M -3,3 l 6,-6\"/><text class=\"lab lft\" transform=\"translate(-5 0)\">2</text></g><rect class=\"sym\" height=\"6\" width=\"6\" x=\"-3\" y=\"-3\"/><text class=\"lab\" transform=\"translate(0 11)\">0</text></g><g class=\"a7 c2 m4 m5 node n6 p0 s4\" transform=\"translate(42.1875 32.1058)\"><g class=\"a6 i1 leaf node n3 p0 sample\" transform=\"translate(28.125 52.7904)\"><path class=\"edge\" d=\"M 0 0 V -52.7904 H -28.125\"/><rect class=\"sym\" height=\"6\" width=\"6\" x=\"-3\" y=\"-3\"/><text class=\"lab\" transform=\"translate(0 11)\">3</text></g><g class=\"a6 c2 m3 node n4 p0 s3\" transform=\"translate(-28.125 52.1066)\"><g class=\"a4 i0 leaf node n1 p0 sample\" transform=\"translate(-18.75 0.683774)\"><path class=\"edge\" d=\"M 0 0 V -0.683774 H 18.75\"/><rect class=\"sym\" height=\"6\" width=\"6\" x=\"-3\" y=\"-3\"/><text class=\"lab\" transform=\"translate(0 11)\">1</text></g><g class=\"a4 i1 leaf node n2 p0 sample\" transform=\"translate(18.75 0.683774)\"><path class=\"edge\" d=\"M 0 0 V -0.683774 H -18.75\"/><rect class=\"sym\" height=\"6\" width=\"6\" x=\"-3\" y=\"-3\"/><text class=\"lab\" transform=\"translate(0 11)\">2</text></g><path class=\"edge\" d=\"M 0 0 V -52.1066 H 28.125\"/><g class=\"mut m3 s3\" transform=\"translate(0 -35.7143)\"><line x1=\"0\" x2=\"0\" y1=\"0\" y2=\"35.7143\"/><path class=\"sym\" d=\"M -3,-3 l 6,6 M -3,3 l 6,-6\"/><text class=\"lab lft\" transform=\"translate(-5 0)\">3</text></g><circle class=\"sym\" cx=\"0\" cy=\"0\" r=\"3\"/><text class=\"lab lft\" transform=\"translate(-3 -7.0)\">4</text></g><path class=\"edge\" d=\"M 0 0 V -32.1058 H -42.1875\"/><g class=\"mut m4 s4\" transform=\"translate(0 -30.9053)\"><line x1=\"0\" x2=\"0\" y1=\"0\" y2=\"30.9053\"/><path class=\"sym\" d=\"M -3,-3 l 6,6 M -3,3 l 6,-6\"/><text class=\"lab rgt\" transform=\"translate(5 0)\">4</text></g><g class=\"mut m5 s4\" transform=\"translate(0 -28.236)\"><line x1=\"0\" x2=\"0\" y1=\"0\" y2=\"28.236\"/><path class=\"sym\" d=\"M -3,-3 l 6,6 M -3,3 l 6,-6\"/><text class=\"lab rgt\" transform=\"translate(5 0)\">5</text></g><circle class=\"sym\" cx=\"0\" cy=\"0\" r=\"3\"/><text class=\"lab rgt\" transform=\"translate(3 -7.0)\">6</text></g><circle class=\"sym\" cx=\"0\" cy=\"0\" r=\"3\"/><text class=\"lab\" transform=\"translate(0 -11)\">7</text></g></g></g><g class=\"tree t3\" transform=\"translate(590 0)\"><g class=\"plotbox\"><g class=\"c2 node n9 p0 root\" transform=\"translate(95 26.8)\"><g class=\"a9 c2 node n4 p0\" transform=\"translate(37.5 93.9162)\"><g class=\"a4 i0 leaf node n1 p0 sample\" transform=\"translate(-18.75 0.683774)\"><path class=\"edge\" d=\"M 0 0 V -0.683774 H 18.75\"/><rect class=\"sym\" height=\"6\" width=\"6\" x=\"-3\" y=\"-3\"/><text class=\"lab\" transform=\"translate(0 11)\">1</text></g><g class=\"a4 i1 leaf node n2 p0 sample\" transform=\"translate(18.75 0.683774)\"><path class=\"edge\" d=\"M 0 0 V -0.683774 H -18.75\"/><rect class=\"sym\" height=\"6\" width=\"6\" x=\"-3\" y=\"-3\"/><text class=\"lab\" transform=\"translate(0 11)\">2</text></g><path class=\"edge\" d=\"M 0 0 V -93.9162 H -37.5\"/><circle class=\"sym\" cx=\"0\" cy=\"0\" r=\"3\"/><text class=\"lab rgt\" transform=\"translate(3 -7.0)\">4</text></g><g class=\"a9 c2 node n7 p0\" transform=\"translate(-37.5 9.70388)\"><g class=\"a7 i0 leaf node n0 p0 sample\" transform=\"translate(-18.75 84.8961)\"><path class=\"edge\" d=\"M 0 0 V -84.8961 H 18.75\"/><rect class=\"sym\" height=\"6\" width=\"6\" x=\"-3\" y=\"-3\"/><text class=\"lab\" transform=\"translate(0 11)\">0</text></g><g class=\"a7 i1 leaf node n3 p0 sample\" transform=\"translate(18.75 84.8961)\"><path class=\"edge\" d=\"M 0 0 V -84.8961 H -18.75\"/><rect class=\"sym\" height=\"6\" width=\"6\" x=\"-3\" y=\"-3\"/><text class=\"lab\" transform=\"translate(0 11)\">3</text></g><path class=\"edge\" d=\"M 0 0 V -9.70388 H 37.5\"/><circle class=\"sym\" cx=\"0\" cy=\"0\" r=\"3\"/><text class=\"lab lft\" transform=\"translate(-3 -7.0)\">7</text></g><circle class=\"sym\" cx=\"0\" cy=\"0\" r=\"3\"/><text class=\"lab\" transform=\"translate(0 -11)\">9</text></g></g></g></g></g></svg>"
      ],
      "text/plain": [
       "<IPython.core.display.SVG object>"
      ]
     },
     "execution_count": 17,
     "metadata": {},
     "output_type": "execute_result"
    }
   ],
   "source": [
    "mts = msprime.sim_mutations(\n",
    "    ts, # generated from the step above\n",
    "    rate=0.1,\n",
    "    random_seed=2022\n",
    ")\n",
    "SVG(mts.draw_svg())"
   ]
  },
  {
   "cell_type": "code",
   "execution_count": 18,
   "metadata": {},
   "outputs": [
    {
     "data": {
      "text/html": [
       "\n",
       "            <div>\n",
       "              <style>\n",
       "                .tskit-table thead tr th {text-align: left;padding: 0.5em 0.5em;}\n",
       "                .tskit-table tbody tr td {padding: 0.5em 0.5em;}\n",
       "                .tskit-table tbody tr td:first-of-type {text-align: left;}\n",
       "                .tskit-details-label {vertical-align: top; padding-right:5px;}\n",
       "                .tskit-table-set {display: inline-flex;flex-wrap: wrap;margin: -12px 0 0 -12px;width: calc(100% + 12px);}\n",
       "                .tskit-table-set-table {margin: 12px 0 0 12px;}\n",
       "                details {display: inline-block;}\n",
       "                summary {cursor: pointer; outline: 0; display: list-item;}\n",
       "              </style>\n",
       "              <div class=\"tskit-table-set\">\n",
       "                <div class=\"tskit-table-set-table\">\n",
       "                  <table class=\"tskit-table\">\n",
       "                    <thead>\n",
       "                      <tr>\n",
       "                        <th style=\"padding:0;line-height:21px;\">\n",
       "                          <img style=\"height: 32px;display: inline-block;padding: 3px 5px 3px 0;\" src=\"https://raw.githubusercontent.com/tskit-dev/administrative/main/tskit_logo.svg\"/>\n",
       "                          <a target=\"_blank\" href=\"https://tskit.dev/tskit/docs/latest/python-api.html#the-treesequence-class\"> Tree Sequence </a>\n",
       "                        </th>\n",
       "                      </tr>\n",
       "                    </thead>\n",
       "                    <tbody>\n",
       "                      <tr><td>Trees</td><td>4</td></tr>\n",
       "                      <tr><td>Sequence Length</td><td>10.0</td></tr>\n",
       "                      <tr><td>Time Units</td><td>generations</td></tr>\n",
       "                      <tr><td>Sample Nodes</td><td>4</td></tr>\n",
       "                      <tr><td>Total Size</td><td>3.3 KiB</td></tr>\n",
       "                      <tr>\n",
       "                        <td>Metadata</td><td style=\"text-align: left;\">No Metadata</td></tr>\n",
       "                    </tbody>\n",
       "                  </table>\n",
       "                </div>\n",
       "                <div class=\"tskit-table-set-table\">\n",
       "                  <table class=\"tskit-table\">\n",
       "                    <thead>\n",
       "                      <tr>\n",
       "                        <th style=\"line-height:21px;\">Table</th>\n",
       "                        <th>Rows</th>\n",
       "                        <th>Size</th>\n",
       "                        <th>Has Metadata</th>\n",
       "                      </tr>\n",
       "                    </thead>\n",
       "                    <tbody>\n",
       "                    \n",
       "                  <tr>\n",
       "                    <td>Edges</td>\n",
       "                      <td>15</td>\n",
       "                      <td>488 Bytes</td>\n",
       "                      <td style=\"text-align: center;\">\n",
       "                        \n",
       "                      </td>\n",
       "                    </tr>\n",
       "                \n",
       "                  <tr>\n",
       "                    <td>Individuals</td>\n",
       "                      <td>2</td>\n",
       "                      <td>80 Bytes</td>\n",
       "                      <td style=\"text-align: center;\">\n",
       "                        \n",
       "                      </td>\n",
       "                    </tr>\n",
       "                \n",
       "                  <tr>\n",
       "                    <td>Migrations</td>\n",
       "                      <td>0</td>\n",
       "                      <td>8 Bytes</td>\n",
       "                      <td style=\"text-align: center;\">\n",
       "                        \n",
       "                      </td>\n",
       "                    </tr>\n",
       "                \n",
       "                  <tr>\n",
       "                    <td>Mutations</td>\n",
       "                      <td>6</td>\n",
       "                      <td>238 Bytes</td>\n",
       "                      <td style=\"text-align: center;\">\n",
       "                        \n",
       "                      </td>\n",
       "                    </tr>\n",
       "                \n",
       "                  <tr>\n",
       "                    <td>Nodes</td>\n",
       "                      <td>10</td>\n",
       "                      <td>288 Bytes</td>\n",
       "                      <td style=\"text-align: center;\">\n",
       "                        \n",
       "                      </td>\n",
       "                    </tr>\n",
       "                \n",
       "                  <tr>\n",
       "                    <td>Populations</td>\n",
       "                      <td>1</td>\n",
       "                      <td>224 Bytes</td>\n",
       "                      <td style=\"text-align: center;\">\n",
       "                        ✅\n",
       "                      </td>\n",
       "                    </tr>\n",
       "                \n",
       "                  <tr>\n",
       "                    <td>Provenances</td>\n",
       "                      <td>2</td>\n",
       "                      <td>1.7 KiB</td>\n",
       "                      <td style=\"text-align: center;\">\n",
       "                        \n",
       "                      </td>\n",
       "                    </tr>\n",
       "                \n",
       "                  <tr>\n",
       "                    <td>Sites</td>\n",
       "                      <td>5</td>\n",
       "                      <td>141 Bytes</td>\n",
       "                      <td style=\"text-align: center;\">\n",
       "                        \n",
       "                      </td>\n",
       "                    </tr>\n",
       "                \n",
       "                    </tbody>\n",
       "                  </table>\n",
       "                </div>\n",
       "              </div>\n",
       "            </div>\n",
       "            "
      ],
      "text/plain": [
       "<tskit.trees.TreeSequence at 0x7fb78feea5e0>"
      ]
     },
     "execution_count": 18,
     "metadata": {},
     "output_type": "execute_result"
    }
   ],
   "source": [
    "mts"
   ]
  },
  {
   "cell_type": "code",
   "execution_count": 19,
   "metadata": {},
   "outputs": [
    {
     "data": {
      "text/html": [
       "\n",
       "            <div>\n",
       "                <style scoped=\"\">\n",
       "                    .tskit-table tbody tr th:only-of-type {vertical-align: middle;}\n",
       "                    .tskit-table tbody tr th {vertical-align: top;}\n",
       "                    .tskit-table tbody td {text-align: right;padding: 0.5em 0.5em;}\n",
       "                    .tskit-table tbody th {padding: 0.5em 0.5em;}\n",
       "                </style>\n",
       "                <table border=\"1\" class=\"tskit-table\">\n",
       "                    <thead>\n",
       "                        <tr>\n",
       "                            <th>id</th><th>site</th><th>node</th><th>time</th><th>derived_state</th><th>parent</th><th>metadata</th>\n",
       "                        </tr>\n",
       "                    </thead>\n",
       "                    <tbody>\n",
       "                        <tr><td>0</td><td>0</td><td>3</td><td>0.56582134</td><td>G</td><td>-1</td><td>b''</td></tr>\n",
       "<tr><td>1</td><td>1</td><td>5</td><td>3.31118827</td><td>G</td><td>-1</td><td>b''</td></tr>\n",
       "<tr><td>2</td><td>2</td><td>0</td><td>3.42268810</td><td>C</td><td>-1</td><td>b''</td></tr>\n",
       "<tr><td>3</td><td>3</td><td>4</td><td>1.63473292</td><td>T</td><td>-1</td><td>b''</td></tr>\n",
       "<tr><td>4</td><td>4</td><td>6</td><td>3.75899778</td><td>A</td><td>-1</td><td>b''</td></tr>\n",
       "<tr><td>5</td><td>4</td><td>6</td><td>3.63911125</td><td>T</td><td>4</td><td>b''</td></tr>\n",
       "\n",
       "                    </tbody>\n",
       "                </table>\n",
       "            </div>\n",
       "        "
      ],
      "text/plain": [
       "<tskit.tables.MutationTable at 0x7fb78fedb280>"
      ]
     },
     "execution_count": 19,
     "metadata": {},
     "output_type": "execute_result"
    }
   ],
   "source": [
    "mts.tables.mutations"
   ]
  },
  {
   "cell_type": "code",
   "execution_count": 20,
   "metadata": {},
   "outputs": [
    {
     "data": {
      "text/html": [
       "\n",
       "            <div>\n",
       "                <style scoped=\"\">\n",
       "                    .tskit-table tbody tr th:only-of-type {vertical-align: middle;}\n",
       "                    .tskit-table tbody tr th {vertical-align: top;}\n",
       "                    .tskit-table tbody td {text-align: right;padding: 0.5em 0.5em;}\n",
       "                    .tskit-table tbody th {padding: 0.5em 0.5em;}\n",
       "                </style>\n",
       "                <table border=\"1\" class=\"tskit-table\">\n",
       "                    <thead>\n",
       "                        <tr>\n",
       "                            <th>id</th><th>position</th><th>ancestral_state</th><th>metadata</th>\n",
       "                        </tr>\n",
       "                    </thead>\n",
       "                    <tbody>\n",
       "                        <tr><td>0</td><td>0.00000000</td><td>C</td><td>b''</td></tr>\n",
       "<tr><td>1</td><td>1.00000000</td><td>T</td><td>b''</td></tr>\n",
       "<tr><td>2</td><td>2.00000000</td><td>A</td><td>b''</td></tr>\n",
       "<tr><td>3</td><td>3.00000000</td><td>G</td><td>b''</td></tr>\n",
       "<tr><td>4</td><td>7.00000000</td><td>T</td><td>b''</td></tr>\n",
       "\n",
       "                    </tbody>\n",
       "                </table>\n",
       "            </div>\n",
       "        "
      ],
      "text/plain": [
       "<tskit.tables.SiteTable at 0x7fb78fee4a60>"
      ]
     },
     "execution_count": 20,
     "metadata": {},
     "output_type": "execute_result"
    }
   ],
   "source": [
    "mts.tables.sites"
   ]
  },
  {
   "cell_type": "markdown",
   "metadata": {},
   "source": [
    "Notice that some sites have experienced multiple mutations.\n",
    "To view the sequence information at each successive site, we can use the `variants()` iterator:"
   ]
  },
  {
   "cell_type": "code",
   "execution_count": 21,
   "metadata": {},
   "outputs": [
    {
     "name": "stdout",
     "output_type": "stream",
     "text": [
      "0.0\t('C', 'G')\t[0 0 0 1]\n",
      "1.0\t('T', 'G')\t[1 1 1 0]\n",
      "2.0\t('A', 'C')\t[1 0 0 0]\n",
      "3.0\t('G', 'T')\t[0 1 1 0]\n",
      "7.0\t('T', 'A')\t[0 0 0 0]\n"
     ]
    }
   ],
   "source": [
    "for var in mts.variants():\n",
    "    print(var.site.position, var.alleles, var.genotypes, sep=\"\\t\")"
   ]
  },
  {
   "cell_type": "markdown",
   "metadata": {},
   "source": [
    "## Options\n",
    " - Recombination rate variation across the genome. We introduce this by creating a `RateMap` object, which lists recombination rates between defined positions in the sequence.\n",
    "```\n",
    "rate_map = msprime.RateMap(position=[0, 10, 20], rate=[0.01, 0.1])\n",
    "ts = msprime.sim_ancestry(3, recombination_rate=rate_map, random_seed=2)\n",
    "SVG(ts.draw_svg())\n",
    "```\n",
    " - Note that it's also possible to simulate gene conversion in `msprime`. If this is of interest, have a look at the API documentation for the `gene_conversion_rate` and `gene_conversion_tract_length` arguments, and [this](https://tskit.dev/msprime/docs/stable/ancestry.html?highlight=gene%20conversion#gene-conversion) short tutorial.\n",
    " - Stacking mutations\n",
    " - Mutation rate variation across the genome\n",
    " - Mutation models (pre-defined or custom models)\n",
    " - By default, the recombination and mutation events will be assigned to integer locations along the sequence. However there may be situations where you want to model the genome using continuous coordinates. In this case, use the `discrete_genome=False` argument:\n",
    "```\n",
    "ts = msprime.sim_ancestry(\n",
    "    samples=2,\n",
    "    random_seed=28,\n",
    "    sequence_length=100,\n",
    "    recombination_rate=0.01,\n",
    "    discrete_genome=False\n",
    ")\n",
    "SVG(ts.draw_svg())\n",
    "```"
   ]
  },
  {
   "cell_type": "markdown",
   "metadata": {},
   "source": [
    "## More complicated demographic models\n",
    "\n",
    "To simulate under more complicated models of demographic history, we will need to create a `msprime.Demography` object.\n",
    "`msprime` supports simulation from multiple discrete populations, each of which is initialized via the `add_population()` method.\n",
    "For each population, you can specify a sample size, an effective population size, an exponential growth rate and a name.\n",
    "Let's simulate some data using a stepping stone model with six populations."
   ]
  },
  {
   "cell_type": "code",
   "execution_count": 5,
   "metadata": {},
   "outputs": [],
   "source": [
    "deme_size = 1_000 # individuals per deme\n",
    "num_demes = 6\n",
    "num_deme_samples = 5"
   ]
  },
  {
   "cell_type": "code",
   "execution_count": 6,
   "metadata": {},
   "outputs": [],
   "source": [
    "demography = msprime.Demography.stepping_stone_model([deme_size] * num_demes,\n",
    "                                                     migration_rate=0.01)\n",
    "\n",
    "graph = msprime.Demography.to_demes(demography)"
   ]
  },
  {
   "cell_type": "code",
   "execution_count": 7,
   "metadata": {},
   "outputs": [],
   "source": [
    "ts = msprime.sim_ancestry(\n",
    "    {i: num_deme_samples for i in range(num_demes)},\n",
    "    sequence_length=1e6, # 1 Mbp\n",
    "    demography=demography,\n",
    "    recombination_rate=1e-8, # human-like recombination rate\n",
    "    random_seed=1234,\n",
    ")\n",
    "\n",
    "ts = msprime.sim_mutations(ts,\n",
    "                           rate=1e-8, # human-like mutation rate\n",
    "                           random_seed=1234\n",
    ")"
   ]
  },
  {
   "cell_type": "code",
   "execution_count": 8,
   "metadata": {},
   "outputs": [
    {
     "data": {
      "image/png": "[encoded data removed]",
      "text/plain": [
       "<Figure size 432x288 with 1 Axes>"
      ]
     },
     "metadata": {
      "needs_background": "light"
     },
     "output_type": "display_data"
    }
   ],
   "source": [
    "positions = {f\"pop_{i}\": i*deme_size*3 for i in range(num_demes)}\n",
    "\n",
    "fig, ax = plt.subplots()  # use plt.rcParams[\"figure.figsize\"]\n",
    "demesdraw.tubes(graph,\n",
    "                ax=ax,\n",
    "                positions=positions,\n",
    "                seed=111)\n",
    "plt.show()"
   ]
  },
  {
   "cell_type": "markdown",
   "metadata": {},
   "source": [
    "## Adding complexity to demographic history\n",
    " - Varying population size.\n",
    " - Population structure (multiple demes with different migration rates).\n",
    " - Migration (constant or varying migration rates).\n",
    " - Admixture and population divergence.\n",
    " \n",
    "## Other topics of interest\n",
    " - Forward simulations using SLiM.\n",
    " - Combining demographic models.\n",
    " - Simple selective sweeps.\n",
    " - Debugging demographic models.\n",
    " \n",
    "## Some relevant papers\n",
    " -  [Efficient coalescent simulation and genealogical analysis for large sample sizes](https://doi.org/10.1371/journal.pcbi.1004842)\n",
    " - [Efficient ancestry and mutation simulation with msprime 1.0](https://doi.org/10.1093/genetics/iyab229)\n",
    " \n",
    "## Additional resources\n",
    " - [tskit.dev documentation](https://tskit.dev/)\n",
    " - tskit community notebooks\n",
    " - Georgia's notebooks"
   ]
  },
  {
   "cell_type": "code",
   "execution_count": null,
   "metadata": {},
   "outputs": [],
   "source": []
  }
 ],
 "metadata": {
  "kernelspec": {
   "display_name": "Python 3 (ipykernel)",
   "language": "python",
   "name": "python3"
  },
  "language_info": {
   "codemirror_mode": {
    "name": "ipython",
    "version": 3
   },
   "file_extension": ".py",
   "mimetype": "text/x-python",
   "name": "python",
   "nbconvert_exporter": "python",
   "pygments_lexer": "ipython3",
   "version": "3.8.12"
  }
 },
 "nbformat": 4,
 "nbformat_minor": 2
}
