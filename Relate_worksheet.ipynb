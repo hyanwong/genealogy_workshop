{
 "cells": [
  {
   "cell_type": "markdown",
   "id": "2fc630a1-30f2-4d2c-9c91-f59ea9cef5ec",
   "metadata": {},
   "source": [
    "## Oxford Statistical Genomics Summer School 2023\n",
    "It will be useful to set a global variable to the Relate binaries.<br/>\n",
    "If on linux:"
   ]
  },
  {
   "cell_type": "code",
   "execution_count": null,
   "id": "a9705a44-99b4-417e-9f35-96333fdcbf18",
   "metadata": {},
   "outputs": [],
   "source": [
    "%env PATH_TO_RELATE=./relate_v1.1.9_x86_64_static/"
   ]
  },
  {
   "cell_type": "markdown",
   "id": "6c0530e3",
   "metadata": {},
   "source": [
    "If on Mac:"
   ]
  },
  {
   "cell_type": "code",
   "execution_count": null,
   "id": "edf777cc",
   "metadata": {},
   "outputs": [],
   "source": [
    "%env PATH_TO_RELATE=relate_v1.1.9_MacOSX_Intel/"
   ]
  },
  {
   "cell_type": "markdown",
   "id": "36d1c0fb-436a-4f11-93b5-f87602089dce",
   "metadata": {},
   "source": [
    "# Relate practical: Using genealogies for population genetics\n",
    "\n",
    "Leo Speidel <br/>\n",
    "Genetics Institute, University College London, London, UK <br/>\n",
    "Francis Crick Institute, London, UK <br/>\n",
    "Contact: leo.speidel@outlook.com\n",
    "\n",
    "In this practical, we will infer genealogies for a subset the Simons Genome Diversity Project dataset (Mallick et al, Nature 2016).<br/>\n",
    "This dataset comprises whole-genome sequencing data of 278 modern humans with sampling locations shown in Fig. 1.\n",
    "\n",
    "![SGDP](./figures/SGDP_map.png)\n",
    "\n",
    "<div class=\"alert alert-block alert-info\">\n",
    "The data was downloaded from:<ul>\n",
    "<li> <a href=\"https://sharehost.hms.harvard.edu/genetics/reich_lab/sgdp/phased_data/PS2_multisample_public\">Phased genotypes</li>\n",
    "<li> <a href=\"https://reichdata.hms.harvard.edu/pub/datasets/sgdp/filters/all_samples/\">Genomic mask</a> </li>\n",
    "<li> <a href=\"ftp://ftp.1000genomes.ebi.ac.uk/vol1/ftp/phase1/analysis_results/supporting/ancestral_alignments/\">Human ancestral genome</a> </li>\n",
    "<li> <a href=\"https://mathgen.stats.ox.ac.uk/impute/1000GP_Phase3.html\">Recombination maps</a></li>\n",
    "</ul>\n",
    "</div>"
   ]
  },
  {
   "cell_type": "markdown",
   "id": "cc0cfe95-c840-4831-b313-07a3040357a4",
   "metadata": {},
   "source": [
    "## Relate\n",
    "\n",
    "Relate can be used to estimate the joint genealogies of many thousands of individuals genome-wide. These describe how individuals are related through their most-recent common ancestors back in time.\n",
    "\n",
    "The output of Relate is a sequence of binary trees, each describing the genealogical relationships\n",
    "locally in that part of the genome. Neighbouring genealogical trees differ because of recombination\n",
    "events that change the genetic relationships of individuals.\n",
    "\n",
    "<div class=\"alert alert-block alert-info\">\n",
    "A detailed documentation for Relate is available at <a href=\"https://myersgroup.github.io/relate\">https://myersgroup.github.io/relate</a>.\n",
    "    \n",
    "Details about the method are published in:\n",
    "<ul>\n",
    "<li> L. Speidel, M. Forest, S. Shi, S. R. Myers. A method for genome-wide genealogy estimation\n",
    "for thousands of samples. Nature Genetics 51, 1321-1329 (2019). </li>\n",
    "<li> Leo Speidel, Lara Cassidy, Robert W. Davies, Garrett Hellenthal, Pontus Skoglund, Simon\n",
    "R. Myers. Inferring population histories for ancient genomes using genome-wide genealogies.\n",
    "Molecular Biology and Evolution 38, 3497-3511 (2021) </li>\n",
    "</ul>\n",
    "</div>"
   ]
  },
  {
   "cell_type": "markdown",
   "id": "c43bd376-a16f-4ce9-9b41-8a312a1ead93",
   "metadata": {},
   "source": [
    "## Preparing the data\n",
    "\n",
    "We will run Relate on a subset of the SGDP data set. We choose one individual from each population label within Africa, resulting in a total of 19 individuals. Here is a map of sampling locations and coloured by language family spoken.<br/>\n",
    "<img src=\"./figures/SGDP_Africa.png\" alt=\"SGDP_Africa\" width=\"400\"/>"
   ]
  },
  {
   "cell_type": "markdown",
   "id": "94d21006-a7fd-4ab7-b828-fb2a5d2973a7",
   "metadata": {},
   "source": [
    "### Step 1: Convert data from vcf to haps/sample\n",
    "\n",
    "We start with converting the vcf file into haps/sample format used by Relate."
   ]
  },
  {
   "cell_type": "code",
   "execution_count": null,
   "id": "f4ca3007-b422-411f-ac2c-001982656f31",
   "metadata": {},
   "outputs": [],
   "source": [
    "%%bash\n",
    "${PATH_TO_RELATE}/bin/RelateFileFormats --mode ConvertFromVcf \\\n",
    "                                        -i worksheet_data/SGDP_Africa_chr15 \\\n",
    "                                        --haps SGDP_Africa_chr15.haps \\\n",
    "                                        --sample SGDP_Africa_chr15.sample\n",
    "gzip -f SGDP_Africa_chr15.haps\n",
    "gzip -f SGDP_Africa_chr15.sample"
   ]
  },
  {
   "cell_type": "code",
   "execution_count": null,
   "id": "f4854321-4ca9-4d42-835a-aea9374e2e5a",
   "metadata": {},
   "outputs": [],
   "source": [
    "%%bash\n",
    "\n",
    "# Feel free to have a look at these files. \n",
    "# The haps file stores the genetic data, the sample file lists individual IDs.\n",
    "\n",
    "gunzip -c SGDP_Africa_chr15.haps.gz | head"
   ]
  },
  {
   "cell_type": "markdown",
   "id": "1c5802f6-bbd8-464a-bb5f-e2e49e40af2c",
   "metadata": {},
   "source": [
    "### Step 2: Align alleles relative to ancestral allele and filter out unreliable regions\n",
    "\n",
    "There is one more step needed to prepare input files. We use a script called PrepareInputFiles.sh to\n",
    "1. Flip alleles such that the ancestral allele is represented by 0s at each SNP\n",
    "2. Filter according to a genomic mask file. This mask file is a fasta file where a base is annotated as passing (\"p\"), if it was possible to observe a polymorphism at this site in principle. This may be dependent on the data set and how you call genotypes, e.g. dependent on coverage or downstream filtering criteria. Otherwise a base is annotated as non-passing (\"n\"). We use this to filter out unreliable SNPs and to adjust the local mutation rate."
   ]
  },
  {
   "cell_type": "code",
   "execution_count": null,
   "id": "088c3451-20b0-41fe-98eb-87e0d1bae55a",
   "metadata": {},
   "outputs": [],
   "source": [
    "%%bash   \n",
    "${PATH_TO_RELATE}/scripts/PrepareInputFiles/PrepareInputFiles.sh \\\n",
    "                     --haps SGDP_Africa_chr15.haps.gz \\\n",
    "                     --sample SGDP_Africa_chr15.sample.gz \\\n",
    "                     --ancestor worksheet_data/human_ancestor_15.fa.gz \\\n",
    "                     --mask worksheet_data/genome_mask_15.fa.gz \\\n",
    "                     --remove_ids worksheet_data/remove.txt \\\n",
    "                     -o SGDP_input_Africa_chr15"
   ]
  },
  {
   "cell_type": "markdown",
   "id": "91c7c717-f1f5-486f-beba-ae01686176ea",
   "metadata": {},
   "source": [
    "## Running Relate"
   ]
  },
  {
   "cell_type": "markdown",
   "id": "bcb68659-f927-480e-b9f3-31a7e29866f2",
   "metadata": {},
   "source": [
    "The above pre-processing steps have resulted in three files which we use as inputs in Relate\n",
    "- *.haps.gz: Containing the genomic variation across samples on chromosome 15\n",
    "- *.sample.gz: Containing sample IDs in the same order as appearing in the haps file\n",
    "- *.dist.gz: Containing distances between consecutive SNPs, adjusted for filtered regions in the mask file\n",
    "\n",
    "In addition, we specify a recombination map, mutation rate (in mutations per base per generation), and a haploid effective population size (2Ne in diploid organisms).\n",
    "\n",
    "This will take ~1 minute."
   ]
  },
  {
   "cell_type": "code",
   "execution_count": null,
   "id": "73085b22-1ac3-467a-838f-1c6dfddceb75",
   "metadata": {},
   "outputs": [],
   "source": [
    "%%bash\n",
    "${PATH_TO_RELATE}/bin/Relate \\\n",
    "        --mode All \\\n",
    "        --haps SGDP_input_Africa_chr15.haps.gz \\\n",
    "        --sample SGDP_input_Africa_chr15.sample.gz \\\n",
    "        --dist SGDP_input_Africa_chr15.dist.gz \\\n",
    "        --map worksheet_data/genetic_map_chr15_combined_b37.txt \\\n",
    "        -m 1.25e-8 \\\n",
    "        -N 20000 \\\n",
    "        -o SGDP_Africa_chr15\n",
    "\n",
    "gzip -f SGDP_Africa_chr15.anc\n",
    "gzip -f SGDP_Africa_chr15.mut"
   ]
  },
  {
   "cell_type": "markdown",
   "id": "ca85ef66-0bfd-414a-a7ab-747ea21707a7",
   "metadata": {},
   "source": [
    "## Output of Relate\n",
    "\n",
    "The output of Relate is stored in two files, *.anc and *.mut. \n",
    "<ul>\n",
    "<li>The anc file stores the trees (see <a href = \"https://myersgroup.github.io/relate/getting_started.html#Output\">here</a> for format).</li>\n",
    "<li>The mut file stores information about each mutation, such as its estimated age (see below). </li>\n",
    "</ul>\n",
    "\n",
    "<div class=\"alert alert-block alert-warning\">\n",
    "Columns <b>age_begin</b> and <b>age_end</b> show the lower and upper age of the branch on which this mutation occurred. If the mutation is neutral, a good point estimate for the age of a mutation is 0.5*(age_begin + age_end) (Can you argue why?). If age_begin and age_end are close to the truth, this is the most accurate age estimate one can obtain for a mutation given the data.\n",
    "</div>"
   ]
  },
  {
   "cell_type": "code",
   "execution_count": null,
   "id": "b34742db-193c-4a9d-974e-d76c07e2f43c",
   "metadata": {},
   "outputs": [],
   "source": [
    "%%bash\n",
    "\n",
    "#feel free to use this to have a look at the anc and mut files (e.g. using head)"
   ]
  },
  {
   "cell_type": "markdown",
   "id": "e5c856b7-f21a-43df-bbb9-f80a889cc8e5",
   "metadata": {},
   "source": [
    "## Plot trees\n",
    "\n",
    "We can now plot a few of the local genealogical trees using the TreeView.sh script.\n",
    "This will produce a pdf named SGDP_Africa_tree.pdf."
   ]
  },
  {
   "cell_type": "code",
   "execution_count": null,
   "id": "b15a4795-2fbf-4645-99ff-4b1ecfa7d8ab",
   "metadata": {},
   "outputs": [],
   "source": [
    "%%bash\n",
    "${PATH_TO_RELATE}/scripts/TreeView/TreeView.sh \\\n",
    "--haps SGDP_input_Africa_chr15.haps.gz \\\n",
    "--sample SGDP_input_Africa_chr15.sample.gz \\\n",
    "--anc SGDP_Africa_chr15.anc.gz \\\n",
    "--mut SGDP_Africa_chr15.mut.gz \\\n",
    "--poplabels worksheet_data/SGDP_Africa_lang.poplabels \\\n",
    "--bp_of_interest 60000000 \\\n",
    "--years_per_gen 28 \\\n",
    "-o SGDP_Africa_tree"
   ]
  },
  {
   "cell_type": "code",
   "execution_count": null,
   "id": "6082a2ef-2f11-404c-9329-b52fd02d3c5e",
   "metadata": {},
   "outputs": [],
   "source": [
    "#display output\n",
    "from IPython.display import IFrame\n",
    "IFrame(\"SGDP_Africa_tree.pdf\", width=700, height=600)"
   ]
  },
  {
   "cell_type": "markdown",
   "id": "4a55dcf4-e83d-4bf2-afd5-3195fba258e6",
   "metadata": {},
   "source": [
    "<div class=\"alert alert-block alert-warning\">\n",
    "Feel free to plot a few other trees!\n",
    "</div>"
   ]
  },
  {
   "cell_type": "markdown",
   "id": "2ac9d89f-7bef-4c77-b3ce-b69989a5d259",
   "metadata": {},
   "source": [
    "## Effective population sizes and coalesence rates\n",
    "\n",
    "We infer coalescence rates from estimated genealogies of Africans obtained previously. \n",
    "<ul>\n",
    "<li>The bins option specifies the epoch boundaries in the output. Format: first epoch, last epoch, stepsize for function c(0,10^seq(lower, upper, stepsize)) measured in years.</li>\n",
    "<li>The years_per_gen value is used to convert the epoch boundaries in years above to generations.</li>\n",
    "<li>The poplabels file groups individuals into populations. Order needs to be identical to samples file, and second column is used for population labels.</li>\n",
    "</ul>"
   ]
  },
  {
   "cell_type": "code",
   "execution_count": null,
   "id": "63fec2c4-d3cd-469b-bda1-373ab7e8ddb4",
   "metadata": {},
   "outputs": [],
   "source": [
    "%%bash\n",
    "${PATH_TO_RELATE}/bin/RelateCoalescentRate \\\n",
    "--mode EstimatePopulationSize \\\n",
    "-i SGDP_Africa_chr15 \\\n",
    "-o SGDP_Africa_chr15 \\\n",
    "--bins 3,7,0.3 \\\n",
    "--years_per_gen 28 \\\n",
    "--poplabels worksheet_data/SGDP_Africa_lang.poplabels"
   ]
  },
  {
   "cell_type": "markdown",
   "id": "0c25e5ae-8715-4f3a-9d4d-f95efcfb60de",
   "metadata": {},
   "source": [
    "The output are two files named SGDP_Africa_chr15.coal and SGDP_Africa_chr15.bin. <br/>\n",
    "The former contains the coalescence rates within and between groups named in the poplabels file. The latter is a binary file and can be used to regroup individuals according to a different poplabels file (see below)."
   ]
  },
  {
   "cell_type": "markdown",
   "id": "1bc3aad6-cbec-4a37-824c-e3c86ee40b23",
   "metadata": {},
   "source": [
    "\n",
    "<div class=\"alert alert-block alert-info\">\n",
    "<b>Regrouping individuals</b>\n",
    "    \n",
    "SGDP_Africa_chr15.coal stores cross-coalescence rates for all pairs of group labels (second column) in SGDP_Africa_lang.poplabels. You may want to group samples differently. To do so, you can use the following function which recalculates rates for a different poplabels file:<br/>\n",
    "\n",
    "${PATH_TO_RELATE}/bin/RelateCoalescentRate \\\n",
    "    --mode FinalizePopulationSize \\\n",
    "    -o SGDP_Africa_chr15 \\\n",
    "    --poplabels custom_poplabels\n",
    "</div>"
   ]
  },
  {
   "cell_type": "markdown",
   "id": "fb693b9a-f6b4-4279-923f-3ab8c7d37dba",
   "metadata": {},
   "source": [
    "### Reading coalescence rates into R and plotting\n",
    "We can then plot the coalescence rates. Here we restrict to within group coalescence rates but you can also plot coalesences rates between two groups to look at how their relationship changes through time.\n",
    "\n",
    "<div class=\"alert alert-block alert-info\">\n",
    "We can use the R package <b>relater</b> to parse output files of Relate, such as the *coal files storing coalescence rates, into R.<br/> \n",
    "    This R package is available from <a href=\"https://github.com/leospeidel/relater\">https://github.com/leospeidel/relater</a>.\n",
    "</div>"
   ]
  },
  {
   "cell_type": "markdown",
   "id": "1e8cc010-88f7-45be-8d4b-a5eebc263c4e",
   "metadata": {},
   "source": [
    "Open up a terminal, and type \"R\".<br/>\n",
    "You can copy in the code below if you like. <br/>\n",
    "This code will parse the coal file using the \"read.coal\" function and plot the within-group coalescence rates."
   ]
  },
  {
   "cell_type": "raw",
   "id": "b17237aa-5723-4508-8d1f-13e07328e379",
   "metadata": {},
   "source": [
    "#copy this into R\n",
    "\n",
    "library(relater)\n",
    "library(ggplot2)\n",
    "\n",
    "#parse coal file\n",
    "coal <- read.coal(\"SGDP_Africa_chr15.coal\") \n",
    "\n",
    "#diploid effective population size is the 0.5* inverse coalescence rate\n",
    "coal$popsize <- 0.5/coal$haploid.coalescence.rate\n",
    "\n",
    "#multiply epochs times by 28 to scale to years (assuming 28 years per generation)\n",
    "coal$epoch.start <- 28 * coal$epoch.start\n",
    "\n",
    "#We subset to within group coalescence rates, but feel free to look at cross-population rates too\n",
    "coal <- subset(coal, group1 == group2)\n",
    "\n",
    "p <- ggplot(coal) +\n",
    "geom_step(aes(x = epoch.start, y = 0.5/haploid.coalescence.rate, color = group2), lwd = 1.1) +\n",
    "scale_x_continuous(trans = \"log10\", limit = c(1e2, 1e7)) +\n",
    "scale_y_continuous(trans = \"log10\", limit = c(1e3, 1e6)) +\n",
    "#coord_cartesian(ylim = c(0,5e4)) +\n",
    "xlab(\"years ago\") + \n",
    "theme_bw() + ggtitle(\"Assuming a constant population size prior\")\n",
    "\n",
    "ggsave(p, file = \"plot_popsize_const.png\", width = 10, height = 4)\n"
   ]
  },
  {
   "cell_type": "code",
   "execution_count": null,
   "id": "55cce241-11e1-4808-b701-c63f381dc5e9",
   "metadata": {},
   "outputs": [],
   "source": [
    "#display output\n",
    "from IPython.display import Image\n",
    "Image(\"plot_popsize_const.png\")"
   ]
  },
  {
   "cell_type": "markdown",
   "id": "c44d23bf-717a-405f-8350-dd2be22f40b1",
   "metadata": {},
   "source": [
    "<div class=\"alert alert-block alert-warning\">\n",
    "Can you describe how population sizes of groups speaking Afroasiatic languages differ from other\n",
    "groups?\n",
    "</div>"
   ]
  },
  {
   "cell_type": "markdown",
   "id": "8ea6eb20-2c65-4fa1-8c81-a84307f4faf2",
   "metadata": {},
   "source": [
    "## Joint fitting of population size and branch lengths\n",
    "\n",
    "So far, we used trees that assumed a pre-specified constant effective population size through time. This may not reflect the true underlying demographic history and bias tree branch lengths. Next, we use the EstimatePopulationSize.sh script to jointly fit effective population sizes and branch lengths."
   ]
  },
  {
   "cell_type": "code",
   "execution_count": null,
   "id": "589a12de-1984-4afc-a7ca-3a95e29efa38",
   "metadata": {},
   "outputs": [],
   "source": [
    "%%bash\n",
    "#Here we are stopping after 2 iterations, the default is to run this for 10 iterations\n",
    "#This may take a few minutes\n",
    "\n",
    "${PATH_TO_RELATE}/scripts/EstimatePopulationSize/EstimatePopulationSize.sh \\\n",
    "-i SGDP_Africa_chr15 \\\n",
    "-o SGDP_Africa_ne_chr15 \\\n",
    "--poplabels worksheet_data/SGDP_Africa_lang.poplabels \\\n",
    "-m 1.25e-8 \\\n",
    "--years_per_gen 28 \\\n",
    "--bins 3,7,0.3 \\\n",
    "--threads 2 \\\n",
    "--num_iter 1"
   ]
  },
  {
   "cell_type": "markdown",
   "id": "341218c1-f396-418b-b963-8aebcfb924e9",
   "metadata": {},
   "source": [
    "<div class=\"alert alert-block alert-info\">\n",
    "If you have data for more than one chromosome, you can use the --chr argument to jointly fit population sizes genome-wide.<br/>\n",
    "(see documentation\n",
    "<a href=\"https://myersgroup.github.io/relate/modules.html#PopulationSizeScript\">https://myersgroup.github.io/relate/modules.html#PopulationSizeScript</a>.)\n",
    "</div>"
   ]
  },
  {
   "cell_type": "markdown",
   "id": "4d566047-5c1a-475f-b644-0386994c67d3",
   "metadata": {},
   "source": [
    "### Plot jointly fitted coalescence rates"
   ]
  },
  {
   "cell_type": "raw",
   "id": "cbc4d660-72b4-44dd-99be-75295ee64070",
   "metadata": {},
   "source": [
    "#copy this into R\n",
    "\n",
    "library(relater)\n",
    "library(ggplot2)\n",
    "\n",
    "coal <- read.coal(\"./SGDP_Africa_ne_chr15.pairwise.coal\")\n",
    "\n",
    "#diploid effective population size is the 0.5* inverse coalescence rate\n",
    "coal$popsize <- 0.5/coal$haploid.coalescence.rate\n",
    "\n",
    "#multiply epochs times by 28 to scale to years (assuming 28 years per generation)\n",
    "coal$epoch.start <- 28 * coal$epoch.start\n",
    "\n",
    "#We subset to within group coalescence rates, but feel free to look at cross-population rates too\n",
    "coal <- subset(coal, group1 == group2)\n",
    "\n",
    "p <- ggplot(coal) +\n",
    "geom_step(aes(x = epoch.start, y = 0.5/haploid.coalescence.rate, color = group2), lwd = 1.2) +\n",
    "scale_x_continuous(trans = \"log10\", limit = c(1e2, 1e7)) +\n",
    "scale_y_continuous(trans = \"log10\", limit = c(1e3, 1e6)) +\n",
    "#coord_cartesian(ylim = c(0,5e4)) +\n",
    "xlab(\"years ago\") + \n",
    "theme_bw() + ggtitle(\"Population sizes and branch lengths inferred jointly\")\n",
    "\n",
    "ggsave(p, file = \"plot_popsize_var.png\", width = 10, height = 4)\n"
   ]
  },
  {
   "cell_type": "code",
   "execution_count": null,
   "id": "4d679376-dc1e-49fe-a960-a33a46bf67fd",
   "metadata": {},
   "outputs": [],
   "source": [
    "#display output\n",
    "from IPython.display import Image\n",
    "Image(\"plot_popsize_const.png\")"
   ]
  },
  {
   "cell_type": "code",
   "execution_count": null,
   "id": "e6af87bf-68c6-4f36-97be-6a448258124d",
   "metadata": {},
   "outputs": [],
   "source": [
    "from IPython.display import Image\n",
    "Image(\"plot_popsize_var.png\")"
   ]
  },
  {
   "cell_type": "markdown",
   "id": "8d8080a4-427f-43b4-ae65-c95694123422",
   "metadata": {},
   "source": [
    "<div class=\"alert alert-block alert-warning\">\n",
    "Can you compare the two plots? What do you think might happen is you run this for more iterations?\n",
    "    \n",
    "If you like, you can also plot rates between two groups, e.g. between Khoesan and everyone else to estimate when approximately these groups split.\n",
    "</div>"
   ]
  },
  {
   "cell_type": "markdown",
   "id": "625acd6b-25ea-45a0-b642-0fc93ced57d1",
   "metadata": {},
   "source": [
    "## Plot structure at different time depths"
   ]
  },
  {
   "cell_type": "markdown",
   "id": "bde800e6-d721-4640-b079-b4efc6cfc02d",
   "metadata": {},
   "source": [
    "In the above plot, we only plotted coalescence rates within groups. \n",
    "\n",
    "Next, we will look at coalescence rates between all pairs of individuals to quantify population structure. We first recalculate coalescence rates using a new poplabels file in which each individual belongs to its own group. We can do this quickly using the FinalizePopulationSize function as follows"
   ]
  },
  {
   "cell_type": "code",
   "execution_count": null,
   "id": "730b0b6f-7702-425d-872f-2440af413f44",
   "metadata": {},
   "outputs": [],
   "source": [
    "%%bash\n",
    "${PATH_TO_RELATE}/bin/RelateCoalescentRate --mode FinalizePopulationSize \\\n",
    "      -o SGDP_Africa_ne_chr15.pairwise \\\n",
    "      --poplabels ./worksheet_data/SGDP_Africa_ind.poplabels"
   ]
  },
  {
   "cell_type": "markdown",
   "id": "13c8f6ad-db3c-445c-adb8-420ffb8c82aa",
   "metadata": {},
   "source": [
    "Given this new coal file, we can now plot each epoch as an individuals x individuals matrix."
   ]
  },
  {
   "cell_type": "raw",
   "id": "599b1eb5-31ce-4c7e-b709-0668e5d2517b",
   "metadata": {},
   "source": [
    "#copy this into R\n",
    "\n",
    "library(relater)\n",
    "library(tidyr)\n",
    "library(dplyr)\n",
    "library(geodist)\n",
    "library(ggplot2)\n",
    "library(cowplot)\n",
    "\n",
    "#load coal file into R (this may take a while)\n",
    "coal <- read.coal(\"./SGDP_Africa_ne_chr15.pairwise.coal\")\n",
    "coal$epoch_rounded <- round(28*coal$epoch.start / 1000)*1000\n",
    "\n",
    "#####\n",
    "#select the epoch closest to 1e4 years ago\n",
    "t <- 1e4\n",
    "coal %>% filter(28*epoch.start < t) %>% filter(epoch.start == max(epoch.start)) -> coal\n",
    "\n",
    "##############\n",
    "#You can skip over the code below, this is just calculating geographic distance between samples\n",
    "#load sample annotations, calculate geographic distance between samples, and merge with coal\n",
    "load(\"worksheet_data//SGDP_meta.RData\")\n",
    "dist <- as.data.frame((geodist(df[,c(\"Longitude\", \"Latitude\")]))/1000)\n",
    "colnames(dist) <- df[,\"SGDP_ID\"]\n",
    "dist$group1 <- df[,\"SGDP_ID\"]\n",
    "dist$REGION <- df[,\"GROUP\"]\n",
    "dist$Longitude <- df[,\"Longitude\"]\n",
    "dist$Latitude <- df[,\"Latitude\"]\n",
    "dist %>% pivot_longer(cols = !group1:Latitude, names_to = \"group2\", values_to = \"geodist\") -> dist\n",
    "df   <- merge(dist, coal, by = c(\"group1\", \"group2\"))\n",
    "##############\n",
    "\n",
    "##sort \n",
    "df$group1 <- factor(df$group1, levels = unique(df[order(df$REGION, df$Longitude, df$Latitude),\"group1\"]))\n",
    "df$group2 <- factor(df$group2, levels = levels(df$group1))\n",
    "\n",
    "#plot\n",
    "p1 <- ggplot(df) +\n",
    "  geom_tile(aes(x = group1, y = group2, fill = geodist)) +\n",
    "  theme_void() +\n",
    "  theme(legend.position = \"right\", axis.text.x = element_text(angle = 90, hjust = 1), axis.text.y = element_text()) +\n",
    "  scale_color_discrete(name = \"group\") +\n",
    "  scale_fill_gradient2(low = \"red\", high=\"blue\", mid = \"yellow\", midpoint = median(df$geodist), name = \"Geographic distance in km\")\n",
    "\n",
    "p2 <- ggplot(df) +\n",
    "  geom_tile(aes(x = group1, y = group2, fill = 0.5/haploid.coalescence.rate)) +\n",
    "  theme_void() +\n",
    "  theme(legend.position = \"right\", axis.text.x = element_text(angle = 90, hjust = 1), axis.text.y = element_text()) +\n",
    "  scale_color_discrete(name = \"group\") +\n",
    "  ggtitle(paste0(\"Structure ~\", df$epoch_rounded, \" years ago\")) +\n",
    "  scale_fill_gradient2(low = \"red\", high=\"blue\", mid = \"yellow\", midpoint = median(log10(0.5/df$haploid.coalescence.rate)), trans = \"log10\", name = \"Inverse Coalescence rates\", limit = c(1e3,2e6))\n",
    "\n",
    "p <- plot_grid(p1,p2)\n",
    "\n",
    "ggsave(p, width = 15, height = 6, file = \"SGDP_structure.png\")\n"
   ]
  },
  {
   "cell_type": "code",
   "execution_count": null,
   "id": "f4e1b303-9c60-4031-a335-ac650400c938",
   "metadata": {},
   "outputs": [],
   "source": [
    "#display output\n",
    "from IPython.display import Image\n",
    "Image(\"SGDP_structure.png\")"
   ]
  },
  {
   "cell_type": "markdown",
   "id": "bbd8ea04-57b2-4cdb-84c9-4ec116a56ef8",
   "metadata": {},
   "source": [
    "<div class=\"alert alert-block alert-warning\">\n",
    "Can you see a correlation between geography and genetics? Where do the two matrices differ? Can you plot this for different time periods? How does structure change over time?\n",
    "</div>"
   ]
  },
  {
   "cell_type": "markdown",
   "id": "1b16ad55-4e6a-45c1-b0e1-29c20b53df45",
   "metadata": {},
   "source": [
    "## Detecting evidence for positive selection\n",
    "\n",
    "Positive natural selection on a derived allele is expected to lead to this allele spreading rapidly in\n",
    "a population, reflected in a burst of coalescence events. A well-known example is positive selection\n",
    "of a variant associated with lighter skin pigmentation in Europe and South Asia. We have\n",
    "implemented a simple statistic that captures such events and measures the extend to which a mutation\n",
    "has out-competed other lineages.\n",
    "\n",
    "To analyse selection, we will first apply functions provided with Relate to extract the relevant statistics,\n",
    "and then use the R package relater to analyse the output."
   ]
  },
  {
   "cell_type": "markdown",
   "id": "1cad119c-12a9-41d9-8395-2cef690705b8",
   "metadata": {},
   "source": [
    "### Calculate allele frequencies through time"
   ]
  },
  {
   "cell_type": "code",
   "execution_count": null,
   "id": "b3b9e326-b02b-4ee5-b92c-f9e2b9e163e0",
   "metadata": {},
   "outputs": [],
   "source": [
    "%%bash\n",
    "${PATH_TO_RELATE}/bin/RelateSelection \\\n",
    "--mode Frequency \\\n",
    "--bins 3,7,0.5 \\\n",
    "-i ./worksheet_data/WestEurasia/SGDP_WestEurasia_ne_chr15 \\\n",
    "-o SGDP_WestEurasia_ne_chr15"
   ]
  },
  {
   "cell_type": "markdown",
   "id": "a838a456-124b-4012-974a-4ad65503b44e",
   "metadata": {},
   "source": [
    "### Calculate selection p-values given these frequencies"
   ]
  },
  {
   "cell_type": "code",
   "execution_count": null,
   "id": "1b6b437b-7d6b-4589-a335-8927443e721d",
   "metadata": {},
   "outputs": [],
   "source": [
    "%%bash\n",
    "${PATH_TO_RELATE}/bin/RelateSelection \\\n",
    "--mode Selection \\\n",
    "--bins 3,7,0.5 \\\n",
    "-i SGDP_WestEurasia_ne_chr15 \\\n",
    "-o SGDP_WestEurasia_ne_chr15"
   ]
  },
  {
   "cell_type": "markdown",
   "id": "f97f62f0-73b7-45c2-bd44-f7090e874fc6",
   "metadata": {},
   "source": [
    "### Calculate quality scores of trees to filter out unreliable regions"
   ]
  },
  {
   "cell_type": "code",
   "execution_count": null,
   "id": "7bb2df54-051c-4cd3-b814-64d585f049ef",
   "metadata": {},
   "outputs": [],
   "source": [
    "%%bash\n",
    "${PATH_TO_RELATE}/bin/RelateSelection \\\n",
    "--mode Quality \\\n",
    "-i ./worksheet_data/WestEurasia/SGDP_WestEurasia_ne_chr15 \\\n",
    "-o SGDP_WestEurasia_ne_chr15"
   ]
  },
  {
   "cell_type": "markdown",
   "id": "b5372fb1-bed2-4d14-99fa-7db54e49372e",
   "metadata": {},
   "source": [
    "### Once we have generated these files, we use relater to analyse them in R"
   ]
  },
  {
   "cell_type": "raw",
   "id": "940e140c-fc78-467e-8bdd-fe29b00b5e59",
   "metadata": {},
   "source": [
    "#copy this into R\n",
    "\n",
    "library(relater)\n",
    "library(ggplot2)\n",
    "\n",
    "output <- \"SGDP_WestEurasia_ne_chr15\"\n",
    "\n",
    "# parse files\n",
    "mut <- read.mut(paste0(\"worksheet_data/WestEurasia/\",output, \".mut.gz\"))\n",
    "freq <- read.freq(paste0(output, \".freq\"))\n",
    "sele <- read.sele(paste0(output, \".sele\"))\n",
    "qual <- read.qual(paste0(output, \".qual\"))\n",
    "\n",
    "# combine these into a single data frame called allele_ages\n",
    "allele_ages <- get.allele_ages(mut = mut, freq = freq, sele = sele)\n",
    "\n",
    "# use the *qual file to filter out SNPs mapping to \"bad\" trees\n",
    "allele_ages <- filter.allele_ages(allele_ages, qual)\n",
    "allele_ages <- subset(allele_ages, !is.na(pvalue))\n",
    "\n",
    "head(allele_ages[order(allele_ages$pvalue),])"
   ]
  },
  {
   "cell_type": "markdown",
   "id": "499e1b17-b593-4f48-bcbf-54d67471cc5f",
   "metadata": {},
   "source": [
    "<div class=\"alert alert-block alert-warning\">\n",
    "The top SNP (see corresponding genealogy for West Eurasians below) is a well known target of positive selection, associated with lighter skin pigmentation.\n",
    "</div>"
   ]
  },
  {
   "cell_type": "markdown",
   "id": "e6dd4386-b788-4b04-9d78-1c57ed0ea152",
   "metadata": {},
   "source": [
    "![SLC24A5](figures/SGDP_WestEurasia_chr15_BP48426484.png)"
   ]
  }
 ],
 "metadata": {
  "kernelspec": {
   "display_name": "Python 3 (ipykernel)",
   "language": "python",
   "name": "python3"
  },
  "language_info": {
   "codemirror_mode": {
    "name": "ipython",
    "version": 3
   },
   "file_extension": ".py",
   "mimetype": "text/x-python",
   "name": "python",
   "nbconvert_exporter": "python",
   "pygments_lexer": "ipython3",
   "version": "3.9.16"
  }
 },
 "nbformat": 4,
 "nbformat_minor": 5
}
