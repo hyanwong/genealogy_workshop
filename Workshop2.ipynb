{
 "cells": [
  {
   "cell_type": "code",
   "execution_count": 90,
   "metadata": {},
   "outputs": [
    {
     "data": {
      "text/html": [
       "<style>\n",
       "        dl {border: green 1px solid; margin-top: 1em}\n",
       "        dt {color: white; background-color: green; padding: 4px; display: block; }\n",
       "        dd {padding: 4px;}\n",
       "    </style>"
      ],
      "text/plain": [
       "<IPython.core.display.HTML object>"
      ]
     },
     "metadata": {},
     "output_type": "display_data"
    },
    {
     "name": "stdout",
     "output_type": "stream",
     "text": [
      "Your notebook is ready to go\n"
     ]
    }
   ],
   "source": [
    "# Please execute this cell (shift+<Return>) before starting the workbook\n",
    "# this should print out \"Your notebook is ready to go\"\n",
    "from IPython.display import HTML, SVG, display\n",
    "import genealogical_analysis_workshop\n",
    "\n",
    "workshop = genealogical_analysis_workshop.setup()\n",
    "display(HTML(workshop.css))\n",
    "print(\"Your notebook is ready to go\")"
   ]
  },
  {
   "cell_type": "markdown",
   "metadata": {},
   "source": [
    "# Simulating ancestry with msprime\n",
    "\n",
    "We will use `msprime`, a backwards-time tree sequence simulator, to generate genealogical trees with mutations occurring along them. We will simulate genomic data sets using two demographic models: (1) a simple model with a single, panmictic population and (2) a stepping stone model with six populations. `msprime ` can simulate data under more complicated demographic models, but it is not demonstrated in this workshop (see the end of this notebook for links and tutorials).\n",
    " \n",
    "### Why do we do simulations in population genetics?\n",
    "\n",
    "**Exploration:**\n",
    "Simulations allow us to explore the influence of various historical scenarios on observed patterns of genetic variation and inheritance.\n",
    "\n",
    "**Benchmarking and evaluating methodologies:**\n",
    "To assess the accuracy of inferential methods, we need test datasets for which the true values of important parameters are known.\n",
    "\n",
    "**Model training:**\n",
    "Some methods for ancestry inference are trained on simulated data (e.g., Approximate Bayesian Computation).\n",
    "This is especially important in studies of complex demographies, where there are many potential parameters and models, making it impractical to specify likelihood functions.\n",
    "\n",
    "### A brief history of msprime\n",
    "\n",
    "The first release of `msprime` was an emulation of the popular `ms` coalescent simulator with added support for tree sequences.\n",
    "However, it has since become an expansive and flexible backwards-in-time simulator for various different models of genetic ancestry and mutation, and even for simplified models of selection.\n",
    "There is a *forwards-time* simulator named `SLiM` which is not covered in this workshop.\n",
    "Furthermore, it is possible to combine *backwards-time* and *forwards-time* simulations from `msprime` and `SLiM`.\n",
    "\n",
    "### Backwards simulation\n",
    "\n",
    "The main characteristic of `msprime` is that is simulates *tree sequences* in *backwards-time*.\n",
    "\n",
    "<img src=\"pics/msprime-1.png\" width=\"200\" height=\"200\">\n",
    "<img src=\"pics/msprime-2.png\" width=\"200\" height=\"200\">\n",
    "<img src=\"pics/msprime-3.png\" width=\"200\" height=\"200\">\n",
    "<img src=\"pics/msprime-4.png\" width=\"200\" height=\"200\">\n",
    "<img src=\"pics/msprime-5.png\" width=\"200\" height=\"200\">"
   ]
  },
  {
   "cell_type": "code",
   "execution_count": 73,
   "metadata": {},
   "outputs": [],
   "source": [
    "import random\n",
    "import numpy as np\n",
    "import matplotlib.pyplot as plt\n",
    "import seaborn as sns\n",
    "from IPython.display import SVG\n",
    "\n",
    "import msprime\n",
    "import tskit\n",
    "import tsinfer\n",
    "import tsdate\n",
    "import demesdraw"
   ]
  },
  {
   "cell_type": "markdown",
   "metadata": {},
   "source": [
    "## Basic syntax to simulate a tree sequence\n",
    "\n",
    "To perform simulations using `msprime`, we first simulate a tree sequence without mutations (i.e. the genetic genealogy) using `sim_ancestry()`. If desired, we then add neutral mutations to the tree sequence using `sim_mutations()`."
   ]
  },
  {
   "cell_type": "code",
   "execution_count": 76,
   "metadata": {},
   "outputs": [
    {
     "data": {
      "image/svg+xml": [
       "<svg xmlns=\"http://www.w3.org/2000/svg\" xmlns:ev=\"http://www.w3.org/2001/xml-events\" xmlns:xlink=\"http://www.w3.org/1999/xlink\" baseProfile=\"full\" height=\"200\" version=\"1.1\" width=\"200\"><defs><style type=\"text/css\"><![CDATA[.background path {fill: #808080; fill-opacity: 0}.background path:nth-child(odd) {fill-opacity: .1}.axes {font-size: 14px}.x-axis .tick .lab {font-weight: bold; dominant-baseline: hanging}.axes, .tree {font-size: 14px; text-anchor: middle}.axes line, .edge {stroke: black; fill: none}.y-axis .grid {stroke: #FAFAFA}.node > .sym {fill: black; stroke: none}.site > .sym {stroke: black}.mut text {fill: red; font-style: italic}.mut.extra text {fill: hotpink}.mut line {fill: none; stroke: none}.mut .sym {fill: none; stroke: red}.mut.extra .sym {stroke: hotpink}.node .mut .sym {stroke-width: 1.5px}.tree text, .tree-sequence text {dominant-baseline: central}.plotbox .lab.lft {text-anchor: end}.plotbox .lab.rgt {text-anchor: start}]]></style></defs><g class=\"tree-sequence\"><g class=\"background\"><path d=\"M20,0 l160,0 l0,138.2 l0,25 l0,5 l-160,0 l0,-5 l0,-25 l0,-138.2z\"/></g><g class=\"axes\"><g class=\"x-axis\"><g transform=\"translate(100 200)\"><text class=\"lab\" text-anchor=\"middle\" transform=\"translate(0 -11)\">Genome position</text></g><line x1=\"20\" x2=\"180\" y1=\"163.2\" y2=\"163.2\"/><g class=\"ticks\"><g class=\"tick\" transform=\"translate(20 163.2)\"><line x1=\"0\" x2=\"0\" y1=\"0\" y2=\"5\"/><g transform=\"translate(0 6)\"><text class=\"lab\">0</text></g></g><g class=\"tick\" transform=\"translate(180 163.2)\"><line x1=\"0\" x2=\"0\" y1=\"0\" y2=\"5\"/><g transform=\"translate(0 6)\"><text class=\"lab\">1</text></g></g></g></g></g><g class=\"plotbox trees\"><g class=\"tree t0\" transform=\"translate(20 0)\"><g class=\"plotbox\"><g class=\"c2 node n6 p0 root\" transform=\"translate(98.75 26.8)\"><g class=\"a6 i1 leaf node n2 p0 sample\" transform=\"translate(26.25 94.6)\"><path class=\"edge\" d=\"M 0 0 V -94.6 H -26.25\"/><rect class=\"sym\" height=\"6\" width=\"6\" x=\"-3\" y=\"-3\"/><text class=\"lab\" transform=\"translate(0 11)\">2</text></g><g class=\"a6 c2 node n5 p0\" transform=\"translate(-26.25 25.2505)\"><g class=\"a5 i1 leaf node n3 p0 sample\" transform=\"translate(22.5 69.3495)\"><path class=\"edge\" d=\"M 0 0 V -69.3495 H -22.5\"/><rect class=\"sym\" height=\"6\" width=\"6\" x=\"-3\" y=\"-3\"/><text class=\"lab\" transform=\"translate(0 11)\">3</text></g><g class=\"a5 c2 node n4 p0\" transform=\"translate(-22.5 63.0417)\"><g class=\"a4 i0 leaf node n0 p0 sample\" transform=\"translate(-15 6.3078)\"><path class=\"edge\" d=\"M 0 0 V -6.3078 H 15\"/><rect class=\"sym\" height=\"6\" width=\"6\" x=\"-3\" y=\"-3\"/><text class=\"lab\" transform=\"translate(0 11)\">0</text></g><g class=\"a4 i0 leaf node n1 p0 sample\" transform=\"translate(15 6.3078)\"><path class=\"edge\" d=\"M 0 0 V -6.3078 H -15\"/><rect class=\"sym\" height=\"6\" width=\"6\" x=\"-3\" y=\"-3\"/><text class=\"lab\" transform=\"translate(0 11)\">1</text></g><path class=\"edge\" d=\"M 0 0 V -63.0417 H 22.5\"/><circle class=\"sym\" cx=\"0\" cy=\"0\" r=\"3\"/><text class=\"lab lft\" transform=\"translate(-3 -7.0)\">4</text></g><path class=\"edge\" d=\"M 0 0 V -25.2505 H 26.25\"/><circle class=\"sym\" cx=\"0\" cy=\"0\" r=\"3\"/><text class=\"lab lft\" transform=\"translate(-3 -7.0)\">5</text></g><circle class=\"sym\" cx=\"0\" cy=\"0\" r=\"3\"/><text class=\"lab\" transform=\"translate(0 -11)\">6</text></g></g></g></g></g></svg>"
      ],
      "text/plain": [
       "<IPython.core.display.SVG object>"
      ]
     },
     "execution_count": 76,
     "metadata": {},
     "output_type": "execute_result"
    }
   ],
   "source": [
    "ts = msprime.sim_ancestry(\n",
    "    samples=2, # two diploid individuals\n",
    "    random_seed=1\n",
    ")\n",
    "SVG(ts.draw_svg())"
   ]
  },
  {
   "cell_type": "code",
   "execution_count": 77,
   "metadata": {},
   "outputs": [
    {
     "data": {
      "text/html": [
       "\n",
       "            <div>\n",
       "              <style>\n",
       "                .tskit-table thead tr th {text-align: left;padding: 0.5em 0.5em;}\n",
       "                .tskit-table tbody tr td {padding: 0.5em 0.5em;}\n",
       "                .tskit-table tbody tr td:first-of-type {text-align: left;}\n",
       "                .tskit-details-label {vertical-align: top; padding-right:5px;}\n",
       "                .tskit-table-set {display: inline-flex;flex-wrap: wrap;margin: -12px 0 0 -12px;width: calc(100% + 12px);}\n",
       "                .tskit-table-set-table {margin: 12px 0 0 12px;}\n",
       "                details {display: inline-block;}\n",
       "                summary {cursor: pointer; outline: 0; display: list-item;}\n",
       "              </style>\n",
       "              <div class=\"tskit-table-set\">\n",
       "                <div class=\"tskit-table-set-table\">\n",
       "                  <table class=\"tskit-table\">\n",
       "                    <thead>\n",
       "                      <tr>\n",
       "                        <th style=\"padding:0;line-height:21px;\">\n",
       "                          <img style=\"height: 32px;display: inline-block;padding: 3px 5px 3px 0;\" src=\"https://raw.githubusercontent.com/tskit-dev/administrative/main/tskit_logo.svg\"/>\n",
       "                          <a target=\"_blank\" href=\"https://tskit.dev/tskit/docs/latest/python-api.html#the-treesequence-class\"> Tree Sequence </a>\n",
       "                        </th>\n",
       "                      </tr>\n",
       "                    </thead>\n",
       "                    <tbody>\n",
       "                      <tr><td>Trees</td><td>1</td></tr>\n",
       "                      <tr><td>Sequence Length</td><td>1.0</td></tr>\n",
       "                      <tr><td>Time Units</td><td>generations</td></tr>\n",
       "                      <tr><td>Sample Nodes</td><td>4</td></tr>\n",
       "                      <tr><td>Total Size</td><td>1.8 KiB</td></tr>\n",
       "                      <tr>\n",
       "                        <td>Metadata</td><td style=\"text-align: left;\">No Metadata</td></tr>\n",
       "                    </tbody>\n",
       "                  </table>\n",
       "                </div>\n",
       "                <div class=\"tskit-table-set-table\">\n",
       "                  <table class=\"tskit-table\">\n",
       "                    <thead>\n",
       "                      <tr>\n",
       "                        <th style=\"line-height:21px;\">Table</th>\n",
       "                        <th>Rows</th>\n",
       "                        <th>Size</th>\n",
       "                        <th>Has Metadata</th>\n",
       "                      </tr>\n",
       "                    </thead>\n",
       "                    <tbody>\n",
       "                    \n",
       "                  <tr>\n",
       "                    <td>Edges</td>\n",
       "                      <td>6</td>\n",
       "                      <td>200 Bytes</td>\n",
       "                      <td style=\"text-align: center;\">\n",
       "                        \n",
       "                      </td>\n",
       "                    </tr>\n",
       "                \n",
       "                  <tr>\n",
       "                    <td>Individuals</td>\n",
       "                      <td>2</td>\n",
       "                      <td>80 Bytes</td>\n",
       "                      <td style=\"text-align: center;\">\n",
       "                        \n",
       "                      </td>\n",
       "                    </tr>\n",
       "                \n",
       "                  <tr>\n",
       "                    <td>Migrations</td>\n",
       "                      <td>0</td>\n",
       "                      <td>8 Bytes</td>\n",
       "                      <td style=\"text-align: center;\">\n",
       "                        \n",
       "                      </td>\n",
       "                    </tr>\n",
       "                \n",
       "                  <tr>\n",
       "                    <td>Mutations</td>\n",
       "                      <td>0</td>\n",
       "                      <td>16 Bytes</td>\n",
       "                      <td style=\"text-align: center;\">\n",
       "                        \n",
       "                      </td>\n",
       "                    </tr>\n",
       "                \n",
       "                  <tr>\n",
       "                    <td>Nodes</td>\n",
       "                      <td>7</td>\n",
       "                      <td>204 Bytes</td>\n",
       "                      <td style=\"text-align: center;\">\n",
       "                        \n",
       "                      </td>\n",
       "                    </tr>\n",
       "                \n",
       "                  <tr>\n",
       "                    <td>Populations</td>\n",
       "                      <td>1</td>\n",
       "                      <td>224 Bytes</td>\n",
       "                      <td style=\"text-align: center;\">\n",
       "                        ✅\n",
       "                      </td>\n",
       "                    </tr>\n",
       "                \n",
       "                  <tr>\n",
       "                    <td>Provenances</td>\n",
       "                      <td>1</td>\n",
       "                      <td>986 Bytes</td>\n",
       "                      <td style=\"text-align: center;\">\n",
       "                        \n",
       "                      </td>\n",
       "                    </tr>\n",
       "                \n",
       "                  <tr>\n",
       "                    <td>Sites</td>\n",
       "                      <td>0</td>\n",
       "                      <td>16 Bytes</td>\n",
       "                      <td style=\"text-align: center;\">\n",
       "                        \n",
       "                      </td>\n",
       "                    </tr>\n",
       "                \n",
       "                    </tbody>\n",
       "                  </table>\n",
       "                </div>\n",
       "              </div>\n",
       "            </div>\n",
       "            "
      ],
      "text/plain": [
       "<tskit.trees.TreeSequence at 0x7ff519729e50>"
      ]
     },
     "execution_count": 77,
     "metadata": {},
     "output_type": "execute_result"
    }
   ],
   "source": [
    "ts # note there are no mutations yet"
   ]
  },
  {
   "cell_type": "markdown",
   "metadata": {},
   "source": [
    "## Specifying information about sample genomes\n",
    "Although we have specified 2 samples, our tree sequence contains 4 sample nodes (i.e. sample genomes).\n",
    "This is because the `samples` argument specifies the number of *individuals* in the sample,\n",
    "and by default, `sim_ancestry()` assumes diploid organisms.\n",
    "To change this, use the `ploidy` argument:"
   ]
  },
  {
   "cell_type": "code",
   "execution_count": 78,
   "metadata": {},
   "outputs": [
    {
     "data": {
      "image/svg+xml": [
       "<svg xmlns=\"http://www.w3.org/2000/svg\" xmlns:ev=\"http://www.w3.org/2001/xml-events\" xmlns:xlink=\"http://www.w3.org/1999/xlink\" baseProfile=\"full\" height=\"200\" version=\"1.1\" width=\"200\"><defs><style type=\"text/css\"><![CDATA[.background path {fill: #808080; fill-opacity: 0}.background path:nth-child(odd) {fill-opacity: .1}.axes {font-size: 14px}.x-axis .tick .lab {font-weight: bold; dominant-baseline: hanging}.axes, .tree {font-size: 14px; text-anchor: middle}.axes line, .edge {stroke: black; fill: none}.y-axis .grid {stroke: #FAFAFA}.node > .sym {fill: black; stroke: none}.site > .sym {stroke: black}.mut text {fill: red; font-style: italic}.mut.extra text {fill: hotpink}.mut line {fill: none; stroke: none}.mut .sym {fill: none; stroke: red}.mut.extra .sym {stroke: hotpink}.node .mut .sym {stroke-width: 1.5px}.tree text, .tree-sequence text {dominant-baseline: central}.plotbox .lab.lft {text-anchor: end}.plotbox .lab.rgt {text-anchor: start}]]></style></defs><g class=\"tree-sequence\"><g class=\"background\"><path d=\"M20,0 l160,0 l0,138.2 l0,25 l0,5 l-160,0 l0,-5 l0,-25 l0,-138.2z\"/></g><g class=\"axes\"><g class=\"x-axis\"><g transform=\"translate(100 200)\"><text class=\"lab\" text-anchor=\"middle\" transform=\"translate(0 -11)\">Genome position</text></g><line x1=\"20\" x2=\"180\" y1=\"163.2\" y2=\"163.2\"/><g class=\"ticks\"><g class=\"tick\" transform=\"translate(20 163.2)\"><line x1=\"0\" x2=\"0\" y1=\"0\" y2=\"5\"/><g transform=\"translate(0 6)\"><text class=\"lab\">0</text></g></g><g class=\"tick\" transform=\"translate(180 163.2)\"><line x1=\"0\" x2=\"0\" y1=\"0\" y2=\"5\"/><g transform=\"translate(0 6)\"><text class=\"lab\">1</text></g></g></g></g></g><g class=\"plotbox trees\"><g class=\"tree t0\" transform=\"translate(20 0)\"><g class=\"plotbox\"><g class=\"c2 node n10 p0 root\" transform=\"translate(85 26.8)\"><g class=\"a10 c2 node n7 p0\" transform=\"translate(-30 50.894)\"><g class=\"a7 i1 leaf node n5 p0 sample\" transform=\"translate(15 43.706)\"><path class=\"edge\" d=\"M 0 0 V -43.706 H -15\"/><rect class=\"sym\" height=\"6\" width=\"6\" x=\"-3\" y=\"-3\"/><text class=\"lab\" transform=\"translate(0 11)\">5</text></g><g class=\"a7 c2 node n6 p0\" transform=\"translate(-15 38.5615)\"><g class=\"a6 i0 leaf node n0 p0 sample\" transform=\"translate(-10 5.14449)\"><path class=\"edge\" d=\"M 0 0 V -5.14449 H 10\"/><rect class=\"sym\" height=\"6\" width=\"6\" x=\"-3\" y=\"-3\"/><text class=\"lab\" transform=\"translate(0 11)\">0</text></g><g class=\"a6 i0 leaf node n2 p0 sample\" transform=\"translate(10 5.14449)\"><path class=\"edge\" d=\"M 0 0 V -5.14449 H -10\"/><rect class=\"sym\" height=\"6\" width=\"6\" x=\"-3\" y=\"-3\"/><text class=\"lab\" transform=\"translate(0 11)\">2</text></g><path class=\"edge\" d=\"M 0 0 V -38.5615 H 15\"/><circle class=\"sym\" cx=\"0\" cy=\"0\" r=\"3\"/><text class=\"lab lft\" transform=\"translate(-3 -7.0)\">6</text></g><path class=\"edge\" d=\"M 0 0 V -50.894 H 30\"/><circle class=\"sym\" cx=\"0\" cy=\"0\" r=\"3\"/><text class=\"lab lft\" transform=\"translate(-3 -7.0)\">7</text></g><g class=\"a10 c2 node n9 p0\" transform=\"translate(30 29.4758)\"><g class=\"a9 i1 leaf node n3 p0 sample\" transform=\"translate(15 65.1242)\"><path class=\"edge\" d=\"M 0 0 V -65.1242 H -15\"/><rect class=\"sym\" height=\"6\" width=\"6\" x=\"-3\" y=\"-3\"/><text class=\"lab\" transform=\"translate(0 11)\">3</text></g><g class=\"a9 c2 node n8 p0\" transform=\"translate(-15 12.8374)\"><g class=\"a8 i0 leaf node n1 p0 sample\" transform=\"translate(-10 52.2867)\"><path class=\"edge\" d=\"M 0 0 V -52.2867 H 10\"/><rect class=\"sym\" height=\"6\" width=\"6\" x=\"-3\" y=\"-3\"/><text class=\"lab\" transform=\"translate(0 11)\">1</text></g><g class=\"a8 i1 leaf node n4 p0 sample\" transform=\"translate(10 52.2867)\"><path class=\"edge\" d=\"M 0 0 V -52.2867 H -10\"/><rect class=\"sym\" height=\"6\" width=\"6\" x=\"-3\" y=\"-3\"/><text class=\"lab\" transform=\"translate(0 11)\">4</text></g><path class=\"edge\" d=\"M 0 0 V -12.8374 H 15\"/><circle class=\"sym\" cx=\"0\" cy=\"0\" r=\"3\"/><text class=\"lab lft\" transform=\"translate(-3 -7.0)\">8</text></g><path class=\"edge\" d=\"M 0 0 V -29.4758 H -30\"/><circle class=\"sym\" cx=\"0\" cy=\"0\" r=\"3\"/><text class=\"lab rgt\" transform=\"translate(3 -7.0)\">9</text></g><circle class=\"sym\" cx=\"0\" cy=\"0\" r=\"3\"/><text class=\"lab\" transform=\"translate(0 -11)\">10</text></g></g></g></g></g></svg>"
      ],
      "text/plain": [
       "<IPython.core.display.SVG object>"
      ]
     },
     "execution_count": 78,
     "metadata": {},
     "output_type": "execute_result"
    }
   ],
   "source": [
    "ts = msprime.sim_ancestry(\n",
    "    samples=2,\n",
    "    ploidy=3, # two triploid individuals\n",
    "    random_seed=1\n",
    ")\n",
    "SVG(ts.draw_svg())"
   ]
  },
  {
   "cell_type": "markdown",
   "metadata": {},
   "source": [
    "It's easiest to start thinking about genome lengths in units of nucleotides. By default, we are simulating a sequence length that spans just one of these units.\n",
    "We can specify a larger region using the `sequence_length` argument:"
   ]
  },
  {
   "cell_type": "code",
   "execution_count": 80,
   "metadata": {
    "scrolled": true
   },
   "outputs": [
    {
     "data": {
      "image/svg+xml": [
       "<svg xmlns=\"http://www.w3.org/2000/svg\" xmlns:ev=\"http://www.w3.org/2001/xml-events\" xmlns:xlink=\"http://www.w3.org/1999/xlink\" baseProfile=\"full\" height=\"200\" version=\"1.1\" width=\"200\"><defs><style type=\"text/css\"><![CDATA[.background path {fill: #808080; fill-opacity: 0}.background path:nth-child(odd) {fill-opacity: .1}.axes {font-size: 14px}.x-axis .tick .lab {font-weight: bold; dominant-baseline: hanging}.axes, .tree {font-size: 14px; text-anchor: middle}.axes line, .edge {stroke: black; fill: none}.y-axis .grid {stroke: #FAFAFA}.node > .sym {fill: black; stroke: none}.site > .sym {stroke: black}.mut text {fill: red; font-style: italic}.mut.extra text {fill: hotpink}.mut line {fill: none; stroke: none}.mut .sym {fill: none; stroke: red}.mut.extra .sym {stroke: hotpink}.node .mut .sym {stroke-width: 1.5px}.tree text, .tree-sequence text {dominant-baseline: central}.plotbox .lab.lft {text-anchor: end}.plotbox .lab.rgt {text-anchor: start}]]></style></defs><g class=\"tree-sequence\"><g class=\"background\"><path d=\"M20,0 l160,0 l0,138.2 l0,25 l0,5 l-160,0 l0,-5 l0,-25 l0,-138.2z\"/></g><g class=\"axes\"><g class=\"x-axis\"><g transform=\"translate(100 200)\"><text class=\"lab\" text-anchor=\"middle\" transform=\"translate(0 -11)\">Genome position</text></g><line x1=\"20\" x2=\"180\" y1=\"163.2\" y2=\"163.2\"/><g class=\"ticks\"><g class=\"tick\" transform=\"translate(20 163.2)\"><line x1=\"0\" x2=\"0\" y1=\"0\" y2=\"5\"/><g transform=\"translate(0 6)\"><text class=\"lab\">0</text></g></g><g class=\"tick\" transform=\"translate(180 163.2)\"><line x1=\"0\" x2=\"0\" y1=\"0\" y2=\"5\"/><g transform=\"translate(0 6)\"><text class=\"lab\">1000000</text></g></g></g></g></g><g class=\"plotbox trees\"><g class=\"tree t0\" transform=\"translate(20 0)\"><g class=\"plotbox\"><g class=\"c2 node n6 p0 root\" transform=\"translate(98.75 26.8)\"><g class=\"a6 i1 leaf node n2 p0 sample\" transform=\"translate(26.25 94.6)\"><path class=\"edge\" d=\"M 0 0 V -94.6 H -26.25\"/><rect class=\"sym\" height=\"6\" width=\"6\" x=\"-3\" y=\"-3\"/><text class=\"lab\" transform=\"translate(0 11)\">2</text></g><g class=\"a6 c2 node n5 p0\" transform=\"translate(-26.25 25.2505)\"><g class=\"a5 i1 leaf node n3 p0 sample\" transform=\"translate(22.5 69.3495)\"><path class=\"edge\" d=\"M 0 0 V -69.3495 H -22.5\"/><rect class=\"sym\" height=\"6\" width=\"6\" x=\"-3\" y=\"-3\"/><text class=\"lab\" transform=\"translate(0 11)\">3</text></g><g class=\"a5 c2 node n4 p0\" transform=\"translate(-22.5 63.0417)\"><g class=\"a4 i0 leaf node n0 p0 sample\" transform=\"translate(-15 6.3078)\"><path class=\"edge\" d=\"M 0 0 V -6.3078 H 15\"/><rect class=\"sym\" height=\"6\" width=\"6\" x=\"-3\" y=\"-3\"/><text class=\"lab\" transform=\"translate(0 11)\">0</text></g><g class=\"a4 i0 leaf node n1 p0 sample\" transform=\"translate(15 6.3078)\"><path class=\"edge\" d=\"M 0 0 V -6.3078 H -15\"/><rect class=\"sym\" height=\"6\" width=\"6\" x=\"-3\" y=\"-3\"/><text class=\"lab\" transform=\"translate(0 11)\">1</text></g><path class=\"edge\" d=\"M 0 0 V -63.0417 H 22.5\"/><circle class=\"sym\" cx=\"0\" cy=\"0\" r=\"3\"/><text class=\"lab lft\" transform=\"translate(-3 -7.0)\">4</text></g><path class=\"edge\" d=\"M 0 0 V -25.2505 H 26.25\"/><circle class=\"sym\" cx=\"0\" cy=\"0\" r=\"3\"/><text class=\"lab lft\" transform=\"translate(-3 -7.0)\">5</text></g><circle class=\"sym\" cx=\"0\" cy=\"0\" r=\"3\"/><text class=\"lab\" transform=\"translate(0 -11)\">6</text></g></g></g></g></g></svg>"
      ],
      "text/plain": [
       "<IPython.core.display.SVG object>"
      ]
     },
     "execution_count": 80,
     "metadata": {},
     "output_type": "execute_result"
    }
   ],
   "source": [
    "ts = msprime.sim_ancestry(\n",
    "    samples=2,\n",
    "    sequence_length=1e6, # 10 bp long\n",
    "    random_seed=1\n",
    ")\n",
    "SVG(ts.draw_svg())"
   ]
  },
  {
   "cell_type": "markdown",
   "metadata": {},
   "source": [
    "Also, note that our 'tree sequence' consists of just a single tree. This is because we have not yet specified a `recombination_rate`, which is set to 0 by default. \n",
    "This is the probability of a recombination event per genomic unit (base), per generation."
   ]
  },
  {
   "cell_type": "code",
   "execution_count": 89,
   "metadata": {},
   "outputs": [
    {
     "data": {
      "image/svg+xml": [
       "<svg xmlns=\"http://www.w3.org/2000/svg\" xmlns:ev=\"http://www.w3.org/2001/xml-events\" xmlns:xlink=\"http://www.w3.org/1999/xlink\" baseProfile=\"full\" height=\"200\" version=\"1.1\" width=\"800\"><defs><style type=\"text/css\"><![CDATA[.background path {fill: #808080; fill-opacity: 0}.background path:nth-child(odd) {fill-opacity: .1}.axes {font-size: 14px}.x-axis .tick .lab {font-weight: bold; dominant-baseline: hanging}.axes, .tree {font-size: 14px; text-anchor: middle}.axes line, .edge {stroke: black; fill: none}.y-axis .grid {stroke: #FAFAFA}.node > .sym {fill: black; stroke: none}.site > .sym {stroke: black}.mut text {fill: red; font-style: italic}.mut.extra text {fill: hotpink}.mut line {fill: none; stroke: none}.mut .sym {fill: none; stroke: red}.mut.extra .sym {stroke: hotpink}.node .mut .sym {stroke-width: 1.5px}.tree text, .tree-sequence text {dominant-baseline: central}.plotbox .lab.lft {text-anchor: end}.plotbox .lab.rgt {text-anchor: start}]]></style></defs><g class=\"tree-sequence\"><g class=\"background\"><path d=\"M20,0 l190,0 l0,138.2 l-103.74,25 l0,5 l-86.26,0 l0,-5 l0,-25 l0,-138.2z\"/><path d=\"M210,0 l190,0 l0,138.2 l12.844,25 l0,5 l-306.584,0 l0,-5 l103.74,-25 l0,-138.2z\"/><path d=\"M400,0 l190,0 l0,138.2 l153.368,25 l0,5 l-330.524,0 l0,-5 l-12.844,-25 l0,-138.2z\"/><path d=\"M590,0 l190,0 l0,138.2 l0,25 l0,5 l-36.632,0 l0,-5 l-153.368,-25 l0,-138.2z\"/></g><g class=\"axes\"><g class=\"x-axis\"><g transform=\"translate(400 200)\"><text class=\"lab\" text-anchor=\"middle\" transform=\"translate(0 -11)\">Genome position</text></g><line x1=\"20\" x2=\"780\" y1=\"163.2\" y2=\"163.2\"/><g class=\"ticks\"><g class=\"tick\" transform=\"translate(20 163.2)\"><line x1=\"0\" x2=\"0\" y1=\"0\" y2=\"5\"/><g transform=\"translate(0 6)\"><text class=\"lab\">0</text></g></g><g class=\"tick\" transform=\"translate(106.26 163.2)\"><line x1=\"0\" x2=\"0\" y1=\"0\" y2=\"5\"/><g transform=\"translate(0 6)\"><text class=\"lab\">1135</text></g></g><g class=\"tick\" transform=\"translate(412.844 163.2)\"><line x1=\"0\" x2=\"0\" y1=\"0\" y2=\"5\"/><g transform=\"translate(0 6)\"><text class=\"lab\">5169</text></g></g><g class=\"tick\" transform=\"translate(743.368 163.2)\"><line x1=\"0\" x2=\"0\" y1=\"0\" y2=\"5\"/><g transform=\"translate(0 6)\"><text class=\"lab\">9518</text></g></g><g class=\"tick\" transform=\"translate(780 163.2)\"><line x1=\"0\" x2=\"0\" y1=\"0\" y2=\"5\"/><g transform=\"translate(0 6)\"><text class=\"lab\">10000</text></g></g></g></g></g><g class=\"plotbox trees\"><g class=\"tree t0\" transform=\"translate(20 0)\"><g class=\"plotbox\"><g class=\"c2 node n7 p0 root\" transform=\"translate(118.438 94.1434)\"><g class=\"a7 i1 leaf node n3 p0 sample\" transform=\"translate(32.8125 27.2566)\"><path class=\"edge\" d=\"M 0 0 V -27.2566 H -32.8125\"/><rect class=\"sym\" height=\"6\" width=\"6\" x=\"-3\" y=\"-3\"/><text class=\"lab\" transform=\"translate(0 11)\">3</text></g><g class=\"a7 c2 node n6 p0\" transform=\"translate(-32.8125 1.92317)\"><g class=\"a6 i0 leaf node n1 p0 sample\" transform=\"translate(28.125 25.3334)\"><path class=\"edge\" d=\"M 0 0 V -25.3334 H -28.125\"/><rect class=\"sym\" height=\"6\" width=\"6\" x=\"-3\" y=\"-3\"/><text class=\"lab\" transform=\"translate(0 11)\">1</text></g><g class=\"a6 c2 node n4 p0\" transform=\"translate(-28.125 11.8951)\"><g class=\"a4 i0 leaf node n0 p0 sample\" transform=\"translate(-18.75 13.4384)\"><path class=\"edge\" d=\"M 0 0 V -13.4384 H 18.75\"/><rect class=\"sym\" height=\"6\" width=\"6\" x=\"-3\" y=\"-3\"/><text class=\"lab\" transform=\"translate(0 11)\">0</text></g><g class=\"a4 i1 leaf node n2 p0 sample\" transform=\"translate(18.75 13.4384)\"><path class=\"edge\" d=\"M 0 0 V -13.4384 H -18.75\"/><rect class=\"sym\" height=\"6\" width=\"6\" x=\"-3\" y=\"-3\"/><text class=\"lab\" transform=\"translate(0 11)\">2</text></g><path class=\"edge\" d=\"M 0 0 V -11.8951 H 28.125\"/><circle class=\"sym\" cx=\"0\" cy=\"0\" r=\"3\"/><text class=\"lab lft\" transform=\"translate(-3 -7.0)\">4</text></g><path class=\"edge\" d=\"M 0 0 V -1.92317 H 32.8125\"/><circle class=\"sym\" cx=\"0\" cy=\"0\" r=\"3\"/><text class=\"lab lft\" transform=\"translate(-3 -7.0)\">6</text></g><circle class=\"sym\" cx=\"0\" cy=\"0\" r=\"3\"/><text class=\"lab\" transform=\"translate(0 -11)\">7</text></g></g></g><g class=\"tree t1\" transform=\"translate(210 0)\"><g class=\"plotbox\"><g class=\"c2 node n7 p0 root\" transform=\"translate(118.438 94.1434)\"><g class=\"a7 i1 leaf node n3 p0 sample\" transform=\"translate(32.8125 27.2566)\"><path class=\"edge\" d=\"M 0 0 V -27.2566 H -32.8125\"/><rect class=\"sym\" height=\"6\" width=\"6\" x=\"-3\" y=\"-3\"/><text class=\"lab\" transform=\"translate(0 11)\">3</text></g><g class=\"a7 c2 node n6 p0\" transform=\"translate(-32.8125 1.92317)\"><g class=\"a6 i0 leaf node n1 p0 sample\" transform=\"translate(28.125 25.3334)\"><path class=\"edge\" d=\"M 0 0 V -25.3334 H -28.125\"/><rect class=\"sym\" height=\"6\" width=\"6\" x=\"-3\" y=\"-3\"/><text class=\"lab\" transform=\"translate(0 11)\">1</text></g><g class=\"a6 c2 node n5 p0\" transform=\"translate(-28.125 11.8259)\"><g class=\"a5 i0 leaf node n0 p0 sample\" transform=\"translate(-18.75 13.5075)\"><path class=\"edge\" d=\"M 0 0 V -13.5075 H 18.75\"/><rect class=\"sym\" height=\"6\" width=\"6\" x=\"-3\" y=\"-3\"/><text class=\"lab\" transform=\"translate(0 11)\">0</text></g><g class=\"a5 i1 leaf node n2 p0 sample\" transform=\"translate(18.75 13.5075)\"><path class=\"edge\" d=\"M 0 0 V -13.5075 H -18.75\"/><rect class=\"sym\" height=\"6\" width=\"6\" x=\"-3\" y=\"-3\"/><text class=\"lab\" transform=\"translate(0 11)\">2</text></g><path class=\"edge\" d=\"M 0 0 V -11.8259 H 28.125\"/><circle class=\"sym\" cx=\"0\" cy=\"0\" r=\"3\"/><text class=\"lab lft\" transform=\"translate(-3 -7.0)\">5</text></g><path class=\"edge\" d=\"M 0 0 V -1.92317 H 32.8125\"/><circle class=\"sym\" cx=\"0\" cy=\"0\" r=\"3\"/><text class=\"lab lft\" transform=\"translate(-3 -7.0)\">6</text></g><circle class=\"sym\" cx=\"0\" cy=\"0\" r=\"3\"/><text class=\"lab\" transform=\"translate(0 -11)\">7</text></g></g></g><g class=\"tree t2\" transform=\"translate(400 0)\"><g class=\"plotbox\"><g class=\"c2 node n9 p0 root\" transform=\"translate(118.438 26.8)\"><g class=\"a9 i1 leaf node n3 p0 sample\" transform=\"translate(32.8125 94.6)\"><path class=\"edge\" d=\"M 0 0 V -94.6 H -32.8125\"/><rect class=\"sym\" height=\"6\" width=\"6\" x=\"-3\" y=\"-3\"/><text class=\"lab\" transform=\"translate(0 11)\">3</text></g><g class=\"a9 c2 node n6 p0\" transform=\"translate(-32.8125 69.2666)\"><g class=\"a6 i0 leaf node n1 p0 sample\" transform=\"translate(28.125 25.3334)\"><path class=\"edge\" d=\"M 0 0 V -25.3334 H -28.125\"/><rect class=\"sym\" height=\"6\" width=\"6\" x=\"-3\" y=\"-3\"/><text class=\"lab\" transform=\"translate(0 11)\">1</text></g><g class=\"a6 c2 node n5 p0\" transform=\"translate(-28.125 11.8259)\"><g class=\"a5 i0 leaf node n0 p0 sample\" transform=\"translate(-18.75 13.5075)\"><path class=\"edge\" d=\"M 0 0 V -13.5075 H 18.75\"/><rect class=\"sym\" height=\"6\" width=\"6\" x=\"-3\" y=\"-3\"/><text class=\"lab\" transform=\"translate(0 11)\">0</text></g><g class=\"a5 i1 leaf node n2 p0 sample\" transform=\"translate(18.75 13.5075)\"><path class=\"edge\" d=\"M 0 0 V -13.5075 H -18.75\"/><rect class=\"sym\" height=\"6\" width=\"6\" x=\"-3\" y=\"-3\"/><text class=\"lab\" transform=\"translate(0 11)\">2</text></g><path class=\"edge\" d=\"M 0 0 V -11.8259 H 28.125\"/><circle class=\"sym\" cx=\"0\" cy=\"0\" r=\"3\"/><text class=\"lab lft\" transform=\"translate(-3 -7.0)\">5</text></g><path class=\"edge\" d=\"M 0 0 V -69.2666 H 32.8125\"/><circle class=\"sym\" cx=\"0\" cy=\"0\" r=\"3\"/><text class=\"lab lft\" transform=\"translate(-3 -7.0)\">6</text></g><circle class=\"sym\" cx=\"0\" cy=\"0\" r=\"3\"/><text class=\"lab\" transform=\"translate(0 -11)\">9</text></g></g></g><g class=\"tree t3\" transform=\"translate(590 0)\"><g class=\"plotbox\"><g class=\"c2 node n8 p0 root\" transform=\"translate(118.438 59.5084)\"><g class=\"a8 i1 leaf node n3 p0 sample\" transform=\"translate(32.8125 61.8916)\"><path class=\"edge\" d=\"M 0 0 V -61.8916 H -32.8125\"/><rect class=\"sym\" height=\"6\" width=\"6\" x=\"-3\" y=\"-3\"/><text class=\"lab\" transform=\"translate(0 11)\">3</text></g><g class=\"a8 c2 node n6 p0\" transform=\"translate(-32.8125 36.5581)\"><g class=\"a6 i0 leaf node n1 p0 sample\" transform=\"translate(28.125 25.3334)\"><path class=\"edge\" d=\"M 0 0 V -25.3334 H -28.125\"/><rect class=\"sym\" height=\"6\" width=\"6\" x=\"-3\" y=\"-3\"/><text class=\"lab\" transform=\"translate(0 11)\">1</text></g><g class=\"a6 c2 node n5 p0\" transform=\"translate(-28.125 11.8259)\"><g class=\"a5 i0 leaf node n0 p0 sample\" transform=\"translate(-18.75 13.5075)\"><path class=\"edge\" d=\"M 0 0 V -13.5075 H 18.75\"/><rect class=\"sym\" height=\"6\" width=\"6\" x=\"-3\" y=\"-3\"/><text class=\"lab\" transform=\"translate(0 11)\">0</text></g><g class=\"a5 i1 leaf node n2 p0 sample\" transform=\"translate(18.75 13.5075)\"><path class=\"edge\" d=\"M 0 0 V -13.5075 H -18.75\"/><rect class=\"sym\" height=\"6\" width=\"6\" x=\"-3\" y=\"-3\"/><text class=\"lab\" transform=\"translate(0 11)\">2</text></g><path class=\"edge\" d=\"M 0 0 V -11.8259 H 28.125\"/><circle class=\"sym\" cx=\"0\" cy=\"0\" r=\"3\"/><text class=\"lab lft\" transform=\"translate(-3 -7.0)\">5</text></g><path class=\"edge\" d=\"M 0 0 V -36.5581 H 32.8125\"/><circle class=\"sym\" cx=\"0\" cy=\"0\" r=\"3\"/><text class=\"lab lft\" transform=\"translate(-3 -7.0)\">6</text></g><circle class=\"sym\" cx=\"0\" cy=\"0\" r=\"3\"/><text class=\"lab\" transform=\"translate(0 -11)\">8</text></g></g></g></g></g></svg>"
      ],
      "text/plain": [
       "<IPython.core.display.SVG object>"
      ]
     },
     "execution_count": 89,
     "metadata": {},
     "output_type": "execute_result"
    }
   ],
   "source": [
    "ts = msprime.sim_ancestry(\n",
    "    samples=2,\n",
    "    sequence_length=1e4,\n",
    "    recombination_rate=1e-4, # allow for recombination\n",
    "    random_seed=100\n",
    ")\n",
    "SVG(ts.draw_svg())"
   ]
  },
  {
   "cell_type": "markdown",
   "metadata": {},
   "source": [
    "<dl><dt>Exercise 1</dt><dd>Simulate a tree sequence with 20 diploid individuals, each with a 1 Mbp long genome, using a recombination rate of 1e-8. Run the simulation with a random seed of 2022.</dd></dl>"
   ]
  },
  {
   "cell_type": "markdown",
   "metadata": {},
   "source": [
    "<dl><dt>Question 1</dt><dd>How many trees are in the tree sequence?</dd></dl>"
   ]
  },
  {
   "cell_type": "markdown",
   "metadata": {},
   "source": [
    "## Basic syntax to simulation mutations along the tree sequence\n",
    "\n",
    "Next, to simulate mutations, we apply `sim_mutations()` on an existing `TreeSequence` object.\n",
    "At minimum, you must supply a per-base, per-generation mutation rate."
   ]
  },
  {
   "cell_type": "code",
   "execution_count": 10,
   "metadata": {},
   "outputs": [
    {
     "data": {
      "image/svg+xml": [
       "<svg xmlns=\"http://www.w3.org/2000/svg\" xmlns:ev=\"http://www.w3.org/2001/xml-events\" xmlns:xlink=\"http://www.w3.org/1999/xlink\" baseProfile=\"full\" height=\"200\" version=\"1.1\" width=\"200\"><defs><style type=\"text/css\"><![CDATA[.background path {fill: #808080; fill-opacity: 0}.background path:nth-child(odd) {fill-opacity: .1}.axes {font-size: 14px}.x-axis .tick .lab {font-weight: bold; dominant-baseline: hanging}.axes, .tree {font-size: 14px; text-anchor: middle}.axes line, .edge {stroke: black; fill: none}.y-axis .grid {stroke: #FAFAFA}.node > .sym {fill: black; stroke: none}.site > .sym {stroke: black}.mut text {fill: red; font-style: italic}.mut.extra text {fill: hotpink}.mut line {fill: none; stroke: none}.mut .sym {fill: none; stroke: red}.mut.extra .sym {stroke: hotpink}.node .mut .sym {stroke-width: 1.5px}.tree text, .tree-sequence text {dominant-baseline: central}.plotbox .lab.lft {text-anchor: end}.plotbox .lab.rgt {text-anchor: start}]]></style></defs><g class=\"tree-sequence\"><g class=\"background\"><path d=\"M20,0 l160,0 l0,138.2 l0,25 l0,5 l-160,0 l0,-5 l0,-25 l0,-138.2z\"/></g><g class=\"axes\"><g class=\"x-axis\"><g transform=\"translate(100 200)\"><text class=\"lab\" text-anchor=\"middle\" transform=\"translate(0 -11)\">Genome position</text></g><line x1=\"20\" x2=\"180\" y1=\"163.2\" y2=\"163.2\"/><g class=\"ticks\"><g class=\"tick\" transform=\"translate(20 163.2)\"><line x1=\"0\" x2=\"0\" y1=\"0\" y2=\"5\"/><g transform=\"translate(0 6)\"><text class=\"lab\">0</text></g></g><g class=\"tick\" transform=\"translate(180 163.2)\"><line x1=\"0\" x2=\"0\" y1=\"0\" y2=\"5\"/><g transform=\"translate(0 6)\"><text class=\"lab\">10</text></g></g></g><g class=\"site s0\" transform=\"translate(36 163.2)\"><line class=\"sym\" x1=\"0\" x2=\"0\" y1=\"0\" y2=\"-10\"/><g class=\"mut m0\"><polyline class=\"sym\" points=\"2.5,-6.5 0,-1.5 -2.5,-6.5\"/></g></g><g class=\"site s1\" transform=\"translate(100 163.2)\"><line class=\"sym\" x1=\"0\" x2=\"0\" y1=\"0\" y2=\"-10\"/><g class=\"mut m1\"><polyline class=\"sym\" points=\"2.5,-6.5 0,-1.5 -2.5,-6.5\"/></g></g><g class=\"site s2\" transform=\"translate(132 163.2)\"><line class=\"sym\" x1=\"0\" x2=\"0\" y1=\"0\" y2=\"-10\"/><g class=\"mut m2\"><polyline class=\"sym\" points=\"2.5,-6.5 0,-1.5 -2.5,-6.5\"/></g></g><g class=\"site s3\" transform=\"translate(148 163.2)\"><line class=\"sym\" x1=\"0\" x2=\"0\" y1=\"0\" y2=\"-10\"/><g class=\"mut m5\"><polyline class=\"sym\" points=\"2.5,-6.5 0,-1.5 -2.5,-6.5\"/></g><g class=\"mut m4\"><polyline class=\"sym\" points=\"2.5,-10.5 0,-5.5 -2.5,-10.5\"/></g><g class=\"mut m3\"><polyline class=\"sym\" points=\"2.5,-14.5 0,-9.5 -2.5,-14.5\"/></g></g></g></g><g class=\"plotbox trees\"><g class=\"tree t0\" transform=\"translate(20 0)\"><g class=\"plotbox\"><g class=\"c2 node n6 p0 root\" transform=\"translate(98.75 26.8)\"><g class=\"a6 i1 leaf m5 node n2 p0 s3 sample\" transform=\"translate(26.25 94.6)\"><path class=\"edge\" d=\"M 0 0 V -94.6 H -26.25\"/><g class=\"mut m5 s3\" transform=\"translate(0 -43.1373)\"><line x1=\"0\" x2=\"0\" y1=\"0\" y2=\"43.1373\"/><path class=\"sym\" d=\"M -3,-3 l 6,6 M -3,3 l 6,-6\"/><text class=\"lab rgt\" transform=\"translate(5 0)\">5</text></g><rect class=\"sym\" height=\"6\" width=\"6\" x=\"-3\" y=\"-3\"/><text class=\"lab\" transform=\"translate(0 11)\">2</text></g><g class=\"a6 c2 m2 m3 m4 node n5 p0 s2 s3\" transform=\"translate(-26.25 25.2505)\"><g class=\"a5 i1 leaf m0 node n3 p0 s0 sample\" transform=\"translate(22.5 69.3495)\"><path class=\"edge\" d=\"M 0 0 V -69.3495 H -22.5\"/><g class=\"mut m0 s0\" transform=\"translate(0 -47.5327)\"><line x1=\"0\" x2=\"0\" y1=\"0\" y2=\"47.5327\"/><path class=\"sym\" d=\"M -3,-3 l 6,6 M -3,3 l 6,-6\"/><text class=\"lab rgt\" transform=\"translate(5 0)\">0</text></g><rect class=\"sym\" height=\"6\" width=\"6\" x=\"-3\" y=\"-3\"/><text class=\"lab\" transform=\"translate(0 11)\">3</text></g><g class=\"a5 c2 node n4 p0\" transform=\"translate(-22.5 63.0417)\"><g class=\"a4 i0 leaf node n0 p0 sample\" transform=\"translate(-15 6.3078)\"><path class=\"edge\" d=\"M 0 0 V -6.3078 H 15\"/><rect class=\"sym\" height=\"6\" width=\"6\" x=\"-3\" y=\"-3\"/><text class=\"lab\" transform=\"translate(0 11)\">0</text></g><g class=\"a4 i0 leaf m1 node n1 p0 s1 sample\" transform=\"translate(15 6.3078)\"><path class=\"edge\" d=\"M 0 0 V -6.3078 H -15\"/><g class=\"mut m1 s1\" transform=\"translate(0 -0.715201)\"><line x1=\"0\" x2=\"0\" y1=\"0\" y2=\"0.715201\"/><path class=\"sym\" d=\"M -3,-3 l 6,6 M -3,3 l 6,-6\"/><text class=\"lab rgt\" transform=\"translate(5 0)\">1</text></g><rect class=\"sym\" height=\"6\" width=\"6\" x=\"-3\" y=\"-3\"/><text class=\"lab\" transform=\"translate(0 11)\">1</text></g><path class=\"edge\" d=\"M 0 0 V -63.0417 H 22.5\"/><circle class=\"sym\" cx=\"0\" cy=\"0\" r=\"3\"/><text class=\"lab lft\" transform=\"translate(-3 -7.0)\">4</text></g><path class=\"edge\" d=\"M 0 0 V -25.2505 H 26.25\"/><g class=\"mut m3 s3\" transform=\"translate(0 -24.3064)\"><line x1=\"0\" x2=\"0\" y1=\"0\" y2=\"24.3064\"/><path class=\"sym\" d=\"M -3,-3 l 6,6 M -3,3 l 6,-6\"/><text class=\"lab lft\" transform=\"translate(-5 0)\">3</text></g><g class=\"mut m2 s2\" transform=\"translate(0 -19.542)\"><line x1=\"0\" x2=\"0\" y1=\"0\" y2=\"19.542\"/><path class=\"sym\" d=\"M -3,-3 l 6,6 M -3,3 l 6,-6\"/><text class=\"lab lft\" transform=\"translate(-5 0)\">2</text></g><g class=\"mut m4 s3\" transform=\"translate(0 -7.61576)\"><line x1=\"0\" x2=\"0\" y1=\"0\" y2=\"7.61576\"/><path class=\"sym\" d=\"M -3,-3 l 6,6 M -3,3 l 6,-6\"/><text class=\"lab lft\" transform=\"translate(-5 0)\">4</text></g><circle class=\"sym\" cx=\"0\" cy=\"0\" r=\"3\"/><text class=\"lab lft\" transform=\"translate(-3 -7.0)\">5</text></g><circle class=\"sym\" cx=\"0\" cy=\"0\" r=\"3\"/><text class=\"lab\" transform=\"translate(0 -11)\">6</text></g></g></g></g></g></svg>"
      ],
      "text/plain": [
       "<IPython.core.display.SVG object>"
      ]
     },
     "execution_count": 10,
     "metadata": {},
     "output_type": "execute_result"
    }
   ],
   "source": [
    "mts = msprime.sim_mutations(\n",
    "    ts, # generated from the step above\n",
    "    rate=0.10, # mutation rate\n",
    "    random_seed=2\n",
    ")\n",
    "SVG(mts.draw_svg())"
   ]
  },
  {
   "cell_type": "code",
   "execution_count": 13,
   "metadata": {},
   "outputs": [
    {
     "data": {
      "text/html": [
       "\n",
       "            <div>\n",
       "              <style>\n",
       "                .tskit-table thead tr th {text-align: left;padding: 0.5em 0.5em;}\n",
       "                .tskit-table tbody tr td {padding: 0.5em 0.5em;}\n",
       "                .tskit-table tbody tr td:first-of-type {text-align: left;}\n",
       "                .tskit-details-label {vertical-align: top; padding-right:5px;}\n",
       "                .tskit-table-set {display: inline-flex;flex-wrap: wrap;margin: -12px 0 0 -12px;width: calc(100% + 12px);}\n",
       "                .tskit-table-set-table {margin: 12px 0 0 12px;}\n",
       "                details {display: inline-block;}\n",
       "                summary {cursor: pointer; outline: 0; display: list-item;}\n",
       "              </style>\n",
       "              <div class=\"tskit-table-set\">\n",
       "                <div class=\"tskit-table-set-table\">\n",
       "                  <table class=\"tskit-table\">\n",
       "                    <thead>\n",
       "                      <tr>\n",
       "                        <th style=\"padding:0;line-height:21px;\">\n",
       "                          <img style=\"height: 32px;display: inline-block;padding: 3px 5px 3px 0;\" src=\"https://raw.githubusercontent.com/tskit-dev/administrative/main/tskit_logo.svg\"/>\n",
       "                          <a target=\"_blank\" href=\"https://tskit.dev/tskit/docs/latest/python-api.html#the-treesequence-class\"> Tree Sequence </a>\n",
       "                        </th>\n",
       "                      </tr>\n",
       "                    </thead>\n",
       "                    <tbody>\n",
       "                      <tr><td>Trees</td><td>1</td></tr>\n",
       "                      <tr><td>Sequence Length</td><td>10.0</td></tr>\n",
       "                      <tr><td>Time Units</td><td>generations</td></tr>\n",
       "                      <tr><td>Sample Nodes</td><td>4</td></tr>\n",
       "                      <tr><td>Total Size</td><td>2.8 KiB</td></tr>\n",
       "                      <tr>\n",
       "                        <td>Metadata</td><td style=\"text-align: left;\">No Metadata</td></tr>\n",
       "                    </tbody>\n",
       "                  </table>\n",
       "                </div>\n",
       "                <div class=\"tskit-table-set-table\">\n",
       "                  <table class=\"tskit-table\">\n",
       "                    <thead>\n",
       "                      <tr>\n",
       "                        <th style=\"line-height:21px;\">Table</th>\n",
       "                        <th>Rows</th>\n",
       "                        <th>Size</th>\n",
       "                        <th>Has Metadata</th>\n",
       "                      </tr>\n",
       "                    </thead>\n",
       "                    <tbody>\n",
       "                    \n",
       "                  <tr>\n",
       "                    <td>Edges</td>\n",
       "                      <td>6</td>\n",
       "                      <td>200 Bytes</td>\n",
       "                      <td style=\"text-align: center;\">\n",
       "                        \n",
       "                      </td>\n",
       "                    </tr>\n",
       "                \n",
       "                  <tr>\n",
       "                    <td>Individuals</td>\n",
       "                      <td>2</td>\n",
       "                      <td>80 Bytes</td>\n",
       "                      <td style=\"text-align: center;\">\n",
       "                        \n",
       "                      </td>\n",
       "                    </tr>\n",
       "                \n",
       "                  <tr>\n",
       "                    <td>Migrations</td>\n",
       "                      <td>0</td>\n",
       "                      <td>8 Bytes</td>\n",
       "                      <td style=\"text-align: center;\">\n",
       "                        \n",
       "                      </td>\n",
       "                    </tr>\n",
       "                \n",
       "                  <tr>\n",
       "                    <td>Mutations</td>\n",
       "                      <td>6</td>\n",
       "                      <td>238 Bytes</td>\n",
       "                      <td style=\"text-align: center;\">\n",
       "                        \n",
       "                      </td>\n",
       "                    </tr>\n",
       "                \n",
       "                  <tr>\n",
       "                    <td>Nodes</td>\n",
       "                      <td>7</td>\n",
       "                      <td>204 Bytes</td>\n",
       "                      <td style=\"text-align: center;\">\n",
       "                        \n",
       "                      </td>\n",
       "                    </tr>\n",
       "                \n",
       "                  <tr>\n",
       "                    <td>Populations</td>\n",
       "                      <td>1</td>\n",
       "                      <td>224 Bytes</td>\n",
       "                      <td style=\"text-align: center;\">\n",
       "                        ✅\n",
       "                      </td>\n",
       "                    </tr>\n",
       "                \n",
       "                  <tr>\n",
       "                    <td>Provenances</td>\n",
       "                      <td>2</td>\n",
       "                      <td>1.7 KiB</td>\n",
       "                      <td style=\"text-align: center;\">\n",
       "                        \n",
       "                      </td>\n",
       "                    </tr>\n",
       "                \n",
       "                  <tr>\n",
       "                    <td>Sites</td>\n",
       "                      <td>4</td>\n",
       "                      <td>116 Bytes</td>\n",
       "                      <td style=\"text-align: center;\">\n",
       "                        \n",
       "                      </td>\n",
       "                    </tr>\n",
       "                \n",
       "                    </tbody>\n",
       "                  </table>\n",
       "                </div>\n",
       "              </div>\n",
       "            </div>\n",
       "            "
      ],
      "text/plain": [
       "<tskit.trees.TreeSequence at 0x7ff512b14520>"
      ]
     },
     "execution_count": 13,
     "metadata": {},
     "output_type": "execute_result"
    }
   ],
   "source": [
    "mts # note there are five sites with variation and six mutations"
   ]
  },
  {
   "cell_type": "code",
   "execution_count": 16,
   "metadata": {},
   "outputs": [
    {
     "data": {
      "text/html": [
       "\n",
       "            <div>\n",
       "                <style scoped=\"\">\n",
       "                    .tskit-table tbody tr th:only-of-type {vertical-align: middle;}\n",
       "                    .tskit-table tbody tr th {vertical-align: top;}\n",
       "                    .tskit-table tbody td {text-align: right;padding: 0.5em 0.5em;}\n",
       "                    .tskit-table tbody th {padding: 0.5em 0.5em;}\n",
       "                </style>\n",
       "                <table border=\"1\" class=\"tskit-table\">\n",
       "                    <thead>\n",
       "                        <tr>\n",
       "                            <th>id</th><th>position</th><th>ancestral_state</th><th>metadata</th>\n",
       "                        </tr>\n",
       "                    </thead>\n",
       "                    <tbody>\n",
       "                        <tr><td>0</td><td>1.00000000</td><td>T</td><td>b''</td></tr>\n",
       "<tr><td>1</td><td>5.00000000</td><td>T</td><td>b''</td></tr>\n",
       "<tr><td>2</td><td>7.00000000</td><td>C</td><td>b''</td></tr>\n",
       "<tr><td>3</td><td>8.00000000</td><td>C</td><td>b''</td></tr>\n",
       "\n",
       "                    </tbody>\n",
       "                </table>\n",
       "            </div>\n",
       "        "
      ],
      "text/plain": [
       "<tskit.tables.SiteTable at 0x7ff512b68040>"
      ]
     },
     "execution_count": 16,
     "metadata": {},
     "output_type": "execute_result"
    }
   ],
   "source": [
    "mts.tables.sites"
   ]
  },
  {
   "cell_type": "code",
   "execution_count": 17,
   "metadata": {},
   "outputs": [
    {
     "data": {
      "text/html": [
       "\n",
       "            <div>\n",
       "                <style scoped=\"\">\n",
       "                    .tskit-table tbody tr th:only-of-type {vertical-align: middle;}\n",
       "                    .tskit-table tbody tr th {vertical-align: top;}\n",
       "                    .tskit-table tbody td {text-align: right;padding: 0.5em 0.5em;}\n",
       "                    .tskit-table tbody th {padding: 0.5em 0.5em;}\n",
       "                </style>\n",
       "                <table border=\"1\" class=\"tskit-table\">\n",
       "                    <thead>\n",
       "                        <tr>\n",
       "                            <th>id</th><th>site</th><th>node</th><th>time</th><th>derived_state</th><th>parent</th><th>metadata</th>\n",
       "                        </tr>\n",
       "                    </thead>\n",
       "                    <tbody>\n",
       "                        <tr><td>0</td><td>0</td><td>3</td><td>1.35540758</td><td>G</td><td>-1</td><td>b''</td></tr>\n",
       "<tr><td>1</td><td>1</td><td>1</td><td>0.02039417</td><td>A</td><td>-1</td><td>b''</td></tr>\n",
       "<tr><td>2</td><td>2</td><td>5</td><td>2.53476625</td><td>A</td><td>-1</td><td>b''</td></tr>\n",
       "<tr><td>3</td><td>3</td><td>5</td><td>2.67062444</td><td>G</td><td>-1</td><td>b''</td></tr>\n",
       "<tr><td>4</td><td>3</td><td>5</td><td>2.19468609</td><td>C</td><td>3</td><td>b''</td></tr>\n",
       "<tr><td>5</td><td>3</td><td>2</td><td>1.23007336</td><td>A</td><td>-1</td><td>b''</td></tr>\n",
       "\n",
       "                    </tbody>\n",
       "                </table>\n",
       "            </div>\n",
       "        "
      ],
      "text/plain": [
       "<tskit.tables.MutationTable at 0x7ff512b68070>"
      ]
     },
     "execution_count": 17,
     "metadata": {},
     "output_type": "execute_result"
    }
   ],
   "source": [
    "mts.tables.mutations"
   ]
  },
  {
   "cell_type": "markdown",
   "metadata": {},
   "source": [
    "Notice that some sites have experienced multiple mutations.\n",
    "To view the sequence information at each successive site, we can use the `variants()` method, which iterates over a ``TreeSequence`` object:"
   ]
  },
  {
   "cell_type": "code",
   "execution_count": 21,
   "metadata": {},
   "outputs": [
    {
     "name": "stdout",
     "output_type": "stream",
     "text": [
      "0.0\t('C', 'G')\t[0 0 0 1]\n",
      "1.0\t('T', 'G')\t[1 1 1 0]\n",
      "2.0\t('A', 'C')\t[1 0 0 0]\n",
      "3.0\t('G', 'T')\t[0 1 1 0]\n",
      "7.0\t('T', 'A')\t[0 0 0 0]\n"
     ]
    }
   ],
   "source": [
    "for var in mts.variants():\n",
    "    print(var.site.position, var.alleles, var.genotypes, sep=\"\\t\")"
   ]
  },
  {
   "cell_type": "markdown",
   "metadata": {},
   "source": [
    "<dl><dt>Exercise 2</dt><dd>Simulate some mutations along the tree sequence generated in Exercise 1 using a mutation rate of 1e-8. Run the simulation using a random seed of 2022.</dd></dl>"
   ]
  },
  {
   "cell_type": "markdown",
   "metadata": {},
   "source": [
    "<dl><dt>Question 2</dt><dd>How many sites with variation are in the tree sequence?</dd></dl>"
   ]
  },
  {
   "cell_type": "markdown",
   "metadata": {},
   "source": [
    "## More complicated simulations\n",
    " - **Recombination rate variation across the genome** We can introduce this by creating a `RateMap` object, which lists recombination rates between defined positions in the sequence.\n",
    "```\n",
    "recomb_rate_map = msprime.RateMap(position=[0, 10, 20], rate=[0.01, 0.1])\n",
    "ts = msprime.sim_ancestry(3, recombination_rate=recomb_rate_map, random_seed=2)\n",
    "SVG(ts.draw_svg())\n",
    "```\n",
    " - **Mutation rate variation across the genome** This can also be introduced using a `RateMap` object, which lists mutation rates between defined position in the sequence.\n",
    "```\n",
    "mutation_rate_map = msprime.RateMap(position=[0, 40, 60, 100], rate=[0.01, 0.1, 0.01])\n",
    "mts = msprime.sim_mutations(ts, rate=mutation_rate_map, random_seed=104)\n",
    "SVG(mts.draw_svg())\n",
    "```\n",
    " - **Mutation models** There are pre-defined models (e.g., Jukes-Cantor). You can also use your own custom models.\n",
    " - **Stacking mutations** Mutations can be simulated on the same tree sequence under different models and/or parameters and/or over different time periods.\n",
    " - **Continuous coordinates** By default, the recombination and mutation events will be assigned to integer locations along the sequence. However, there may be situations where you want to model the genome using continuous coordinates. In this case, use the `discrete_genome=False` argument:\n",
    "```\n",
    "ts = msprime.sim_ancestry(\n",
    "    samples=2,\n",
    "    random_seed=28,\n",
    "    sequence_length=100,\n",
    "    recombination_rate=0.01,\n",
    "    discrete_genome=False\n",
    ")\n",
    "SVG(ts.draw_svg())\n",
    "```\n",
    " - **Gene conversion** See the API documentation for the `gene_conversion_rate` and `gene_conversion_tract_length` arguments, and [this](https://tskit.dev/msprime/docs/stable/ancestry.html?highlight=gene%20conversion#gene-conversion) short tutorial."
   ]
  },
  {
   "cell_type": "markdown",
   "metadata": {},
   "source": [
    "## Simulations under custom demographic models\n",
    "\n",
    "To simulate under more complicated models of demographic history, we need to create a `msprime.Demography` object.\n",
    "\n",
    "`msprime` supports simulation from multiple discrete populations, each of which is initialized via the `add_population()` method.\n",
    "For each population, you can specify a sample size, an effective population size, an exponential growth rate and a name.\n",
    "\n",
    "Let's simulate some data using a stepping stone model with six populations."
   ]
  },
  {
   "cell_type": "code",
   "execution_count": 68,
   "metadata": {},
   "outputs": [],
   "source": [
    "deme_size = 1_000 # population size of each deme\n",
    "num_demes = 6\n",
    "num_deme_samples = 5"
   ]
  },
  {
   "cell_type": "code",
   "execution_count": 91,
   "metadata": {},
   "outputs": [],
   "source": [
    "demography = msprime.Demography.stepping_stone_model(\n",
    "    [deme_size] * num_demes,\n",
    "    migration_rate=0.01\n",
    ")"
   ]
  },
  {
   "cell_type": "markdown",
   "metadata": {},
   "source": [
    "We can visualise demographic models using `demesdraw`."
   ]
  },
  {
   "cell_type": "code",
   "execution_count": 92,
   "metadata": {},
   "outputs": [
    {
     "data": {
      "image/png": "[encoded data removed]",
      "text/plain": [
       "<Figure size 432x288 with 1 Axes>"
      ]
     },
     "metadata": {
      "needs_background": "light"
     },
     "output_type": "display_data"
    }
   ],
   "source": [
    "graph = msprime.Demography.to_demes(demography) # for visualization only\n",
    "\n",
    "positions = {f\"pop_{i}\": i*deme_size*3 for i in range(num_demes)}\n",
    "\n",
    "fig, ax = plt.subplots() # use plt.rcParams[\"figure.figsize\"]\n",
    "demesdraw.tubes(graph,\n",
    "                ax=ax,\n",
    "                positions=positions,\n",
    "                seed=3)\n",
    "plt.show()"
   ]
  },
  {
   "cell_type": "code",
   "execution_count": 93,
   "metadata": {},
   "outputs": [],
   "source": [
    "ts = msprime.sim_ancestry(\n",
    "    {i: num_deme_samples for i in range(num_demes)},\n",
    "    sequence_length=1e6, # 1 Mbp\n",
    "    demography=demography,\n",
    "    recombination_rate=1e-8, # human-like recombination rate\n",
    "    random_seed=3,\n",
    ")\n",
    "\n",
    "ts = msprime.sim_mutations(\n",
    "    ts,\n",
    "    rate=1e-8, # human-like mutation rate\n",
    "    random_seed=3\n",
    ")"
   ]
  },
  {
   "cell_type": "markdown",
   "metadata": {},
   "source": [
    "Let's check the Fst statistics between the populations."
   ]
  },
  {
   "cell_type": "code",
   "execution_count": 96,
   "metadata": {},
   "outputs": [
    {
     "name": "stdout",
     "output_type": "stream",
     "text": [
      "Fst between pop_0 and pop_1 = 0.02114871196191126\n",
      "Fst between pop_0 and pop_5 = 0.008156542648851905\n"
     ]
    }
   ],
   "source": [
    "Fst_01 = ts.Fst(\n",
    "    [\n",
    "        ts.samples(0), # pop_0\n",
    "        ts.samples(1)  # pop_1\n",
    "    ],\n",
    "    mode=\"branch\"\n",
    ")\n",
    "\n",
    "Fst_05 = ts.Fst(\n",
    "    [\n",
    "        ts.samples(0), # pop_0\n",
    "        ts.samples(5)  # pop_5\n",
    "    ],\n",
    "    mode=\"branch\"\n",
    ")\n",
    "\n",
    "print(f\"Fst between pop_0 and pop_1 = {Fst_01}\")\n",
    "print(f\"Fst between pop_0 and pop_5 = {Fst_05}\")"
   ]
  },
  {
   "cell_type": "markdown",
   "metadata": {},
   "source": [
    "<dl><dt>Exercise 3</dt><dd>Get the Fst between population 0 and all the other populations.</dd></dl>"
   ]
  },
  {
   "cell_type": "markdown",
   "metadata": {},
   "source": [
    "<dl><dt>Question 3</dt><dd>What is the Fst between population 0 and population 3?</dd></dl>"
   ]
  },
  {
   "cell_type": "code",
   "execution_count": 97,
   "metadata": {},
   "outputs": [],
   "source": [
    "sample_data = tsinfer.SampleData.from_tree_sequence(ts)\n",
    "\n",
    "inferred_ts = tsinfer.infer(sample_data)\n",
    "\n",
    "dated_ts = tsdate.date(\n",
    "    tsdate.preprocess_ts(inferred_ts),\n",
    "    mutation_rate=1e-8,\n",
    "    Ne=6_000,\n",
    "    ignore_oldest_root=True\n",
    ")"
   ]
  },
  {
   "cell_type": "markdown",
   "metadata": {},
   "source": [
    "Note that branch-wise statistics differ noticeably between the *simulated* tree sequence and the *inferred* and *dated* tree sequences. This is because the branch lengths in the tree sequence derived straight from `tsinfer` are not meaningful. Branch lengths need to be estimated using `tsdate`."
   ]
  },
  {
   "cell_type": "code",
   "execution_count": 106,
   "metadata": {},
   "outputs": [
    {
     "name": "stdout",
     "output_type": "stream",
     "text": [
      "Site-wise calculations:\n",
      "Fst (true     ts) = 0.009670850912044893\n",
      "Fst (inferred ts) = 0.009670850912044893\n",
      "Fst (dated    ts) = 0.009670850912044893\n",
      "\n",
      "\n",
      "Branch-wise calculations:\n",
      "Fst (true     ts) = 0.008156542648851905\n",
      "Fst (inferred ts) = 0.00913075261642271\n",
      "Fst (dated    ts) = 0.01274765556388735\n"
     ]
    }
   ],
   "source": [
    "# Perform site-wise calculations.\n",
    "Fst_true_ts = ts.Fst([ts.samples(0), ts.samples(5)])\n",
    "Fst_inferred_ts = inferred_ts.Fst([inferred_ts.samples(0), inferred_ts.samples(5)]) # topology only\n",
    "Fst_dated_ts = dated_ts.Fst([dated_ts.samples(0), dated_ts.samples(5)])\n",
    "\n",
    "# Perform branch-wise calculations.\n",
    "Fst_branch_true_ts = ts.Fst([ts.samples(0), ts.samples(5)], mode=\"branch\")\n",
    "Fst_branch_inferred_ts = inferred_ts.Fst([inferred_ts.samples(0), inferred_ts.samples(5)], mode=\"branch\")\n",
    "Fst_branch_dated_ts = dated_ts.Fst([dated_ts.samples(0), dated_ts.samples(5)], mode=\"branch\")\n",
    "\n",
    "print(\n",
    "    \"Site-wise calculations:\",\n",
    "    f\"Fst (true     ts) = {Fst_true_ts}\",\n",
    "    f\"Fst (inferred ts) = {Fst_inferred_ts}\",\n",
    "    f\"Fst (dated    ts) = {Fst_dated_ts}\",\n",
    "    sep=\"\\n\",\n",
    ")\n",
    "\n",
    "print(\"\\n\")\n",
    "\n",
    "print(\n",
    "    \"Branch-wise calculations:\",\n",
    "    f\"Fst (true     ts) = {Fst_branch_true_ts}\",\n",
    "    f\"Fst (inferred ts) = {Fst_branch_inferred_ts}\",\n",
    "    f\"Fst (dated    ts) = {Fst_branch_dated_ts}\",\n",
    "    sep=\"\\n\",\n",
    ")"
   ]
  },
  {
   "cell_type": "code",
   "execution_count": 107,
   "metadata": {},
   "outputs": [
    {
     "name": "stdout",
     "output_type": "stream",
     "text": [
      "Site-wise calculations:\n",
      "divergence (true     ts) = 0.00023745999999999856\n",
      "divergence (inferred ts) = 0.00023745999999999856\n",
      "divergence (dated    ts) = 0.00023745999999999856\n",
      "\n",
      "\n",
      "Branch-wise calculations:\n",
      "divergence (true     ts) = 21979.377248386285\n",
      "divergence (inferred ts) = 1.2686422366024814\n",
      "divergence (dated    ts) = 24939.10971290058\n"
     ]
    }
   ],
   "source": [
    "# Perform site-wise calculations.\n",
    "div_true_ts = ts.divergence([ts.samples(0), ts.samples(5)])\n",
    "div_inferred_ts = inferred_ts.divergence([inferred_ts.samples(0), inferred_ts.samples(5)])\n",
    "div_dated_ts = dated_ts.divergence([dated_ts.samples(0), dated_ts.samples(5)])\n",
    "\n",
    "# Perform branch-wise calculations.\n",
    "div_branch_true_ts = ts.divergence([ts.samples(0), ts.samples(5)], mode=\"branch\")\n",
    "div_branch_inferred_ts = inferred_ts.divergence([inferred_ts.samples(0), inferred_ts.samples(5)], mode=\"branch\")\n",
    "div_branch_dated_ts = dated_ts.divergence([dated_ts.samples(0), dated_ts.samples(5)], mode=\"branch\")\n",
    "\n",
    "print(\n",
    "    \"Site-wise calculations:\",\n",
    "    f\"divergence (true     ts) = {div_true_ts}\",\n",
    "    f\"divergence (inferred ts) = {div_inferred_ts}\",\n",
    "    f\"divergence (dated    ts) = {div_dated_ts}\",\n",
    "    sep=\"\\n\",\n",
    ")\n",
    "\n",
    "print(\"\\n\")\n",
    "\n",
    "print(\n",
    "    \"Branch-wise calculations:\",\n",
    "    f\"divergence (true     ts) = {div_branch_true_ts}\",\n",
    "    f\"divergence (inferred ts) = {div_branch_inferred_ts}\",\n",
    "    f\"divergence (dated    ts) = {div_branch_dated_ts}\",\n",
    "    sep=\"\\n\",\n",
    ")"
   ]
  },
  {
   "cell_type": "code",
   "execution_count": 102,
   "metadata": {},
   "outputs": [
    {
     "data": {
      "image/png": "[encoded data removed]",
      "text/plain": [
       "<Figure size 720x720 with 4 Axes>"
      ]
     },
     "metadata": {
      "needs_background": "light"
     },
     "output_type": "display_data"
    }
   ],
   "source": [
    "gnn_heatmap = np.array([\n",
    "    np.mean(\n",
    "        ts.genealogical_nearest_neighbours(\n",
    "            ts.samples(i),\n",
    "            [ts.samples(j) for j in range(num_demes)]),\n",
    "        axis=0,\n",
    "    )\n",
    "    for i in range(num_demes)\n",
    "])\n",
    "\n",
    "sns.clustermap(gnn_heatmap);"
   ]
  },
  {
   "cell_type": "markdown",
   "metadata": {},
   "source": [
    "## Running the same simulation many times"
   ]
  },
  {
   "cell_type": "markdown",
   "metadata": {},
   "source": [
    "Variation among simulated genetic genealogies means that there is variation in branch-wise statistics among the genealogies as well. To see this, we need a bunch of simuation replicates. The `num_replicates` argument in `sim_ancestry()` offers a convenient way to run many simulations under the same model."
   ]
  },
  {
   "cell_type": "code",
   "execution_count": null,
   "metadata": {},
   "outputs": [],
   "source": [
    "Fst_values = []\n",
    "\n",
    "for ts in msprime.sim_ancestry(\n",
    "    {i: num_deme_samples for i in range(num_demes)},\n",
    "    sequence_length=1e6,\n",
    "    demography=demography,\n",
    "    recombination_rate=1e-8,\n",
    "    random_seed=1234,\n",
    "    num_replicates=100\n",
    "):\n",
    "    Fst = ts.Fst([ts.samples(0), ts.samples(5)], mode=\"branch\")\n",
    "    Fst_values.append(Fst)"
   ]
  },
  {
   "cell_type": "markdown",
   "metadata": {},
   "source": [
    "<dl><dt>Question 4</dt><dd>What is the mean Fst across the simulated genetic genealogies?</dd></dl>"
   ]
  },
  {
   "cell_type": "markdown",
   "metadata": {},
   "source": [
    "## More complicated demographic models\n",
    " - Varying population size.\n",
    " - Population structure (multiple demes with different migration rates).\n",
    " - Migration (constant or varying migration rates).\n",
    " - Admixture.\n",
    " - Population divergence."
   ]
  },
  {
   "cell_type": "markdown",
   "metadata": {},
   "source": [
    "## Other topics of interest\n",
    " - Forward simulations using `SLiM` (and recapitation).\n",
    " - Community-validated demographic models (`stdpopsim`).\n",
    " - Combining demographic models.\n",
    " - Simple selective sweeps.\n",
    " - Debugging demographic models.\n",
    " \n",
    "## Some relevant papers and resources\n",
    " -  [Efficient coalescent simulation and genealogical analysis for large sample sizes](https://doi.org/10.1371/journal.pcbi.1004842)\n",
    " - [Efficient ancestry and mutation simulation with msprime 1.0](https://doi.org/10.1093/genetics/iyab229)\n",
    " - [tskit.dev documentation](https://tskit.dev/)\n",
    " - [Georgia Tsambos' Jupyter notebooks](https://github.com/gtsambos/2022-ts-workshops)"
   ]
  }
 ],
 "metadata": {
  "kernelspec": {
   "display_name": "Python 3 (ipykernel)",
   "language": "python",
   "name": "python3"
  },
  "language_info": {
   "codemirror_mode": {
    "name": "ipython",
    "version": 3
   },
   "file_extension": ".py",
   "mimetype": "text/x-python",
   "name": "python",
   "nbconvert_exporter": "python",
   "pygments_lexer": "ipython3",
   "version": "3.8.12"
  }
 },
 "nbformat": 4,
 "nbformat_minor": 2
}
