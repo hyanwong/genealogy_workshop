{
 "cells": [
  {
   "cell_type": "code",
   "execution_count": null,
   "metadata": {},
   "outputs": [],
   "source": [
    "# Please execute this cell (shift+<Return>) before starting the workbook\n",
    "# this should print out \"Your notebook is ready to go\"\n",
    "from IPython.display import HTML, SVG, display\n",
    "import genealogical_analysis_workshop\n",
    "\n",
    "workbook = genealogical_analysis_workshop.setup_workbook2()\n",
    "display(HTML(workbook.css))\n",
    "print(\"Your notebook is ready to go\")"
   ]
  },
  {
   "cell_type": "markdown",
   "metadata": {},
   "source": [
    "# Simulating ancestry with msprime\n",
    "\n",
    "We will use `msprime`, a backwards-time tree sequence simulator, to generate genealogical trees with mutations occurring along them. We will simulate genomic data sets using two demographic models: (1) a simple model with a single, panmictic population and (2) a stepping stone model with six populations. `msprime ` can simulate data under more complicated demographic models, but this is not part of this workbook (see the end of this notebook for links and tutorials).\n",
    " \n",
    "### Why do we do simulations in population genetics?\n",
    "\n",
    "**Exploration:**\n",
    "Simulations allow us to explore the influence of various historical scenarios on observed patterns of genetic variation and inheritance.\n",
    "\n",
    "**Benchmarking and evaluating methodologies:**\n",
    "To assess the accuracy of inferential methods, we need test datasets for which the true values of important parameters are known.\n",
    "\n",
    "**Model training:**\n",
    "Some methods for ancestry inference are trained on simulated data (e.g., Approximate Bayesian Computation).\n",
    "This is especially important in studies of complex demographies, where there are many potential parameters and models, making it impractical to specify likelihood functions.\n",
    "\n",
    "### A brief history of msprime\n",
    "\n",
    "The first release of `msprime` was an emulation of the popular `ms` coalescent simulator with added support for tree sequences.\n",
    "However, it has since become an expansive and flexible backwards-in-time simulator for various different models of genetic ancestry and mutation, and even for simplified models of selection.\n",
    "There is a *forwards-time* simulator named `SLiM` which is not covered in this workshop.\n",
    "Furthermore, it is possible to combine *backwards-time* and *forwards-time* simulations from `msprime` and `SLiM`.\n",
    "\n",
    "### Backwards simulation\n",
    "\n",
    "The main characteristic of `msprime` is that is simulates *tree sequences* in *backwards-time*.\n",
    "\n",
    "<img src=\"pics/msprime-1.png\" style=\"display:inline-block\" width=\"190\" height=\"190\">\n",
    "<img src=\"pics/msprime-2.png\" style=\"display:inline-block\" width=\"190\" height=\"190\">\n",
    "<img src=\"pics/msprime-3.png\" style=\"display:inline-block\" width=\"190\" height=\"190\">\n",
    "<img src=\"pics/msprime-4.png\" style=\"display:inline-block\" width=\"190\" height=\"190\">\n",
    "<img src=\"pics/msprime-5.png\" style=\"display:inline-block\" width=\"190\" height=\"190\">"
   ]
  },
  {
   "cell_type": "code",
   "execution_count": null,
   "metadata": {},
   "outputs": [],
   "source": [
    "import random\n",
    "import numpy as np\n",
    "import matplotlib.pyplot as plt\n",
    "import seaborn as sns\n",
    "from IPython.display import SVG\n",
    "\n",
    "import msprime\n",
    "import tskit\n",
    "import tsinfer\n",
    "import tsdate\n",
    "import demesdraw"
   ]
  },
  {
   "cell_type": "markdown",
   "metadata": {},
   "source": [
    "## Basic syntax to simulate a tree sequence\n",
    "\n",
    "To perform simulations using `msprime`, we first simulate a tree sequence without mutations (i.e. the genetic genealogy) using `sim_ancestry()`. If desired, we then add neutral mutations to the tree sequence using `sim_mutations()`."
   ]
  },
  {
   "cell_type": "code",
   "execution_count": null,
   "metadata": {},
   "outputs": [],
   "source": [
    "ts = msprime.sim_ancestry(\n",
    "    samples=2, # two diploid individuals\n",
    "    random_seed=1\n",
    ")\n",
    "SVG(ts.draw_svg())"
   ]
  },
  {
   "cell_type": "code",
   "execution_count": null,
   "metadata": {},
   "outputs": [],
   "source": [
    "ts # note there are no mutations yet"
   ]
  },
  {
   "cell_type": "markdown",
   "metadata": {},
   "source": [
    "## Specifying information about sample genomes\n",
    "Although we have specified 2 samples, our tree sequence contains 4 sample nodes (i.e. sample genomes).\n",
    "This is because the `samples` argument specifies the number of *individuals* in the sample,\n",
    "and by default, `sim_ancestry()` assumes diploid organisms.\n",
    "To change this, use the `ploidy` argument:"
   ]
  },
  {
   "cell_type": "code",
   "execution_count": null,
   "metadata": {},
   "outputs": [],
   "source": [
    "ts = msprime.sim_ancestry(\n",
    "    samples=2,\n",
    "    ploidy=3, # two triploid individuals\n",
    "    random_seed=1\n",
    ")\n",
    "SVG(ts.draw_svg())"
   ]
  },
  {
   "cell_type": "markdown",
   "metadata": {},
   "source": [
    "It's easiest to start thinking about genome lengths in units of nucleotides. By default, we are simulating a sequence length that spans just one of these units.\n",
    "We can specify a larger region using the `sequence_length` argument:"
   ]
  },
  {
   "cell_type": "code",
   "execution_count": null,
   "metadata": {
    "scrolled": true
   },
   "outputs": [],
   "source": [
    "ts = msprime.sim_ancestry(\n",
    "    samples=2,\n",
    "    sequence_length=1e6, # 10 bp long\n",
    "    random_seed=1\n",
    ")\n",
    "SVG(ts.draw_svg())"
   ]
  },
  {
   "cell_type": "markdown",
   "metadata": {},
   "source": [
    "Also, note that our 'tree sequence' consists of just a single tree. This is because we have not yet specified a `recombination_rate`, which is set to 0 by default. \n",
    "This is the probability of a recombination event per genomic unit (base), per generation."
   ]
  },
  {
   "cell_type": "code",
   "execution_count": null,
   "metadata": {},
   "outputs": [],
   "source": [
    "ts = msprime.sim_ancestry(\n",
    "    samples=2,\n",
    "    sequence_length=1e4,\n",
    "    recombination_rate=1e-4, # allow for recombination\n",
    "    random_seed=100\n",
    ")\n",
    "SVG(ts.draw_svg())"
   ]
  },
  {
   "cell_type": "markdown",
   "metadata": {},
   "source": [
    "## Basic population information\n",
    "\n",
    "Finally, we need to say something about the dynamics of the wider population from which our samples have been drawn. The default is to assume a single randomly mating population of fixed size (later we will see how to change this). In a simple model like this, most users will therefore want to specify a `population_size`. Population geneticists sometimes refer to this as $N_e$, or the \"effective population size\" in a panmictic population.\n",
    "\n",
    "<div class=\"alert alert-block alert-info\"><b>Note:</b>\n",
    "The standard <code>msprime</code> model is a theoretical one that allows the population size to be any floating point number greater than 0. In fact, if not specified, the population size in msprime defaults to 1, which sounds biologically impossible, but simply produces a result identical to that of a large population, but with the time units scaled differently.\n",
    "</div>"
   ]
  },
  {
   "cell_type": "code",
   "execution_count": null,
   "metadata": {},
   "outputs": [],
   "source": [
    "ts = msprime.sim_ancestry(\n",
    "    samples=2,\n",
    "    sequence_length=1e4,\n",
    "    recombination_rate=1e-4, # allow for recombination\n",
    "    population_size=20_000, # a rough \"effective population size\" suitable for humans\n",
    "    random_seed=100\n",
    ")\n",
    "SVG(ts.draw_svg())"
   ]
  },
  {
   "cell_type": "markdown",
   "metadata": {},
   "source": [
    "<dl><dt>Exercise 1</dt><dd>Simulate a tree sequence with 20 diploid individuals, each with a 1 Mbp long genome, using a recombination rate of 1e-8 from a population of size 20,000. Run the simulation with a random seed of 2022.</dd></dl>"
   ]
  },
  {
   "cell_type": "code",
   "execution_count": null,
   "metadata": {},
   "outputs": [],
   "source": [
    "# Exercise 1: run a new simulation using msprime.sim_ancestry with specific parameters (random_seed=2022, etc.)\n"
   ]
  },
  {
   "cell_type": "code",
   "execution_count": null,
   "metadata": {},
   "outputs": [],
   "source": [
    "workbook.Q1()"
   ]
  },
  {
   "cell_type": "markdown",
   "metadata": {},
   "source": [
    "## Basic syntax to simulation mutations along the tree sequence\n",
    "\n",
    "Next, to simulate mutations, we apply `sim_mutations()` on an existing `TreeSequence` object.\n",
    "At minimum, you must supply a per-base, per-generation mutation rate."
   ]
  },
  {
   "cell_type": "code",
   "execution_count": null,
   "metadata": {},
   "outputs": [],
   "source": [
    "mts = msprime.sim_mutations(\n",
    "    ts, # generated from the step above\n",
    "    rate=0.10, # mutation rate\n",
    "    random_seed=2\n",
    ")\n",
    "SVG(mts.draw_svg())"
   ]
  },
  {
   "cell_type": "code",
   "execution_count": null,
   "metadata": {},
   "outputs": [],
   "source": [
    "mts # note there are five sites with variation and six mutations"
   ]
  },
  {
   "cell_type": "code",
   "execution_count": null,
   "metadata": {},
   "outputs": [],
   "source": [
    "mts.tables.sites"
   ]
  },
  {
   "cell_type": "code",
   "execution_count": null,
   "metadata": {},
   "outputs": [],
   "source": [
    "mts.tables.mutations"
   ]
  },
  {
   "cell_type": "markdown",
   "metadata": {},
   "source": [
    "Notice that some sites have experienced multiple mutations.\n",
    "To view the sequence information at each successive site, we can use the `variants()` method, which iterates over a ``TreeSequence`` object:"
   ]
  },
  {
   "cell_type": "code",
   "execution_count": null,
   "metadata": {},
   "outputs": [],
   "source": [
    "for var in mts.variants():\n",
    "    print(var.site.position, var.alleles, var.genotypes, sep=\"\\t\")"
   ]
  },
  {
   "cell_type": "markdown",
   "metadata": {},
   "source": [
    "<dl><dt>Exercise 2</dt><dd>Simulate some mutations along the tree sequence generated in Exercise 1 using a mutation rate of 1e-8. Run the simulation using a random seed of 2022.</dd></dl>"
   ]
  },
  {
   "cell_type": "markdown",
   "metadata": {},
   "source": [
    "workbook.Q2()"
   ]
  },
  {
   "cell_type": "markdown",
   "metadata": {},
   "source": [
    "## More complicated simulations\n",
    " - **Recombination rate variation across the genome** We can introduce this by creating a `RateMap` object, which lists recombination rates between defined positions in the sequence.\n",
    "```\n",
    "recomb_rate_map = msprime.RateMap(position=[0, 10, 20], rate=[0.01, 0.1])\n",
    "ts = msprime.sim_ancestry(3, recombination_rate=recomb_rate_map, random_seed=2)\n",
    "SVG(ts.draw_svg())\n",
    "```\n",
    " - **Mutation rate variation across the genome** This can also be introduced using a `RateMap` object, which lists mutation rates between defined position in the sequence.\n",
    "```\n",
    "mutation_rate_map = msprime.RateMap(position=[0, 40, 60, 100], rate=[0.01, 0.1, 0.01])\n",
    "mts = msprime.sim_mutations(ts, rate=mutation_rate_map, random_seed=104)\n",
    "SVG(mts.draw_svg())\n",
    "```\n",
    " - **Mutation models** There are pre-defined models (e.g., Jukes-Cantor). You can also use your own custom models.\n",
    " - **Stacking mutations** Mutations can be simulated on the same tree sequence under different models and/or parameters and/or over different time periods.\n",
    " - **Continuous coordinates** By default, the recombination and mutation events will be assigned to integer locations along the sequence. However, there may be situations where you want to model the genome using continuous coordinates. In this case, use the `discrete_genome=False` argument:\n",
    "```\n",
    "ts = msprime.sim_ancestry(\n",
    "    samples=2,\n",
    "    random_seed=28,\n",
    "    sequence_length=100,\n",
    "    recombination_rate=0.01,\n",
    "    discrete_genome=False\n",
    ")\n",
    "SVG(ts.draw_svg())\n",
    "```\n",
    " - **Gene conversion** See the API documentation for the `gene_conversion_rate` and `gene_conversion_tract_length` arguments, and [this](https://tskit.dev/msprime/docs/stable/ancestry.html?highlight=gene%20conversion#gene-conversion) short tutorial."
   ]
  },
  {
   "cell_type": "markdown",
   "metadata": {},
   "source": [
    "## Simulations under custom demographic models\n",
    "\n",
    "To simulate under more complicated models of demographic history, we need to create a `msprime.Demography` object.\n",
    "\n",
    "`msprime` supports simulation from multiple discrete populations, each of which is initialized via the `add_population()` method.\n",
    "For each population, you can specify a sample size, an effective population size, an exponential growth rate and a name.\n",
    "\n",
    "Let's simulate some data using a stepping stone model with six populations."
   ]
  },
  {
   "cell_type": "code",
   "execution_count": null,
   "metadata": {},
   "outputs": [],
   "source": [
    "deme_size = 1_000 # population size of each deme\n",
    "num_demes = 6\n",
    "num_deme_samples = 5"
   ]
  },
  {
   "cell_type": "code",
   "execution_count": null,
   "metadata": {},
   "outputs": [],
   "source": [
    "demography = msprime.Demography.stepping_stone_model(\n",
    "    [deme_size] * num_demes,\n",
    "    migration_rate=0.01\n",
    ")"
   ]
  },
  {
   "cell_type": "markdown",
   "metadata": {},
   "source": [
    "We can visualise demographic models using `demesdraw`."
   ]
  },
  {
   "cell_type": "code",
   "execution_count": null,
   "metadata": {},
   "outputs": [],
   "source": [
    "graph = msprime.Demography.to_demes(demography) # for visualization only\n",
    "\n",
    "positions = {f\"pop_{i}\": i*deme_size*3 for i in range(num_demes)}\n",
    "\n",
    "fig, ax = plt.subplots() # use plt.rcParams[\"figure.figsize\"]\n",
    "demesdraw.tubes(graph,\n",
    "                ax=ax,\n",
    "                positions=positions,\n",
    "                seed=3)\n",
    "plt.show()"
   ]
  },
  {
   "cell_type": "code",
   "execution_count": null,
   "metadata": {},
   "outputs": [],
   "source": [
    "ts = msprime.sim_ancestry(\n",
    "    {i: num_deme_samples for i in range(num_demes)},\n",
    "    sequence_length=1e6, # 1 Mbp\n",
    "    demography=demography,\n",
    "    recombination_rate=1e-8, # human-like recombination rate\n",
    "    random_seed=3,\n",
    ")\n",
    "\n",
    "ts = msprime.sim_mutations(\n",
    "    ts,\n",
    "    rate=1e-8, # human-like mutation rate\n",
    "    random_seed=3\n",
    ")"
   ]
  },
  {
   "cell_type": "markdown",
   "metadata": {},
   "source": [
    "Let's check the Fst statistics between the populations."
   ]
  },
  {
   "cell_type": "code",
   "execution_count": null,
   "metadata": {},
   "outputs": [],
   "source": [
    "Fst_01 = ts.Fst(\n",
    "    [\n",
    "        ts.samples(0), # pop_0\n",
    "        ts.samples(1)  # pop_1\n",
    "    ],\n",
    "    mode=\"branch\"\n",
    ")\n",
    "\n",
    "Fst_05 = ts.Fst(\n",
    "    [\n",
    "        ts.samples(0), # pop_0\n",
    "        ts.samples(5)  # pop_5\n",
    "    ],\n",
    "    mode=\"branch\"\n",
    ")\n",
    "\n",
    "print(f\"Fst between pop_0 and pop_1 = {Fst_01}\")\n",
    "print(f\"Fst between pop_0 and pop_5 = {Fst_05}\")"
   ]
  },
  {
   "cell_type": "markdown",
   "metadata": {},
   "source": [
    "<dl><dt>Exercise 3</dt><dd>Get the Fst between population 0 and all the other populations.</dd></dl>"
   ]
  },
  {
   "cell_type": "markdown",
   "metadata": {},
   "source": [
    "<dl><dt>Question 3</dt><dd>What is the Fst between population 0 and population 3?</dd></dl>"
   ]
  },
  {
   "cell_type": "code",
   "execution_count": null,
   "metadata": {},
   "outputs": [],
   "source": [
    "sample_data = tsinfer.SampleData.from_tree_sequence(ts)\n",
    "\n",
    "inferred_ts = tsinfer.infer(sample_data)\n",
    "\n",
    "dated_ts = tsdate.date(\n",
    "    tsdate.preprocess_ts(inferred_ts),\n",
    "    mutation_rate=1e-8,\n",
    "    Ne=6_000,\n",
    "    ignore_oldest_root=True\n",
    ")"
   ]
  },
  {
   "cell_type": "markdown",
   "metadata": {},
   "source": [
    "Note that branch-wise statistics differ noticeably between the *simulated* tree sequence and the *inferred* and *dated* tree sequences. This is because the branch lengths in the tree sequence derived straight from `tsinfer` are not meaningful. Branch lengths need to be estimated using `tsdate`."
   ]
  },
  {
   "cell_type": "code",
   "execution_count": null,
   "metadata": {},
   "outputs": [],
   "source": [
    "# Perform site-wise calculations.\n",
    "Fst_true_ts = ts.Fst([ts.samples(0), ts.samples(5)])\n",
    "Fst_inferred_ts = inferred_ts.Fst([inferred_ts.samples(0), inferred_ts.samples(5)]) # topology only\n",
    "Fst_dated_ts = dated_ts.Fst([dated_ts.samples(0), dated_ts.samples(5)])\n",
    "\n",
    "# Perform branch-wise calculations.\n",
    "Fst_branch_true_ts = ts.Fst([ts.samples(0), ts.samples(5)], mode=\"branch\")\n",
    "Fst_branch_inferred_ts = inferred_ts.Fst([inferred_ts.samples(0), inferred_ts.samples(5)], mode=\"branch\")\n",
    "Fst_branch_dated_ts = dated_ts.Fst([dated_ts.samples(0), dated_ts.samples(5)], mode=\"branch\")\n",
    "\n",
    "print(\n",
    "    \"Site-wise calculations:\",\n",
    "    f\"Fst (true     ts) = {Fst_true_ts}\",\n",
    "    f\"Fst (inferred ts) = {Fst_inferred_ts}\",\n",
    "    f\"Fst (dated    ts) = {Fst_dated_ts}\",\n",
    "    sep=\"\\n\",\n",
    ")\n",
    "\n",
    "print(\"\\n\")\n",
    "\n",
    "print(\n",
    "    \"Branch-wise calculations:\",\n",
    "    f\"Fst (true     ts) = {Fst_branch_true_ts}\",\n",
    "    f\"Fst (inferred ts) = {Fst_branch_inferred_ts}\",\n",
    "    f\"Fst (dated    ts) = {Fst_branch_dated_ts}\",\n",
    "    sep=\"\\n\",\n",
    ")"
   ]
  },
  {
   "cell_type": "code",
   "execution_count": null,
   "metadata": {},
   "outputs": [],
   "source": [
    "# Perform site-wise calculations.\n",
    "div_true_ts = ts.divergence([ts.samples(0), ts.samples(5)])\n",
    "div_inferred_ts = inferred_ts.divergence([inferred_ts.samples(0), inferred_ts.samples(5)])\n",
    "div_dated_ts = dated_ts.divergence([dated_ts.samples(0), dated_ts.samples(5)])\n",
    "\n",
    "# Perform branch-wise calculations.\n",
    "div_branch_true_ts = ts.divergence([ts.samples(0), ts.samples(5)], mode=\"branch\")\n",
    "div_branch_inferred_ts = inferred_ts.divergence([inferred_ts.samples(0), inferred_ts.samples(5)], mode=\"branch\")\n",
    "div_branch_dated_ts = dated_ts.divergence([dated_ts.samples(0), dated_ts.samples(5)], mode=\"branch\")\n",
    "\n",
    "print(\n",
    "    \"Site-wise calculations:\",\n",
    "    f\"divergence (true     ts) = {div_true_ts}\",\n",
    "    f\"divergence (inferred ts) = {div_inferred_ts}\",\n",
    "    f\"divergence (dated    ts) = {div_dated_ts}\",\n",
    "    sep=\"\\n\",\n",
    ")\n",
    "\n",
    "print(\"\\n\")\n",
    "\n",
    "print(\n",
    "    \"Branch-wise calculations:\",\n",
    "    f\"divergence (true     ts) = {div_branch_true_ts}\",\n",
    "    f\"divergence (inferred ts) = {div_branch_inferred_ts}\",\n",
    "    f\"divergence (dated    ts) = {div_branch_dated_ts}\",\n",
    "    sep=\"\\n\",\n",
    ")"
   ]
  },
  {
   "cell_type": "code",
   "execution_count": null,
   "metadata": {},
   "outputs": [],
   "source": [
    "gnn_heatmap = np.array([\n",
    "    np.mean(\n",
    "        ts.genealogical_nearest_neighbours(\n",
    "            ts.samples(i),\n",
    "            [ts.samples(j) for j in range(num_demes)]),\n",
    "        axis=0,\n",
    "    )\n",
    "    for i in range(num_demes)\n",
    "])\n",
    "\n",
    "sns.clustermap(gnn_heatmap);"
   ]
  },
  {
   "cell_type": "markdown",
   "metadata": {},
   "source": [
    "## Running the same simulation many times"
   ]
  },
  {
   "cell_type": "markdown",
   "metadata": {},
   "source": [
    "Variation among simulated genetic genealogies means that there is variation in branch-wise statistics among the genealogies as well. To see this, we need a bunch of simuation replicates. The `num_replicates` argument in `sim_ancestry()` offers a convenient way to run many simulations under the same model."
   ]
  },
  {
   "cell_type": "code",
   "execution_count": null,
   "metadata": {},
   "outputs": [],
   "source": [
    "Fst_values = []\n",
    "\n",
    "for ts in msprime.sim_ancestry(\n",
    "    {i: num_deme_samples for i in range(num_demes)},\n",
    "    sequence_length=1e6,\n",
    "    demography=demography,\n",
    "    recombination_rate=1e-8,\n",
    "    random_seed=1234,\n",
    "    num_replicates=100\n",
    "):\n",
    "    Fst = ts.Fst([ts.samples(0), ts.samples(5)], mode=\"branch\")\n",
    "    Fst_values.append(Fst)"
   ]
  },
  {
   "cell_type": "markdown",
   "metadata": {},
   "source": [
    "<dl><dt>Question 4</dt><dd>What is the mean Fst across the simulated genetic genealogies?</dd></dl>"
   ]
  },
  {
   "cell_type": "markdown",
   "metadata": {},
   "source": [
    "## More complicated demographic models\n",
    " - Varying population size.\n",
    " - Population structure (multiple demes with different migration rates).\n",
    " - Migration (constant or varying migration rates).\n",
    " - Admixture.\n",
    " - Population divergence."
   ]
  },
  {
   "cell_type": "markdown",
   "metadata": {},
   "source": [
    "## Other topics of interest\n",
    " - Forward simulations using `SLiM` (and recapitation).\n",
    " - Community-validated demographic models (`stdpopsim`).\n",
    " - Combining demographic models.\n",
    " - Simple selective sweeps.\n",
    " - Debugging demographic models.\n",
    " \n",
    "## Some relevant papers and resources\n",
    " -  [Efficient coalescent simulation and genealogical analysis for large sample sizes](https://doi.org/10.1371/journal.pcbi.1004842)\n",
    " - [Efficient ancestry and mutation simulation with msprime 1.0](https://doi.org/10.1093/genetics/iyab229)\n",
    " - [tskit.dev documentation](https://tskit.dev/)\n",
    " - [Georgia Tsambos' Jupyter notebooks](https://github.com/gtsambos/2022-ts-workshops)"
   ]
  }
 ],
 "metadata": {
  "kernelspec": {
   "display_name": "Python 3",
   "language": "python",
   "name": "python3"
  },
  "language_info": {
   "codemirror_mode": {
    "name": "ipython",
    "version": 3
   },
   "file_extension": ".py",
   "mimetype": "text/x-python",
   "name": "python",
   "nbconvert_exporter": "python",
   "pygments_lexer": "ipython3",
   "version": "3.9.1"
  }
 },
 "nbformat": 4,
 "nbformat_minor": 2
}
