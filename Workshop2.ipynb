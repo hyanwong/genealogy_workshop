{
 "cells": [
  {
   "cell_type": "code",
   "execution_count": null,
   "metadata": {},
   "outputs": [],
   "source": [
    "# Please execute this cell (shift+<Return>) before starting the workbook\n",
    "# this should print out \"Your notebook is ready to go\"\n",
    "from IPython.display import HTML, SVG, display\n",
    "import genealogical_analysis_workshop\n",
    "\n",
    "workbook = genealogical_analysis_workshop.setup_workbook2()\n",
    "display(HTML(workbook.css))\n",
    "print(\"Your notebook is ready to go\")"
   ]
  },
  {
   "cell_type": "markdown",
   "metadata": {},
   "source": [
    "# Simulating ancestry with msprime\n",
    "\n",
    "We will use `msprime`, a backwards-time tree sequence simulator, to generate genealogical trees with mutations occurring along them. We will simulate genomic data sets using two demographic models: (1) a simple model with a single, panmictic population and (2) a stepping stone model with six populations. `msprime ` can simulate data under more complicated demographic models, but this is not part of this workbook (see the end of this notebook for links and tutorials).\n",
    " \n",
    "### Why do we do simulations in population genetics?\n",
    "\n",
    "**Exploration:**\n",
    "Simulations allow us to explore the influence of various historical scenarios on observed patterns of genetic variation and inheritance.\n",
    "\n",
    "**Benchmarking and evaluating methodologies:**\n",
    "To assess the accuracy of inferential methods, we need test datasets for which the true values of important parameters are known.\n",
    "\n",
    "**Model training:**\n",
    "Some methods for ancestry inference are trained on simulated data (e.g., Approximate Bayesian Computation).\n",
    "This is especially important in studies of complex demographies, where there are many potential parameters and models, making it impractical to specify likelihood functions.\n",
    "\n",
    "### A brief history of msprime\n",
    "\n",
    "The first release of `msprime` was an emulation of the popular `ms` coalescent simulator with added support for tree sequences.\n",
    "However, it has since become an expansive and flexible backwards-in-time simulator for various different models of genetic ancestry and mutation, and even for simplified models of selection.\n",
    "There is a *forwards-time* simulator named `SLiM` which is not covered in this workshop.\n",
    "Furthermore, it is possible to combine *backwards-time* and *forwards-time* simulations from `msprime` and `SLiM`.\n",
    "\n",
    "### Backwards simulation\n",
    "\n",
    "The main characteristic of `msprime` is that is simulates *tree sequences* in *backwards-time*.\n",
    "\n",
    "<img src=\"pics/msprime-1.png\" style=\"display:inline-block\" width=\"190\" height=\"190\">\n",
    "<img src=\"pics/msprime-2.png\" style=\"display:inline-block\" width=\"190\" height=\"190\">\n",
    "<img src=\"pics/msprime-3.png\" style=\"display:inline-block\" width=\"190\" height=\"190\">\n",
    "<img src=\"pics/msprime-4.png\" style=\"display:inline-block\" width=\"190\" height=\"190\">\n",
    "<img src=\"pics/msprime-5.png\" style=\"display:inline-block\" width=\"190\" height=\"190\">"
   ]
  },
  {
   "cell_type": "code",
   "execution_count": null,
   "metadata": {},
   "outputs": [],
   "source": [
    "import random\n",
    "import numpy as np\n",
    "import matplotlib.pyplot as plt\n",
    "import seaborn as sns\n",
    "from IPython.display import SVG\n",
    "\n",
    "import msprime\n",
    "import tskit\n",
    "import tsinfer\n",
    "import tsdate\n",
    "import demesdraw"
   ]
  },
  {
   "cell_type": "markdown",
   "metadata": {},
   "source": [
    "## Basic syntax to simulate a tree sequence\n",
    "\n",
    "To perform simulations using `msprime`, we first simulate a tree sequence without mutations (i.e. the genetic genealogy) using `sim_ancestry()`. If desired, we then add neutral mutations to the tree sequence using `sim_mutations()`."
   ]
  },
  {
   "cell_type": "code",
   "execution_count": null,
   "metadata": {},
   "outputs": [],
   "source": [
    "ts = msprime.sim_ancestry(\n",
    "    samples=2, # two diploid individuals\n",
    "    random_seed=1\n",
    ")\n",
    "SVG(ts.draw_svg())"
   ]
  },
  {
   "cell_type": "code",
   "execution_count": null,
   "metadata": {},
   "outputs": [],
   "source": [
    "ts # note there are no mutations yet"
   ]
  },
  {
   "cell_type": "markdown",
   "metadata": {},
   "source": [
    "## Specifying information about sample genomes\n",
    "Although we have specified 2 samples, our tree sequence contains 4 sample nodes (i.e. sample genomes).\n",
    "This is because the `samples` argument specifies the number of *individuals* in the sample,\n",
    "and by default, `sim_ancestry()` assumes diploid organisms.\n",
    "To change this, use the `ploidy` argument:"
   ]
  },
  {
   "cell_type": "code",
   "execution_count": null,
   "metadata": {},
   "outputs": [],
   "source": [
    "ts = msprime.sim_ancestry(\n",
    "    samples=2,\n",
    "    ploidy=3, # two triploid individuals\n",
    "    random_seed=1\n",
    ")\n",
    "SVG(ts.draw_svg())"
   ]
  },
  {
   "cell_type": "markdown",
   "metadata": {},
   "source": [
    "It's easiest to start thinking about genome lengths in units of nucleotides. By default, we are simulating a sequence length that spans just one of these units.\n",
    "We can specify a larger region using the `sequence_length` argument:"
   ]
  },
  {
   "cell_type": "code",
   "execution_count": null,
   "metadata": {
    "scrolled": true
   },
   "outputs": [],
   "source": [
    "ts = msprime.sim_ancestry(\n",
    "    samples=2,\n",
    "    sequence_length=1e4, # 10 Kb\n",
    "    random_seed=1\n",
    ")\n",
    "SVG(ts.draw_svg())"
   ]
  },
  {
   "cell_type": "markdown",
   "metadata": {},
   "source": [
    "Also, note that our 'tree sequence' consists of just a single tree. This is because we have not yet specified a `recombination_rate`, which is set to 0 by default. \n",
    "This is the probability of a recombination event per genomic unit (base), per generation."
   ]
  },
  {
   "cell_type": "code",
   "execution_count": null,
   "metadata": {},
   "outputs": [],
   "source": [
    "ts = msprime.sim_ancestry(\n",
    "    samples=2,\n",
    "    sequence_length=1e4,\n",
    "    recombination_rate=1e-5, # allow for recombination: this is quite a high rate\n",
    "    random_seed=100\n",
    ")\n",
    "SVG(ts.draw_svg())"
   ]
  },
  {
   "cell_type": "markdown",
   "metadata": {},
   "source": [
    "## Basic population information\n",
    "\n",
    "Finally, we need to say something about the dynamics of the wider population from which our samples have been drawn. The default is to assume a single randomly mating population of fixed size (later we will see how to change this). In a simple model like this, most users will therefore want to specify a `population_size`. Population geneticists sometimes refer to this as $N_e$, or the \"effective population size\" in a panmictic population.\n",
    "\n",
    "<div class=\"alert alert-block alert-info\"><b>Note:</b>\n",
    "The standard <code>msprime</code> model is a theoretical one that allows the population size to be any floating point number greater than 0. In fact, if not specified, the population size in msprime defaults to 1, which sounds biologically impossible, but simply produces a result identical to that of a large population, but with the time units scaled differently.\n",
    "</div>"
   ]
  },
  {
   "cell_type": "code",
   "execution_count": null,
   "metadata": {},
   "outputs": [],
   "source": [
    "ts_small = msprime.sim_ancestry(\n",
    "    samples=2,\n",
    "    sequence_length=1e3, # small 1Kb region\n",
    "    recombination_rate=1e-8, # small recombination rate\n",
    "    population_size=20_000, # a rough \"effective population size\" suitable for humans\n",
    "    random_seed=107\n",
    ")\n",
    "ts_small  # display summary to screen"
   ]
  },
  {
   "cell_type": "code",
   "execution_count": null,
   "metadata": {},
   "outputs": [],
   "source": [
    "display(SVG(ts_small.draw_svg()))"
   ]
  },
  {
   "cell_type": "markdown",
   "metadata": {},
   "source": [
    "<dl><dt>Exercise 1</dt><dd>To illustate the speed of <code>msprime</code>, simulate a large tree sequence of 20,000 diploid individuals, each with a 1 Mbp long genome, using a recombination rate of 1e-8 from a population of size 20,000. Run the simulation with a random seed of 2022,  save it to the variable `ts`, and output the summary table on the screen.\n",
    "<div class=\"alert alert-block alert-info\"><b>Tip:</b>\n",
    "    Make sure you DON'T display the SVG trees! Each tree is huge, and there are a lot of them.</div></dd></dl>"
   ]
  },
  {
   "cell_type": "code",
   "execution_count": null,
   "metadata": {},
   "outputs": [],
   "source": [
    "# Exercise 1: set `ts` to a new large tree sequence, generated using msprime.sim_ancestry() with\n",
    "# specific parameters (random_seed=2022, etc.), then output the tree sequence summary table to screen\n"
   ]
  },
  {
   "cell_type": "code",
   "execution_count": null,
   "metadata": {},
   "outputs": [],
   "source": [
    "workbook.Q3()"
   ]
  },
  {
   "cell_type": "markdown",
   "metadata": {},
   "source": [
    "## Basic syntax to simulation mutations along the tree sequence\n",
    "\n",
    "Next, to generate genetic variation, we add mutations by applying `sim_mutations()` to the existing `TreeSequence` object. At minimum, you must supply a per-base, per-generation mutation rate."
   ]
  },
  {
   "cell_type": "code",
   "execution_count": null,
   "metadata": {},
   "outputs": [],
   "source": [
    "mts_small = msprime.sim_mutations(\n",
    "    ts_small, # Use the small tree sequence so that we can plot it easily\n",
    "    rate=2e-7, # Set an unusually high mutation rate per generation per base pair\n",
    "    random_seed=103\n",
    ")\n",
    "SVG(mts_small.draw_svg())"
   ]
  },
  {
   "cell_type": "code",
   "execution_count": null,
   "metadata": {},
   "outputs": [],
   "source": [
    "mts_small # note there are 10 sites with variation but 11 mutations"
   ]
  },
  {
   "cell_type": "markdown",
   "metadata": {},
   "source": [
    "<dl><dt>Exercise 2</dt><dd>Print out the sites and mutations tables for the <code>mts_small</code> tree sequence</dd></dl>"
   ]
  },
  {
   "cell_type": "code",
   "execution_count": null,
   "metadata": {},
   "outputs": [],
   "source": [
    "# Exercise 2: print out the sites and mutations tables. Notice that one site has experienced multiple mutations.\n"
   ]
  },
  {
   "cell_type": "code",
   "execution_count": null,
   "metadata": {},
   "outputs": [],
   "source": [
    "workbook.Q2()\n"
   ]
  },
  {
   "cell_type": "markdown",
   "metadata": {},
   "source": [
    "Adding mutations to a tree sequence is usually very fast, and the resulting tree sequence is a highly efficient way of storing genomic data. For instance, adding 10,000 sites to the large tree sequence you simulated in Exercise 1 should take less than a second, and corresponds to a storing a sites-by-samples matrix of 40,000 by 10,000 vlaues (i.e. 400 million genotypes). In tree sequence format, this only takes up about 8Mb of space. The equivalent VCF would be thousands or tens of thousands of times larger."
   ]
  },
  {
   "cell_type": "markdown",
   "metadata": {},
   "source": [
    "<dl><dt>Exercise 3</dt><dd>Add mutations to the large tree sequence generated in Exercise 1 using a mutation rate of 1e-8. Run the simulation using a random seed of 2022.</dd></dl>"
   ]
  },
  {
   "cell_type": "code",
   "execution_count": null,
   "metadata": {},
   "outputs": [],
   "source": [
    "workbook.Q3()"
   ]
  },
  {
   "cell_type": "markdown",
   "metadata": {},
   "source": [
    "## More complicated simulations\n",
    " - **Recombination rate variation across the genome** We can introduce this by creating a `RateMap` object, which lists recombination rates between defined positions in the sequence.\n",
    "```\n",
    "recomb_rate_map = msprime.RateMap(position=[0, 10, 20], rate=[0.01, 0.1])\n",
    "ts = msprime.sim_ancestry(3, recombination_rate=recomb_rate_map, random_seed=2)\n",
    "SVG(ts.draw_svg())\n",
    "```\n",
    " - **Mutation rate variation across the genome** This can also be introduced using a `RateMap` object, which lists mutation rates between defined position in the sequence.\n",
    "```\n",
    "mutation_rate_map = msprime.RateMap(position=[0, 40, 60, 100], rate=[0.01, 0.1, 0.01])\n",
    "mts = msprime.sim_mutations(ts, rate=mutation_rate_map, random_seed=104)\n",
    "SVG(mts.draw_svg())\n",
    "```\n",
    " - **Mutation models** There are pre-defined models (e.g., Jukes-Cantor). You can also use your own custom models.\n",
    " - **Stacking mutations** Mutations can be simulated on the same tree sequence under different models and/or parameters and/or over different time periods.\n",
    " - **Continuous coordinates** By default, the recombination and mutation events will be assigned to integer locations along the sequence. However, there may be situations where you want to model the genome using continuous coordinates. In this case, use the `discrete_genome=False` argument:\n",
    "```\n",
    "ts = msprime.sim_ancestry(\n",
    "    samples=2,\n",
    "    random_seed=28,\n",
    "    sequence_length=100,\n",
    "    recombination_rate=0.01,\n",
    "    discrete_genome=False\n",
    ")\n",
    "SVG(ts.draw_svg())\n",
    "```\n",
    " - **Gene conversion** See the API documentation for the `gene_conversion_rate` and `gene_conversion_tract_length` arguments, and [this](https://tskit.dev/msprime/docs/stable/ancestry.html?highlight=gene%20conversion#gene-conversion) short tutorial."
   ]
  },
  {
   "cell_type": "markdown",
   "metadata": {},
   "source": [
    "## Simulations under custom demographic models\n",
    "\n",
    "To simulate under more complicated models of demographic history, we need to create a `msprime.Demography` object.\n",
    "\n",
    "`Msprime` supports simulation from multiple discrete populations, sometime called \"demes\". It provides a number of [built in theoretical models](https://tskit.dev/msprime/docs/stable/demography.html#quick-reference), and a [library of community-validated demographic models](https://elifesciences.org/articles/54967) for a number of common species, including humans, is available in the [stdpopsim](https://popsim-consortium.github.io/stdpopsim-docs/stable/tutorial.html#running-stdpopsim-with-the-python-interface-api) package. Alternatively you can create your own bespoke model, or modify an existing one, by adding populations to a demography using the `.add_population()` method of the demography object (for each population, you can specify a name, a sample size, an effective population size, and a growth rate to allow population size to change over time).\n",
    "\n",
    "Let's simulate some data using the built-in stepping stone model, specifying seven populations. First we create the demography object:"
   ]
  },
  {
   "cell_type": "code",
   "execution_count": null,
   "metadata": {},
   "outputs": [],
   "source": [
    "deme_size = 1_000 # population size of each deme\n",
    "num_demes = 9\n",
    "num_deme_samples = 5\n",
    "\n",
    "demography = msprime.Demography.stepping_stone_model(\n",
    "    [deme_size] * num_demes,\n",
    "    migration_rate=0.001\n",
    ")"
   ]
  },
  {
   "cell_type": "markdown",
   "metadata": {},
   "source": [
    "To visualise this, the easiest thing is to convert it to the `demes` format, which we can then draw using the rather nifty `demesdraw` package. This plots the population size (on the x-axis) against time (on the y-axis)"
   ]
  },
  {
   "cell_type": "code",
   "execution_count": null,
   "metadata": {},
   "outputs": [],
   "source": [
    "graph = msprime.Demography.to_demes(demography) # for visualization only\n",
    "\n",
    "positions = {f\"pop_{i}\": i * deme_size * 3 for i in range(num_demes)}\n",
    "\n",
    "fig, ax = plt.subplots() # use plt.rcParams[\"figure.figsize\"]\n",
    "demesdraw.tubes(graph,\n",
    "                ax=ax,\n",
    "                positions=positions,\n",
    "                seed=3)\n",
    "plt.show()"
   ]
  },
  {
   "cell_type": "markdown",
   "metadata": {},
   "source": [
    "Since all 9 populations are of constant size, they appear as fixed width \"tubes\" through time. You can see that each has a small amount of migration (arrows) from each population to the two adjacent ones. Here's how to actually simulate this demographic setup.\n",
    "<div class=\"alert alert-block alert-info\"><b>Note:</b>\n",
    "    If you look carefully at the coloured arrows, you will see that the first and last population can migrate between each other, so the populations can actually be thought of as lying on a circle. The furthest population from <code>pop_0</code> is therefore <code>pop_4</code>.</div>"
   ]
  },
  {
   "cell_type": "code",
   "execution_count": null,
   "metadata": {},
   "outputs": [],
   "source": [
    "ts = msprime.sim_ancestry(\n",
    "    {population_id: num_deme_samples for population_id in range(num_demes)},\n",
    "    sequence_length=1e6, # 1 Mbp\n",
    "    demography=demography,\n",
    "    recombination_rate=1e-8, # human-like recombination rate\n",
    "    random_seed=3,\n",
    ")\n",
    "\n",
    "ts = msprime.sim_mutations(\n",
    "    ts,\n",
    "    rate=1e-8, # human-like mutation rate\n",
    "    random_seed=3\n",
    ")\n",
    "ts # display it to screen: it should have 6 populations"
   ]
  },
  {
   "cell_type": "markdown",
   "metadata": {},
   "source": [
    "Let's check the Fst statistics between (say) populations 0 and 1"
   ]
  },
  {
   "cell_type": "code",
   "execution_count": null,
   "metadata": {},
   "outputs": [],
   "source": [
    "pop_0_sample_ids = ts.samples(population=0)\n",
    "pop_1_sample_ids = ts.samples(population=1)\n",
    "\n",
    "print(\n",
    "    \"Fst from variable sites:\",\n",
    "    ts.Fst([pop_0_sample_ids, pop_1_sample_ids]),\n",
    "    \"\\nFst from genealogical branch lengths:\",\n",
    "    ts.Fst([pop_0_sample_ids, pop_1_sample_ids], mode=\"branch\")\n",
    ")"
   ]
  },
  {
   "cell_type": "markdown",
   "metadata": {},
   "source": [
    "<dl><dt>Exercise 4</dt><dd>Using a <code>for</code> loop, print out the standard site-based Fst values between samples in population 0 and samples from each of the other 8 populations in turn.</dd></dl>"
   ]
  },
  {
   "cell_type": "code",
   "execution_count": null,
   "metadata": {},
   "outputs": [],
   "source": [
    "workbook.Q4()"
   ]
  },
  {
   "cell_type": "markdown",
   "metadata": {},
   "source": [
    "## Running the same simulation many times\n",
    "Variation among simulated genetic genealogies means that there is variation in branch-wise statistics among the genealogies as well. To see this, we need a bunch of simuation replicates. The `num_replicates` argument in `sim_ancestry()` offers a convenient way to run many simulations under the same model. Here we calculate the Fst between two adjacent populations in our stepping stone model:"
   ]
  },
  {
   "cell_type": "code",
   "execution_count": null,
   "metadata": {},
   "outputs": [],
   "source": [
    "Fst_vals = []\n",
    "\n",
    "for ts in msprime.sim_ancestry(\n",
    "    {i: num_deme_samples for i in range(num_demes)},\n",
    "    sequence_length=1e6,\n",
    "    demography=demography,\n",
    "    recombination_rate=1e-8,\n",
    "    random_seed=1234,\n",
    "    num_replicates=100\n",
    "):\n",
    "    Fst = ts.Fst([ts.samples(0), ts.samples(1)], mode=\"branch\")\n",
    "    Fst_vals.append(float(Fst))  # for convenience, convert the numpy array returned by ts.Fst to a standard number"
   ]
  },
  {
   "cell_type": "markdown",
   "metadata": {},
   "source": [
    "<dl><dt>Exercise 5</dt><dd>Use <code>plt.hist()</code> to plot the histogram of Fst values, and <code>np.mean()</code> to print out the mean</dd></dl>"
   ]
  },
  {
   "cell_type": "code",
   "execution_count": null,
   "metadata": {},
   "outputs": [],
   "source": [
    "# Exercise 5: plot a histogram of Fst values: \n"
   ]
  },
  {
   "cell_type": "code",
   "execution_count": null,
   "metadata": {},
   "outputs": [],
   "source": [
    "workbook.Q5()"
   ]
  },
  {
   "cell_type": "markdown",
   "metadata": {},
   "source": [
    "## More complicated demographic models\n",
    " - Varying population size.\n",
    " - Population structure (multiple demes with different migration rates).\n",
    " - Migration (constant or varying migration rates).\n",
    " - Admixture.\n",
    " - Population divergence.\n",
    "\n",
    "## Other topics of interest\n",
    " - Forward simulations using `SLiM` (and recapitation).\n",
    " - Community-validated demographic models (`stdpopsim`).\n",
    " - Combining demographic models.\n",
    " - Simple selective sweeps.\n",
    " - Debugging demographic models."
   ]
  },
  {
   "cell_type": "markdown",
   "metadata": {},
   "source": [
    "# Inference using `tsinfer` and `tsdate`"
   ]
  },
  {
   "cell_type": "code",
   "execution_count": null,
   "metadata": {},
   "outputs": [],
   "source": [
    "sample_data = tsinfer.SampleData.from_tree_sequence(ts)\n",
    "\n",
    "inferred_ts = tsinfer.infer(sample_data)\n",
    "\n",
    "dated_ts = tsdate.date(\n",
    "    tsdate.preprocess_ts(inferred_ts),\n",
    "    mutation_rate=1e-8,\n",
    "    Ne=6_000,\n",
    "    ignore_oldest_root=True\n",
    ")"
   ]
  },
  {
   "cell_type": "markdown",
   "metadata": {},
   "source": [
    "Note that branch-wise statistics differ noticeably between the *simulated* tree sequence and the *inferred* and *dated* tree sequences. This is because the branch lengths in the tree sequence derived straight from `tsinfer` are not meaningful. Branch lengths need to be estimated using `tsdate`."
   ]
  },
  {
   "cell_type": "code",
   "execution_count": null,
   "metadata": {},
   "outputs": [],
   "source": [
    "# Perform site-wise calculations.\n",
    "Fst_true_ts = ts.Fst([ts.samples(0), ts.samples(5)])\n",
    "Fst_inferred_ts = inferred_ts.Fst([inferred_ts.samples(0), inferred_ts.samples(5)]) # topology only\n",
    "Fst_dated_ts = dated_ts.Fst([dated_ts.samples(0), dated_ts.samples(5)])\n",
    "\n",
    "# Perform branch-wise calculations.\n",
    "Fst_branch_true_ts = ts.Fst([ts.samples(0), ts.samples(5)], mode=\"branch\")\n",
    "Fst_branch_inferred_ts = inferred_ts.Fst([inferred_ts.samples(0), inferred_ts.samples(5)], mode=\"branch\")\n",
    "Fst_branch_dated_ts = dated_ts.Fst([dated_ts.samples(0), dated_ts.samples(5)], mode=\"branch\")\n",
    "\n",
    "print(\n",
    "    \"Site-wise calculations:\",\n",
    "    f\"Fst (true     ts) = {Fst_true_ts}\",\n",
    "    f\"Fst (inferred ts) = {Fst_inferred_ts}\",\n",
    "    f\"Fst (dated    ts) = {Fst_dated_ts}\",\n",
    "    sep=\"\\n\",\n",
    ")\n",
    "\n",
    "print(\"\\n\")\n",
    "\n",
    "print(\n",
    "    \"Branch-wise calculations:\",\n",
    "    f\"Fst (true     ts) = {Fst_branch_true_ts}\",\n",
    "    f\"Fst (inferred ts) = {Fst_branch_inferred_ts}\",\n",
    "    f\"Fst (dated    ts) = {Fst_branch_dated_ts}\",\n",
    "    sep=\"\\n\",\n",
    ")"
   ]
  },
  {
   "cell_type": "code",
   "execution_count": null,
   "metadata": {},
   "outputs": [],
   "source": [
    "# Perform site-wise calculations.\n",
    "div_true_ts = ts.divergence([ts.samples(0), ts.samples(5)])\n",
    "div_inferred_ts = inferred_ts.divergence([inferred_ts.samples(0), inferred_ts.samples(5)])\n",
    "div_dated_ts = dated_ts.divergence([dated_ts.samples(0), dated_ts.samples(5)])\n",
    "\n",
    "# Perform branch-wise calculations.\n",
    "div_branch_true_ts = ts.divergence([ts.samples(0), ts.samples(5)], mode=\"branch\")\n",
    "div_branch_inferred_ts = inferred_ts.divergence([inferred_ts.samples(0), inferred_ts.samples(5)], mode=\"branch\")\n",
    "div_branch_dated_ts = dated_ts.divergence([dated_ts.samples(0), dated_ts.samples(5)], mode=\"branch\")\n",
    "\n",
    "print(\n",
    "    \"Site-wise calculations:\",\n",
    "    f\"divergence (true     ts) = {div_true_ts}\",\n",
    "    f\"divergence (inferred ts) = {div_inferred_ts}\",\n",
    "    f\"divergence (dated    ts) = {div_dated_ts}\",\n",
    "    sep=\"\\n\",\n",
    ")\n",
    "\n",
    "print(\"\\n\")\n",
    "\n",
    "print(\n",
    "    \"Branch-wise calculations:\",\n",
    "    f\"divergence (true     ts) = {div_branch_true_ts}\",\n",
    "    f\"divergence (inferred ts) = {div_branch_inferred_ts}\",\n",
    "    f\"divergence (dated    ts) = {div_branch_dated_ts}\",\n",
    "    sep=\"\\n\",\n",
    ")"
   ]
  },
  {
   "cell_type": "code",
   "execution_count": null,
   "metadata": {},
   "outputs": [],
   "source": [
    "gnn_heatmap = np.array([\n",
    "    np.mean(\n",
    "        ts.genealogical_nearest_neighbours(\n",
    "            ts.samples(i),\n",
    "            [ts.samples(j) for j in range(num_demes)]),\n",
    "        axis=0,\n",
    "    )\n",
    "    for i in range(num_demes)\n",
    "])\n",
    "\n",
    "sns.clustermap(gnn_heatmap);"
   ]
  },
  {
   "cell_type": "markdown",
   "metadata": {},
   "source": [
    "NB: should note here that the dendrogram to the side can be misleading, e.g. in this case it isn't a tree because the populations are on a torus."
   ]
  },
  {
   "cell_type": "markdown",
   "metadata": {},
   "source": []
  },
  {
   "cell_type": "markdown",
   "metadata": {},
   "source": []
  },
  {
   "cell_type": "code",
   "execution_count": null,
   "metadata": {},
   "outputs": [],
   "source": []
  },
  {
   "cell_type": "markdown",
   "metadata": {},
   "source": []
  },
  {
   "cell_type": "code",
   "execution_count": null,
   "metadata": {},
   "outputs": [],
   "source": []
  },
  {
   "cell_type": "code",
   "execution_count": null,
   "metadata": {},
   "outputs": [],
   "source": []
  },
  {
   "cell_type": "markdown",
   "metadata": {},
   "source": []
  },
  {
   "cell_type": "markdown",
   "metadata": {},
   "source": [
    "## Some relevant papers and resources\n",
    " -  [Efficient coalescent simulation and genealogical analysis for large sample sizes](https://doi.org/10.1371/journal.pcbi.1004842)\n",
    " - [Efficient ancestry and mutation simulation with msprime 1.0](https://doi.org/10.1093/genetics/iyab229)\n",
    " - [tskit.dev documentation](https://tskit.dev/)\n",
    " - [Georgia Tsambos' Jupyter notebooks](https://github.com/gtsambos/2022-ts-workshops)"
   ]
  },
  {
   "cell_type": "code",
   "execution_count": null,
   "metadata": {},
   "outputs": [],
   "source": []
  }
 ],
 "metadata": {
  "kernelspec": {
   "display_name": "Python 3",
   "language": "python",
   "name": "python3"
  },
  "language_info": {
   "codemirror_mode": {
    "name": "ipython",
    "version": 3
   },
   "file_extension": ".py",
   "mimetype": "text/x-python",
   "name": "python",
   "nbconvert_exporter": "python",
   "pygments_lexer": "ipython3",
   "version": "3.9.1"
  }
 },
 "nbformat": 4,
 "nbformat_minor": 2
}
